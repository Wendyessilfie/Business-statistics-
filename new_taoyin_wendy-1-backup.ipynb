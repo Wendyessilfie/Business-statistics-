{
 "cells": [
  {
   "cell_type": "markdown",
   "metadata": {},
   "source": [
    "## 0. Importing the necessary libraries and loading in data"
   ]
  },
  {
   "cell_type": "code",
   "execution_count": 2,
   "metadata": {},
   "outputs": [],
   "source": [
    "#Importing necessary libraries\n",
    "import pandas as pd\n",
    "import numpy as np\n",
    "import matplotlib.pyplot as plt\n",
    "import seaborn as sns\n",
    "from scipy import stats\n",
    "from collections import defaultdict\n",
    "from sklearn.cluster import DBSCAN\n",
    "from sklearn.preprocessing import StandardScaler\n",
    "from sklearn.cluster import KMeans\n",
    "from sklearn.decomposition import PCA\n",
    "from sklearn.metrics import silhouette_score\n"
   ]
  },
  {
   "cell_type": "code",
   "execution_count": 3,
   "metadata": {},
   "outputs": [],
   "source": [
    "#Loading in the data using pandas to read the parquet file\n",
    "TY_users = pd.read_parquet(\"/Users/wendyessilfie/Documents/GitHub/Business-statistics-/TaoYin_User_Transactions_v2.parquet\")"
   ]
  },
  {
   "cell_type": "markdown",
   "metadata": {},
   "source": [
    "## 1. Feature enginering by customers"
   ]
  },
  {
   "cell_type": "markdown",
   "metadata": {},
   "source": [
    "#### 1.1. Creating new feature of customer by profit and sales"
   ]
  },
  {
   "cell_type": "code",
   "execution_count": 4,
   "metadata": {},
   "outputs": [
    {
     "data": {
      "text/html": [
       "<div>\n",
       "<style scoped>\n",
       "    .dataframe tbody tr th:only-of-type {\n",
       "        vertical-align: middle;\n",
       "    }\n",
       "\n",
       "    .dataframe tbody tr th {\n",
       "        vertical-align: top;\n",
       "    }\n",
       "\n",
       "    .dataframe thead th {\n",
       "        text-align: right;\n",
       "    }\n",
       "</style>\n",
       "<table border=\"1\" class=\"dataframe\">\n",
       "  <thead>\n",
       "    <tr style=\"text-align: right;\">\n",
       "      <th></th>\n",
       "      <th>customer</th>\n",
       "      <th>invoice</th>\n",
       "      <th>invoice_date</th>\n",
       "      <th>articlenr</th>\n",
       "      <th>volume</th>\n",
       "      <th>sum1</th>\n",
       "      <th>sum2</th>\n",
       "      <th>postcode_delivery</th>\n",
       "      <th>postcode_customer</th>\n",
       "      <th>channel</th>\n",
       "      <th>profit</th>\n",
       "    </tr>\n",
       "  </thead>\n",
       "  <tbody>\n",
       "    <tr>\n",
       "      <th>0</th>\n",
       "      <td>2284</td>\n",
       "      <td>1187467</td>\n",
       "      <td>2020-01-02</td>\n",
       "      <td>32879960</td>\n",
       "      <td>24</td>\n",
       "      <td>343.73</td>\n",
       "      <td>362.30</td>\n",
       "      <td>80413</td>\n",
       "      <td>80413</td>\n",
       "      <td>Tel 86041</td>\n",
       "      <td>18.57</td>\n",
       "    </tr>\n",
       "    <tr>\n",
       "      <th>1</th>\n",
       "      <td>2284</td>\n",
       "      <td>1187467</td>\n",
       "      <td>2020-01-02</td>\n",
       "      <td>32879962</td>\n",
       "      <td>60</td>\n",
       "      <td>1067.64</td>\n",
       "      <td>1119.96</td>\n",
       "      <td>80413</td>\n",
       "      <td>80413</td>\n",
       "      <td>Tel 86041</td>\n",
       "      <td>52.32</td>\n",
       "    </tr>\n",
       "    <tr>\n",
       "      <th>2</th>\n",
       "      <td>2284</td>\n",
       "      <td>1187467</td>\n",
       "      <td>2020-01-02</td>\n",
       "      <td>32841810</td>\n",
       "      <td>120</td>\n",
       "      <td>2214.00</td>\n",
       "      <td>2408.40</td>\n",
       "      <td>80413</td>\n",
       "      <td>80413</td>\n",
       "      <td>Tel 86041</td>\n",
       "      <td>194.40</td>\n",
       "    </tr>\n",
       "    <tr>\n",
       "      <th>3</th>\n",
       "      <td>1704</td>\n",
       "      <td>1191447</td>\n",
       "      <td>2020-01-17</td>\n",
       "      <td>36866802</td>\n",
       "      <td>1</td>\n",
       "      <td>21.52</td>\n",
       "      <td>19.32</td>\n",
       "      <td>81724</td>\n",
       "      <td>81724</td>\n",
       "      <td>OTC 81812</td>\n",
       "      <td>-2.20</td>\n",
       "    </tr>\n",
       "    <tr>\n",
       "      <th>4</th>\n",
       "      <td>45</td>\n",
       "      <td>1187691</td>\n",
       "      <td>2020-01-03</td>\n",
       "      <td>34360272</td>\n",
       "      <td>4</td>\n",
       "      <td>28.91</td>\n",
       "      <td>28.49</td>\n",
       "      <td>81796</td>\n",
       "      <td>81796</td>\n",
       "      <td>Web Order</td>\n",
       "      <td>-0.42</td>\n",
       "    </tr>\n",
       "  </tbody>\n",
       "</table>\n",
       "</div>"
      ],
      "text/plain": [
       "   customer  invoice invoice_date  articlenr  volume     sum1     sum2  \\\n",
       "0      2284  1187467   2020-01-02   32879960      24   343.73   362.30   \n",
       "1      2284  1187467   2020-01-02   32879962      60  1067.64  1119.96   \n",
       "2      2284  1187467   2020-01-02   32841810     120  2214.00  2408.40   \n",
       "3      1704  1191447   2020-01-17   36866802       1    21.52    19.32   \n",
       "4        45  1187691   2020-01-03   34360272       4    28.91    28.49   \n",
       "\n",
       "   postcode_delivery  postcode_customer    channel  profit  \n",
       "0              80413              80413  Tel 86041   18.57  \n",
       "1              80413              80413  Tel 86041   52.32  \n",
       "2              80413              80413  Tel 86041  194.40  \n",
       "3              81724              81724  OTC 81812   -2.20  \n",
       "4              81796              81796  Web Order   -0.42  "
      ]
     },
     "execution_count": 4,
     "metadata": {},
     "output_type": "execute_result"
    }
   ],
   "source": [
    "# Calculate the 'profit' column using the formula (sum2 - sum1)\n",
    "TY_users.loc[:,\"profit\"] = (TY_users[\"sum2\"] - TY_users[\"sum1\"])\n",
    "TY_users.head()"
   ]
  },
  {
   "cell_type": "code",
   "execution_count": 5,
   "metadata": {},
   "outputs": [
    {
     "name": "stdout",
     "output_type": "stream",
     "text": [
      "   customer_  profit_sum   sales_sum\n",
      "0          0       -2.53       13.72\n",
      "1          3    10263.09   712214.87\n",
      "2          4     -736.60     3135.02\n",
      "3          5    -2220.25     2199.45\n",
      "4          6       -8.89       99.48\n",
      "5         14    33219.18  1397887.79\n",
      "6         17    -1381.80      205.80\n",
      "7         21       35.63      294.17\n",
      "8         22     -126.29     1048.19\n",
      "9         30       -8.49      289.87\n"
     ]
    }
   ],
   "source": [
    "# Grouping the dataset by customers and aggregating on profit\n",
    "TY_customer_merged = TY_users.groupby(\"customer\").agg({'profit' : ['sum'], 'sum2' : ['sum']}).reset_index()\n",
    "TY_customer_merged.head(10)\n",
    "\n",
    "# Flatten the column index\n",
    "TY_customer_merged.columns = ['_'.join(col).strip() for col in TY_customer_merged.columns.values]\n",
    "\n",
    "# Rename sales column\n",
    "TY_customer_merged = TY_customer_merged.rename(columns={'sum2_sum': 'sales_sum'})\n",
    "\n",
    "# Display the DataFrame\n",
    "print(TY_customer_merged.head(10))"
   ]
  },
  {
   "cell_type": "code",
   "execution_count": 6,
   "metadata": {},
   "outputs": [
    {
     "name": "stdout",
     "output_type": "stream",
     "text": [
      "Sum of Profit: 13312202\n",
      "Sum of Sales: 127824304\n"
     ]
    }
   ],
   "source": [
    "# Total sum of 'profit' and 'sales'\n",
    "column_sum1 = TY_customer_merged['profit_sum'].sum()\n",
    "column_sum2 = TY_customer_merged['sales_sum'].sum()\n",
    "print(\"Sum of Profit:\", int(column_sum1))\n",
    "print(\"Sum of Sales:\", int(column_sum2))"
   ]
  },
  {
   "cell_type": "markdown",
   "metadata": {},
   "source": [
    "##### * Intermediate conclusion 1.1.1 The company is profitable with a margin of ~10%"
   ]
  },
  {
   "cell_type": "code",
   "execution_count": 7,
   "metadata": {},
   "outputs": [
    {
     "data": {
      "image/png": "[encoded data removed]",
      "text/plain": [
       "<Figure size 640x480 with 1 Axes>"
      ]
     },
     "metadata": {},
     "output_type": "display_data"
    }
   ],
   "source": [
    "# Plotting the 'profit_sum' to view the distribution\n",
    "TY_customer_merged.boxplot(column='profit_sum')\n",
    "\n",
    "# Labeling the axes\n",
    "plt.title('Boxplot of Values')\n",
    "plt.ylabel('Values')\n",
    "\n",
    "# Show the plot\n",
    "plt.show()"
   ]
  },
  {
   "cell_type": "markdown",
   "metadata": {},
   "source": [
    "#### * Intermediate conclusion 1.1.2. There are outliers which will distort my analysis. I need to take care of these outliers. "
   ]
  },
  {
   "cell_type": "code",
   "execution_count": 8,
   "metadata": {},
   "outputs": [
    {
     "name": "stdout",
     "output_type": "stream",
     "text": [
      "Outliers using Z-score:\n",
      "      customer_  profit_sum   sales_sum  Sales Z-Score\n",
      "1             3    10263.09   712214.87     181.743898\n",
      "5            14    33219.18  1397887.79     357.392539\n",
      "10           34       82.02    82857.65      20.521635\n",
      "12           40    -2287.33    19653.09       4.330540\n",
      "14           42    -2465.45   104423.75      26.046217\n",
      "...         ...         ...         ...            ...\n",
      "1052       2459   -13676.74    69836.86      17.186103\n",
      "1060       2478    23093.03   149798.85      37.669943\n",
      "1062       2486     6255.48    33897.85       7.979616\n",
      "1064       2488     5513.15   224654.12      56.845597\n",
      "1069       2500   -13025.00    50832.34      12.317720\n",
      "\n",
      "[249 rows x 4 columns]\n"
     ]
    }
   ],
   "source": [
    "# Extract the outliers\n",
    "median = TY_customer_merged['sales_sum'].median()\n",
    "mad = (TY_customer_merged['sales_sum'] - median).abs().median()\n",
    "\n",
    "# calculate modified z-scores\n",
    "TY_customer_merged['Sales Z-Score'] = 0.6745 * (TY_customer_merged['sales_sum'] - median) / mad\n",
    "\n",
    "# identify outliers\n",
    "outliers = TY_customer_merged[TY_customer_merged['Sales Z-Score'].abs() > 3.5]\n",
    "\n",
    "# get a list of customer ids that are outliers\n",
    "outlier_customers = outliers['customer_'].tolist()\n",
    "\n",
    "#print list of outliers\n",
    "print(\"Outliers using Z-score:\")\n",
    "print(outliers)"
   ]
  },
  {
   "cell_type": "code",
   "execution_count": 9,
   "metadata": {},
   "outputs": [
    {
     "name": "stdout",
     "output_type": "stream",
     "text": [
      "0\n"
     ]
    },
    {
     "name": "stderr",
     "output_type": "stream",
     "text": [
      "/var/folders/fh/wbkbplv94qz11z3b8wk1mrmw0000gn/T/ipykernel_4016/1104076654.py:5: FutureWarning: A value is trying to be set on a copy of a DataFrame or Series through chained assignment using an inplace method.\n",
      "The behavior will change in pandas 3.0. This inplace method will never work because the intermediate object on which we are setting values always behaves as a copy.\n",
      "\n",
      "For example, when doing 'df[col].method(value, inplace=True)', try using 'df.method({col: value}, inplace=True)' or df[col] = df[col].method(value) instead, to perform the operation inplace on the original object.\n",
      "\n",
      "\n",
      "  TY_customer_merged['profit_sum'].replace([np.inf, -np.inf], np.nan, inplace=True)\n",
      "/var/folders/fh/wbkbplv94qz11z3b8wk1mrmw0000gn/T/ipykernel_4016/1104076654.py:8: FutureWarning: A value is trying to be set on a copy of a DataFrame or Series through chained assignment using an inplace method.\n",
      "The behavior will change in pandas 3.0. This inplace method will never work because the intermediate object on which we are setting values always behaves as a copy.\n",
      "\n",
      "For example, when doing 'df[col].method(value, inplace=True)', try using 'df.method({col: value}, inplace=True)' or df[col] = df[col].method(value) instead, to perform the operation inplace on the original object.\n",
      "\n",
      "\n",
      "  TY_customer_merged['profit_sum'].fillna(TY_customer_merged['profit_sum'].max(), inplace=True)\n"
     ]
    }
   ],
   "source": [
    "# Check if there are any infinite values in the margins_sum column\n",
    "print(TY_customer_merged['profit_sum'].isin([np.inf, -np.inf]).sum())\n",
    "\n",
    "# Replace infinite values with NaN\n",
    "TY_customer_merged['profit_sum'].replace([np.inf, -np.inf], np.nan, inplace=True)\n",
    "\n",
    "# Optionally, fill NaN values with the maximum of the non-infinite data\n",
    "TY_customer_merged['profit_sum'].fillna(TY_customer_merged['profit_sum'].max(), inplace=True)"
   ]
  },
  {
   "cell_type": "code",
   "execution_count": 10,
   "metadata": {},
   "outputs": [
    {
     "data": {
      "text/plain": [
       "profit_category\n",
       "Medium       695\n",
       "Low          195\n",
       "Very Low     132\n",
       "Very High     39\n",
       "High           9\n",
       "Name: count, dtype: int64"
      ]
     },
     "execution_count": 10,
     "metadata": {},
     "output_type": "execute_result"
    }
   ],
   "source": [
    "# Determine the min and max values of 'profit_sum' to create bins without the outliers\n",
    "filtered_df = TY_customer_merged[~TY_customer_merged['customer_'].isin(outlier_customers)]\n",
    "min_profit = filtered_df['profit_sum'].min()\n",
    "max_profit = filtered_df['profit_sum'].max()\n",
    "\n",
    "# Create evenly spaced bins for margins using min and max values\n",
    "bins = np.linspace(min_profit, max_profit, num=6)  # Creates 5 equal-width intervals\n",
    "labels = ['Very Low', 'Low', 'Medium', 'High', 'Very High']\n",
    "\n",
    "# Create profit categories based on these equal-width bins\n",
    "TY_customer_merged['profit_category'] = pd.cut(TY_customer_merged['profit_sum'], bins=bins, labels=labels, include_lowest=True)\n",
    "TY_customer_merged.loc[TY_customer_merged['profit_sum'] > max_profit, 'profit_category'] = 'Very High' # bring the outliers back\n",
    "TY_customer_merged.loc[TY_customer_merged['profit_sum'] < min_profit, 'profit_category'] = 'Very Low'  # bring the outliers back\n",
    "\n",
    "# Sort by margin category and volume\n",
    "sorted_df = TY_customer_merged.sort_values(by=['profit_category', 'sales_sum'], ascending=[True, False]).reset_index()\n",
    "\n",
    "# Display the sorted dataframe\n",
    "#print(sorted_df[['customer_', 'profit_sum', 'sales_sum', 'profit_category']].head(20))\n",
    "sorted_df['profit_category'].value_counts()"
   ]
  },
  {
   "cell_type": "code",
   "execution_count": 11,
   "metadata": {},
   "outputs": [
    {
     "data": {
      "text/html": [
       "<div>\n",
       "<style scoped>\n",
       "    .dataframe tbody tr th:only-of-type {\n",
       "        vertical-align: middle;\n",
       "    }\n",
       "\n",
       "    .dataframe tbody tr th {\n",
       "        vertical-align: top;\n",
       "    }\n",
       "\n",
       "    .dataframe thead th {\n",
       "        text-align: right;\n",
       "    }\n",
       "</style>\n",
       "<table border=\"1\" class=\"dataframe\">\n",
       "  <thead>\n",
       "    <tr style=\"text-align: right;\">\n",
       "      <th></th>\n",
       "      <th>customer_</th>\n",
       "      <th>profit_sum</th>\n",
       "      <th>sales_sum</th>\n",
       "      <th>Sales Z-Score</th>\n",
       "      <th>profit_category</th>\n",
       "    </tr>\n",
       "  </thead>\n",
       "  <tbody>\n",
       "    <tr>\n",
       "      <th>0</th>\n",
       "      <td>0</td>\n",
       "      <td>-2.53</td>\n",
       "      <td>13.72</td>\n",
       "      <td>-0.700472</td>\n",
       "      <td>Medium</td>\n",
       "    </tr>\n",
       "    <tr>\n",
       "      <th>1</th>\n",
       "      <td>3</td>\n",
       "      <td>10263.09</td>\n",
       "      <td>712214.87</td>\n",
       "      <td>181.743898</td>\n",
       "      <td>Very High</td>\n",
       "    </tr>\n",
       "    <tr>\n",
       "      <th>2</th>\n",
       "      <td>4</td>\n",
       "      <td>-736.60</td>\n",
       "      <td>3135.02</td>\n",
       "      <td>0.099111</td>\n",
       "      <td>Medium</td>\n",
       "    </tr>\n",
       "    <tr>\n",
       "      <th>3</th>\n",
       "      <td>5</td>\n",
       "      <td>-2220.25</td>\n",
       "      <td>2199.45</td>\n",
       "      <td>-0.140554</td>\n",
       "      <td>Low</td>\n",
       "    </tr>\n",
       "    <tr>\n",
       "      <th>4</th>\n",
       "      <td>6</td>\n",
       "      <td>-8.89</td>\n",
       "      <td>99.48</td>\n",
       "      <td>-0.678503</td>\n",
       "      <td>Medium</td>\n",
       "    </tr>\n",
       "  </tbody>\n",
       "</table>\n",
       "</div>"
      ],
      "text/plain": [
       "   customer_  profit_sum  sales_sum  Sales Z-Score profit_category\n",
       "0          0       -2.53      13.72      -0.700472          Medium\n",
       "1          3    10263.09  712214.87     181.743898       Very High\n",
       "2          4     -736.60    3135.02       0.099111          Medium\n",
       "3          5    -2220.25    2199.45      -0.140554             Low\n",
       "4          6       -8.89      99.48      -0.678503          Medium"
      ]
     },
     "execution_count": 11,
     "metadata": {},
     "output_type": "execute_result"
    }
   ],
   "source": [
    "TY_customer_merged.head()"
   ]
  },
  {
   "cell_type": "code",
   "execution_count": 12,
   "metadata": {},
   "outputs": [
    {
     "data": {
      "image/png": "[encoded data removed]",
      "text/plain": [
       "<Figure size 640x480 with 1 Axes>"
      ]
     },
     "metadata": {},
     "output_type": "display_data"
    }
   ],
   "source": [
    "TY_customer_merged.boxplot(column='sales_sum')\n",
    "\n",
    "# Labeling the axes\n",
    "plt.title('Boxplot of Values')\n",
    "plt.ylabel('Values')\n",
    "\n",
    "# Show the plot\n",
    "plt.show()"
   ]
  },
  {
   "cell_type": "code",
   "execution_count": 13,
   "metadata": {},
   "outputs": [
    {
     "name": "stdout",
     "output_type": "stream",
     "text": [
      "Outliers using Z-score:\n",
      "      customer_  profit_sum   sales_sum  Sales Z-Score profit_category\n",
      "1             3    10263.09   712214.87     181.743898       Very High\n",
      "5            14    33219.18  1397887.79     357.392539       Very High\n",
      "10           34       82.02    82857.65      20.521635          Medium\n",
      "12           40    -2287.33    19653.09       4.330540             Low\n",
      "14           42    -2465.45   104423.75      26.046217             Low\n",
      "...         ...         ...         ...            ...             ...\n",
      "1052       2459   -13676.74    69836.86      17.186103        Very Low\n",
      "1060       2478    23093.03   149798.85      37.669943       Very High\n",
      "1062       2486     6255.48    33897.85       7.979616       Very High\n",
      "1064       2488     5513.15   224654.12      56.845597       Very High\n",
      "1069       2500   -13025.00    50832.34      12.317720        Very Low\n",
      "\n",
      "[249 rows x 5 columns]\n"
     ]
    }
   ],
   "source": [
    "# Extract the outliers\n",
    "median = TY_customer_merged['sales_sum'].median()\n",
    "mad = (TY_customer_merged['sales_sum'] - median).abs().median()\n",
    "\n",
    "# calculate modified z-scores\n",
    "TY_customer_merged['Sales Z-Score'] = 0.6745 * (TY_customer_merged['sales_sum'] - median) / mad\n",
    "\n",
    "# identify outliers\n",
    "outliers = TY_customer_merged[TY_customer_merged['Sales Z-Score'].abs() > 3.5]\n",
    "\n",
    "# get a list of customer ids that are outliers\n",
    "outlier_customers = outliers['customer_'].tolist()\n",
    "\n",
    "#print list of outliers\n",
    "print(\"Outliers using Z-score:\")\n",
    "print(outliers)"
   ]
  },
  {
   "cell_type": "code",
   "execution_count": 14,
   "metadata": {},
   "outputs": [
    {
     "name": "stdout",
     "output_type": "stream",
     "text": [
      "0\n"
     ]
    },
    {
     "name": "stderr",
     "output_type": "stream",
     "text": [
      "/var/folders/fh/wbkbplv94qz11z3b8wk1mrmw0000gn/T/ipykernel_4016/3231130721.py:5: FutureWarning: A value is trying to be set on a copy of a DataFrame or Series through chained assignment using an inplace method.\n",
      "The behavior will change in pandas 3.0. This inplace method will never work because the intermediate object on which we are setting values always behaves as a copy.\n",
      "\n",
      "For example, when doing 'df[col].method(value, inplace=True)', try using 'df.method({col: value}, inplace=True)' or df[col] = df[col].method(value) instead, to perform the operation inplace on the original object.\n",
      "\n",
      "\n",
      "  TY_customer_merged['sales_sum'].replace([np.inf, -np.inf], np.nan, inplace=True)\n",
      "/var/folders/fh/wbkbplv94qz11z3b8wk1mrmw0000gn/T/ipykernel_4016/3231130721.py:8: FutureWarning: A value is trying to be set on a copy of a DataFrame or Series through chained assignment using an inplace method.\n",
      "The behavior will change in pandas 3.0. This inplace method will never work because the intermediate object on which we are setting values always behaves as a copy.\n",
      "\n",
      "For example, when doing 'df[col].method(value, inplace=True)', try using 'df.method({col: value}, inplace=True)' or df[col] = df[col].method(value) instead, to perform the operation inplace on the original object.\n",
      "\n",
      "\n",
      "  TY_customer_merged['sales_sum'].fillna(TY_customer_merged['sales_sum'].max(), inplace=True)\n"
     ]
    }
   ],
   "source": [
    "# Check if there are any infinite values in the margins_sum column\n",
    "print(TY_customer_merged['sales_sum'].isin([np.inf, -np.inf]).sum())\n",
    "\n",
    "# Replace infinite values with NaN\n",
    "TY_customer_merged['sales_sum'].replace([np.inf, -np.inf], np.nan, inplace=True)\n",
    "\n",
    "# Optionally, fill NaN values with the maximum of the non-infinite data\n",
    "TY_customer_merged['sales_sum'].fillna(TY_customer_merged['sales_sum'].max(), inplace=True)"
   ]
  },
  {
   "cell_type": "code",
   "execution_count": 15,
   "metadata": {},
   "outputs": [
    {
     "data": {
      "text/html": [
       "<div>\n",
       "<style scoped>\n",
       "    .dataframe tbody tr th:only-of-type {\n",
       "        vertical-align: middle;\n",
       "    }\n",
       "\n",
       "    .dataframe tbody tr th {\n",
       "        vertical-align: top;\n",
       "    }\n",
       "\n",
       "    .dataframe thead th {\n",
       "        text-align: right;\n",
       "    }\n",
       "</style>\n",
       "<table border=\"1\" class=\"dataframe\">\n",
       "  <thead>\n",
       "    <tr style=\"text-align: right;\">\n",
       "      <th></th>\n",
       "      <th>customer_</th>\n",
       "      <th>profit_sum</th>\n",
       "      <th>sales_sum</th>\n",
       "      <th>Sales Z-Score</th>\n",
       "      <th>profit_category</th>\n",
       "    </tr>\n",
       "  </thead>\n",
       "  <tbody>\n",
       "    <tr>\n",
       "      <th>0</th>\n",
       "      <td>0</td>\n",
       "      <td>-2.53</td>\n",
       "      <td>13.72</td>\n",
       "      <td>-0.700472</td>\n",
       "      <td>Medium</td>\n",
       "    </tr>\n",
       "    <tr>\n",
       "      <th>1</th>\n",
       "      <td>3</td>\n",
       "      <td>10263.09</td>\n",
       "      <td>712214.87</td>\n",
       "      <td>181.743898</td>\n",
       "      <td>Very High</td>\n",
       "    </tr>\n",
       "    <tr>\n",
       "      <th>2</th>\n",
       "      <td>4</td>\n",
       "      <td>-736.60</td>\n",
       "      <td>3135.02</td>\n",
       "      <td>0.099111</td>\n",
       "      <td>Medium</td>\n",
       "    </tr>\n",
       "    <tr>\n",
       "      <th>3</th>\n",
       "      <td>5</td>\n",
       "      <td>-2220.25</td>\n",
       "      <td>2199.45</td>\n",
       "      <td>-0.140554</td>\n",
       "      <td>Low</td>\n",
       "    </tr>\n",
       "    <tr>\n",
       "      <th>4</th>\n",
       "      <td>6</td>\n",
       "      <td>-8.89</td>\n",
       "      <td>99.48</td>\n",
       "      <td>-0.678503</td>\n",
       "      <td>Medium</td>\n",
       "    </tr>\n",
       "  </tbody>\n",
       "</table>\n",
       "</div>"
      ],
      "text/plain": [
       "   customer_  profit_sum  sales_sum  Sales Z-Score profit_category\n",
       "0          0       -2.53      13.72      -0.700472          Medium\n",
       "1          3    10263.09  712214.87     181.743898       Very High\n",
       "2          4     -736.60    3135.02       0.099111          Medium\n",
       "3          5    -2220.25    2199.45      -0.140554             Low\n",
       "4          6       -8.89      99.48      -0.678503          Medium"
      ]
     },
     "execution_count": 15,
     "metadata": {},
     "output_type": "execute_result"
    }
   ],
   "source": [
    "TY_customer_merged.head()"
   ]
  },
  {
   "cell_type": "code",
   "execution_count": 16,
   "metadata": {},
   "outputs": [
    {
     "name": "stdout",
     "output_type": "stream",
     "text": [
      "    customer_  profit_sum profit_category  sales_sum sales_category\n",
      "0        2473     -489.40          Medium    3272.79       Very Low\n",
      "1        2133     -909.83             Low    3256.96       Very Low\n",
      "2        1763     -395.94          Medium    3243.55       Very Low\n",
      "3        1887    -4207.50        Very Low    3230.00       Very Low\n",
      "4        2040     -445.39          Medium    3223.08       Very Low\n",
      "5        2377       21.06          Medium    3217.90       Very Low\n",
      "6         788     -211.76          Medium    3213.54       Very Low\n",
      "7        1558    -1061.22             Low    3178.84       Very Low\n",
      "8         287      240.07          Medium    3165.09       Very Low\n",
      "9        2209      153.01          Medium    3160.30       Very Low\n",
      "10        811    -1221.84             Low    3153.63       Very Low\n",
      "11       1294       25.52          Medium    3148.57       Very Low\n",
      "12          4     -736.60          Medium    3135.02       Very Low\n",
      "13       1384     -976.54             Low    3113.47       Very Low\n",
      "14       2175     -977.11             Low    3035.60       Very Low\n",
      "15        294     -430.29          Medium    2997.55       Very Low\n",
      "16       1940     -458.50          Medium    2951.24       Very Low\n",
      "17        278     -368.94          Medium    2951.21       Very Low\n",
      "18       1264     -699.54          Medium    2947.08       Very Low\n",
      "19       2216    -1048.44             Low    2940.84       Very Low\n"
     ]
    }
   ],
   "source": [
    "# Determine the min and max values of 'profit_sum' to create bins without the outliers\n",
    "filtered_df = TY_customer_merged[~TY_customer_merged['customer_'].isin(outlier_customers)]\n",
    "min_profit = filtered_df['sales_sum'].min()\n",
    "max_profit = filtered_df['sales_sum'].max()\n",
    "\n",
    "# Create evenly spaced bins for sales using min and max values\n",
    "bins = np.linspace(min_profit, max_profit, num=6)  # Creates 5 equal-width intervals\n",
    "labels = ['Very Low', 'Low', 'Medium', 'High', 'Very High']\n",
    "\n",
    "# Create profit categories based on these equal-width bins\n",
    "TY_customer_merged['sales_category'] = pd.cut(TY_customer_merged['sales_sum'], bins=bins, labels=labels, include_lowest=True)\n",
    "TY_customer_merged.loc[TY_customer_merged['sales_sum'] > max_profit, 'sales_category'] = 'Very High' # bring the outliers back\n",
    "TY_customer_merged.loc[TY_customer_merged['sales_sum'] < min_profit, 'sales_category'] = 'Very Low'  # bring the outliers back\n",
    "\n",
    "# Sort by sales category and volume\n",
    "sorted_df = TY_customer_merged.sort_values(by=['sales_category', 'sales_sum'], ascending=[True, False]).reset_index()\n",
    "\n",
    "# Display the sorted dataframe\n",
    "sorted_df['sales_category'].value_counts()\n",
    "print(sorted_df[['customer_', 'profit_sum','profit_category','sales_sum', 'sales_category']].head(20))\n"
   ]
  },
  {
   "cell_type": "code",
   "execution_count": 17,
   "metadata": {},
   "outputs": [
    {
     "data": {
      "text/html": [
       "<div>\n",
       "<style scoped>\n",
       "    .dataframe tbody tr th:only-of-type {\n",
       "        vertical-align: middle;\n",
       "    }\n",
       "\n",
       "    .dataframe tbody tr th {\n",
       "        vertical-align: top;\n",
       "    }\n",
       "\n",
       "    .dataframe thead th {\n",
       "        text-align: right;\n",
       "    }\n",
       "</style>\n",
       "<table border=\"1\" class=\"dataframe\">\n",
       "  <thead>\n",
       "    <tr style=\"text-align: right;\">\n",
       "      <th></th>\n",
       "      <th>customer_</th>\n",
       "      <th>profit_very_low</th>\n",
       "      <th>profit_low</th>\n",
       "      <th>profit_medium</th>\n",
       "      <th>profit_high</th>\n",
       "      <th>profit_very_high</th>\n",
       "      <th>sales_very_low</th>\n",
       "      <th>sales_low</th>\n",
       "      <th>sales_medium</th>\n",
       "      <th>sales_high</th>\n",
       "      <th>sales_very_high</th>\n",
       "    </tr>\n",
       "  </thead>\n",
       "  <tbody>\n",
       "    <tr>\n",
       "      <th>0</th>\n",
       "      <td>0</td>\n",
       "      <td>0</td>\n",
       "      <td>0</td>\n",
       "      <td>1</td>\n",
       "      <td>0</td>\n",
       "      <td>0</td>\n",
       "      <td>1</td>\n",
       "      <td>0</td>\n",
       "      <td>0</td>\n",
       "      <td>0</td>\n",
       "      <td>0</td>\n",
       "    </tr>\n",
       "    <tr>\n",
       "      <th>1</th>\n",
       "      <td>3</td>\n",
       "      <td>0</td>\n",
       "      <td>0</td>\n",
       "      <td>0</td>\n",
       "      <td>0</td>\n",
       "      <td>1</td>\n",
       "      <td>0</td>\n",
       "      <td>0</td>\n",
       "      <td>0</td>\n",
       "      <td>0</td>\n",
       "      <td>1</td>\n",
       "    </tr>\n",
       "    <tr>\n",
       "      <th>2</th>\n",
       "      <td>4</td>\n",
       "      <td>0</td>\n",
       "      <td>0</td>\n",
       "      <td>1</td>\n",
       "      <td>0</td>\n",
       "      <td>0</td>\n",
       "      <td>1</td>\n",
       "      <td>0</td>\n",
       "      <td>0</td>\n",
       "      <td>0</td>\n",
       "      <td>0</td>\n",
       "    </tr>\n",
       "    <tr>\n",
       "      <th>3</th>\n",
       "      <td>5</td>\n",
       "      <td>0</td>\n",
       "      <td>1</td>\n",
       "      <td>0</td>\n",
       "      <td>0</td>\n",
       "      <td>0</td>\n",
       "      <td>1</td>\n",
       "      <td>0</td>\n",
       "      <td>0</td>\n",
       "      <td>0</td>\n",
       "      <td>0</td>\n",
       "    </tr>\n",
       "    <tr>\n",
       "      <th>4</th>\n",
       "      <td>6</td>\n",
       "      <td>0</td>\n",
       "      <td>0</td>\n",
       "      <td>1</td>\n",
       "      <td>0</td>\n",
       "      <td>0</td>\n",
       "      <td>1</td>\n",
       "      <td>0</td>\n",
       "      <td>0</td>\n",
       "      <td>0</td>\n",
       "      <td>0</td>\n",
       "    </tr>\n",
       "  </tbody>\n",
       "</table>\n",
       "</div>"
      ],
      "text/plain": [
       "   customer_  profit_very_low  profit_low  profit_medium  profit_high  \\\n",
       "0          0                0           0              1            0   \n",
       "1          3                0           0              0            0   \n",
       "2          4                0           0              1            0   \n",
       "3          5                0           1              0            0   \n",
       "4          6                0           0              1            0   \n",
       "\n",
       "   profit_very_high  sales_very_low  sales_low  sales_medium  sales_high  \\\n",
       "0                 0               1          0             0           0   \n",
       "1                 1               0          0             0           0   \n",
       "2                 0               1          0             0           0   \n",
       "3                 0               1          0             0           0   \n",
       "4                 0               1          0             0           0   \n",
       "\n",
       "   sales_very_high  \n",
       "0                0  \n",
       "1                1  \n",
       "2                0  \n",
       "3                0  \n",
       "4                0  "
      ]
     },
     "execution_count": 17,
     "metadata": {},
     "output_type": "execute_result"
    }
   ],
   "source": [
    "# create new dataframe to one hot encode profit and sales columns\n",
    "customers_features = TY_customer_merged[['customer_', 'profit_category', 'sales_category']].copy()\n",
    "\n",
    "# one-hot encode profit and sales columns\n",
    "customers_features = pd.get_dummies(customers_features, columns=['profit_category', 'sales_category'], prefix=['profit', 'sales'])\n",
    "\n",
    "# convert boolean values to binary\n",
    "customers_features = customers_features.astype(int)\n",
    "\n",
    "# convert column names to lowercase and add underscore between words\n",
    "customers_features.columns = customers_features.columns.str.replace(' ', '_').str.lower()\n",
    "\n",
    "# print df head\n",
    "customers_features.head()"
   ]
  },
  {
   "cell_type": "markdown",
   "metadata": {},
   "source": [
    "#### 1.2. Creating new feature of customer by volume"
   ]
  },
  {
   "cell_type": "code",
   "execution_count": 18,
   "metadata": {},
   "outputs": [
    {
     "data": {
      "text/html": [
       "<div>\n",
       "<style scoped>\n",
       "    .dataframe tbody tr th:only-of-type {\n",
       "        vertical-align: middle;\n",
       "    }\n",
       "\n",
       "    .dataframe tbody tr th {\n",
       "        vertical-align: top;\n",
       "    }\n",
       "\n",
       "    .dataframe thead th {\n",
       "        text-align: right;\n",
       "    }\n",
       "</style>\n",
       "<table border=\"1\" class=\"dataframe\">\n",
       "  <thead>\n",
       "    <tr style=\"text-align: right;\">\n",
       "      <th></th>\n",
       "      <th>customer</th>\n",
       "      <th>volume_sum</th>\n",
       "      <th>log_volume_sum</th>\n",
       "    </tr>\n",
       "  </thead>\n",
       "  <tbody>\n",
       "    <tr>\n",
       "      <th>0</th>\n",
       "      <td>0</td>\n",
       "      <td>1</td>\n",
       "      <td>0.693147</td>\n",
       "    </tr>\n",
       "    <tr>\n",
       "      <th>1</th>\n",
       "      <td>3</td>\n",
       "      <td>293321</td>\n",
       "      <td>12.589026</td>\n",
       "    </tr>\n",
       "    <tr>\n",
       "      <th>2</th>\n",
       "      <td>4</td>\n",
       "      <td>1315</td>\n",
       "      <td>7.182352</td>\n",
       "    </tr>\n",
       "    <tr>\n",
       "      <th>3</th>\n",
       "      <td>5</td>\n",
       "      <td>161</td>\n",
       "      <td>5.087596</td>\n",
       "    </tr>\n",
       "    <tr>\n",
       "      <th>4</th>\n",
       "      <td>6</td>\n",
       "      <td>3</td>\n",
       "      <td>1.386294</td>\n",
       "    </tr>\n",
       "    <tr>\n",
       "      <th>...</th>\n",
       "      <td>...</td>\n",
       "      <td>...</td>\n",
       "      <td>...</td>\n",
       "    </tr>\n",
       "    <tr>\n",
       "      <th>1065</th>\n",
       "      <td>2491</td>\n",
       "      <td>342</td>\n",
       "      <td>5.837730</td>\n",
       "    </tr>\n",
       "    <tr>\n",
       "      <th>1066</th>\n",
       "      <td>2492</td>\n",
       "      <td>3634</td>\n",
       "      <td>8.198364</td>\n",
       "    </tr>\n",
       "    <tr>\n",
       "      <th>1067</th>\n",
       "      <td>2493</td>\n",
       "      <td>84</td>\n",
       "      <td>4.442651</td>\n",
       "    </tr>\n",
       "    <tr>\n",
       "      <th>1068</th>\n",
       "      <td>2496</td>\n",
       "      <td>117</td>\n",
       "      <td>4.770685</td>\n",
       "    </tr>\n",
       "    <tr>\n",
       "      <th>1069</th>\n",
       "      <td>2500</td>\n",
       "      <td>27348</td>\n",
       "      <td>10.216435</td>\n",
       "    </tr>\n",
       "  </tbody>\n",
       "</table>\n",
       "<p>1070 rows × 3 columns</p>\n",
       "</div>"
      ],
      "text/plain": [
       "      customer  volume_sum  log_volume_sum\n",
       "0            0           1        0.693147\n",
       "1            3      293321       12.589026\n",
       "2            4        1315        7.182352\n",
       "3            5         161        5.087596\n",
       "4            6           3        1.386294\n",
       "...        ...         ...             ...\n",
       "1065      2491         342        5.837730\n",
       "1066      2492        3634        8.198364\n",
       "1067      2493          84        4.442651\n",
       "1068      2496         117        4.770685\n",
       "1069      2500       27348       10.216435\n",
       "\n",
       "[1070 rows x 3 columns]"
      ]
     },
     "execution_count": 18,
     "metadata": {},
     "output_type": "execute_result"
    }
   ],
   "source": [
    "# Group by 'customer' and calculate the sum of volumes for each customer\n",
    "volume_sum_df = TY_users.groupby('customer').agg(volume_sum=('volume', 'sum'),).reset_index()     # Sum of volumes for each customer \n",
    "\n",
    "# Add a new column for the log of volume_sum\n",
    "# Using np.log1p to handle cases where volume_sum might be zero\n",
    "volume_sum_df['log_volume_sum'] = np.log1p(volume_sum_df['volume_sum'])\n",
    "\n",
    "# Display the resulting dataframe with the log-transformed column\n",
    "volume_sum_df"
   ]
  },
  {
   "cell_type": "code",
   "execution_count": 19,
   "metadata": {},
   "outputs": [
    {
     "data": {
      "image/png": "[encoded data removed]",
      "text/plain": [
       "<Figure size 640x480 with 1 Axes>"
      ]
     },
     "metadata": {},
     "output_type": "display_data"
    }
   ],
   "source": [
    "# Plotting the data for 'volume_sum' in a boxplot\n",
    "volume_sum_df.boxplot(column='log_volume_sum')\n",
    "\n",
    "# Labeling the axes\n",
    "plt.title('Boxplot of Values volume sum')\n",
    "plt.ylabel('Values')\n",
    "\n",
    "# Show the plot\n",
    "plt.show()"
   ]
  },
  {
   "cell_type": "code",
   "execution_count": 20,
   "metadata": {},
   "outputs": [
    {
     "name": "stdout",
     "output_type": "stream",
     "text": [
      "      customer  volume_sum  log_volume_sum volume_category\n",
      "0            0           1        0.693147        Very Low\n",
      "1            3      293321       12.589026            High\n",
      "2            4        1315        7.182352          Medium\n",
      "3            5         161        5.087596             Low\n",
      "4            6           3        1.386294        Very Low\n",
      "...        ...         ...             ...             ...\n",
      "1065      2491         342        5.837730             Low\n",
      "1066      2492        3634        8.198364          Medium\n",
      "1067      2493          84        4.442651             Low\n",
      "1068      2496         117        4.770685             Low\n",
      "1069      2500       27348       10.216435            High\n",
      "\n",
      "[1070 rows x 4 columns]\n"
     ]
    }
   ],
   "source": [
    "# Create 5 bins based on the log-transformed data\n",
    "volume_sum_df['volume_category'] = pd.cut(volume_sum_df['log_volume_sum'],   # The log-transformed volume data\n",
    "bins=5,                                                                      # Number of bins\n",
    "labels=[\"Very Low\", \"Low\", \"Medium\", \"High\", \"Very High\"])\n",
    "\n",
    "# Display the resulting dataframe with volume categories\n",
    "print(volume_sum_df[['customer', 'volume_sum', 'log_volume_sum', 'volume_category']])"
   ]
  },
  {
   "cell_type": "code",
   "execution_count": 21,
   "metadata": {},
   "outputs": [
    {
     "data": {
      "text/plain": [
       "volume_category\n",
       "Medium       362\n",
       "Low          303\n",
       "Very Low     228\n",
       "High         159\n",
       "Very High     18\n",
       "Name: count, dtype: int64"
      ]
     },
     "execution_count": 21,
     "metadata": {},
     "output_type": "execute_result"
    }
   ],
   "source": [
    "# Counting the customers in the categories\n",
    "volume_sum_df['volume_category'].value_counts()"
   ]
  },
  {
   "cell_type": "code",
   "execution_count": 22,
   "metadata": {},
   "outputs": [
    {
     "data": {
      "text/html": [
       "<div>\n",
       "<style scoped>\n",
       "    .dataframe tbody tr th:only-of-type {\n",
       "        vertical-align: middle;\n",
       "    }\n",
       "\n",
       "    .dataframe tbody tr th {\n",
       "        vertical-align: top;\n",
       "    }\n",
       "\n",
       "    .dataframe thead th {\n",
       "        text-align: right;\n",
       "    }\n",
       "</style>\n",
       "<table border=\"1\" class=\"dataframe\">\n",
       "  <thead>\n",
       "    <tr style=\"text-align: right;\">\n",
       "      <th></th>\n",
       "      <th>customer</th>\n",
       "      <th>volume_category</th>\n",
       "    </tr>\n",
       "  </thead>\n",
       "  <tbody>\n",
       "    <tr>\n",
       "      <th>0</th>\n",
       "      <td>0</td>\n",
       "      <td>Very Low</td>\n",
       "    </tr>\n",
       "    <tr>\n",
       "      <th>1</th>\n",
       "      <td>3</td>\n",
       "      <td>High</td>\n",
       "    </tr>\n",
       "    <tr>\n",
       "      <th>2</th>\n",
       "      <td>4</td>\n",
       "      <td>Medium</td>\n",
       "    </tr>\n",
       "    <tr>\n",
       "      <th>3</th>\n",
       "      <td>5</td>\n",
       "      <td>Low</td>\n",
       "    </tr>\n",
       "    <tr>\n",
       "      <th>4</th>\n",
       "      <td>6</td>\n",
       "      <td>Very Low</td>\n",
       "    </tr>\n",
       "    <tr>\n",
       "      <th>...</th>\n",
       "      <td>...</td>\n",
       "      <td>...</td>\n",
       "    </tr>\n",
       "    <tr>\n",
       "      <th>1065</th>\n",
       "      <td>2491</td>\n",
       "      <td>Low</td>\n",
       "    </tr>\n",
       "    <tr>\n",
       "      <th>1066</th>\n",
       "      <td>2492</td>\n",
       "      <td>Medium</td>\n",
       "    </tr>\n",
       "    <tr>\n",
       "      <th>1067</th>\n",
       "      <td>2493</td>\n",
       "      <td>Low</td>\n",
       "    </tr>\n",
       "    <tr>\n",
       "      <th>1068</th>\n",
       "      <td>2496</td>\n",
       "      <td>Low</td>\n",
       "    </tr>\n",
       "    <tr>\n",
       "      <th>1069</th>\n",
       "      <td>2500</td>\n",
       "      <td>High</td>\n",
       "    </tr>\n",
       "  </tbody>\n",
       "</table>\n",
       "<p>1070 rows × 2 columns</p>\n",
       "</div>"
      ],
      "text/plain": [
       "      customer volume_category\n",
       "0            0        Very Low\n",
       "1            3            High\n",
       "2            4          Medium\n",
       "3            5             Low\n",
       "4            6        Very Low\n",
       "...        ...             ...\n",
       "1065      2491             Low\n",
       "1066      2492          Medium\n",
       "1067      2493             Low\n",
       "1068      2496             Low\n",
       "1069      2500            High\n",
       "\n",
       "[1070 rows x 2 columns]"
      ]
     },
     "execution_count": 22,
     "metadata": {},
     "output_type": "execute_result"
    }
   ],
   "source": [
    "# Creating df_volume with only necessary colums\n",
    "df_volume = volume_sum_df[['customer', 'volume_category']]\n",
    "df_volume"
   ]
  },
  {
   "cell_type": "code",
   "execution_count": 23,
   "metadata": {},
   "outputs": [
    {
     "data": {
      "text/html": [
       "<div>\n",
       "<style scoped>\n",
       "    .dataframe tbody tr th:only-of-type {\n",
       "        vertical-align: middle;\n",
       "    }\n",
       "\n",
       "    .dataframe tbody tr th {\n",
       "        vertical-align: top;\n",
       "    }\n",
       "\n",
       "    .dataframe thead th {\n",
       "        text-align: right;\n",
       "    }\n",
       "</style>\n",
       "<table border=\"1\" class=\"dataframe\">\n",
       "  <thead>\n",
       "    <tr style=\"text-align: right;\">\n",
       "      <th></th>\n",
       "      <th>customer</th>\n",
       "      <th>volume_very_low</th>\n",
       "      <th>volume_low</th>\n",
       "      <th>volume_medium</th>\n",
       "      <th>volume_high</th>\n",
       "      <th>volume_very_high</th>\n",
       "    </tr>\n",
       "  </thead>\n",
       "  <tbody>\n",
       "    <tr>\n",
       "      <th>0</th>\n",
       "      <td>0</td>\n",
       "      <td>1</td>\n",
       "      <td>0</td>\n",
       "      <td>0</td>\n",
       "      <td>0</td>\n",
       "      <td>0</td>\n",
       "    </tr>\n",
       "    <tr>\n",
       "      <th>1</th>\n",
       "      <td>3</td>\n",
       "      <td>0</td>\n",
       "      <td>0</td>\n",
       "      <td>0</td>\n",
       "      <td>1</td>\n",
       "      <td>0</td>\n",
       "    </tr>\n",
       "    <tr>\n",
       "      <th>2</th>\n",
       "      <td>4</td>\n",
       "      <td>0</td>\n",
       "      <td>0</td>\n",
       "      <td>1</td>\n",
       "      <td>0</td>\n",
       "      <td>0</td>\n",
       "    </tr>\n",
       "    <tr>\n",
       "      <th>3</th>\n",
       "      <td>5</td>\n",
       "      <td>0</td>\n",
       "      <td>1</td>\n",
       "      <td>0</td>\n",
       "      <td>0</td>\n",
       "      <td>0</td>\n",
       "    </tr>\n",
       "    <tr>\n",
       "      <th>4</th>\n",
       "      <td>6</td>\n",
       "      <td>1</td>\n",
       "      <td>0</td>\n",
       "      <td>0</td>\n",
       "      <td>0</td>\n",
       "      <td>0</td>\n",
       "    </tr>\n",
       "    <tr>\n",
       "      <th>...</th>\n",
       "      <td>...</td>\n",
       "      <td>...</td>\n",
       "      <td>...</td>\n",
       "      <td>...</td>\n",
       "      <td>...</td>\n",
       "      <td>...</td>\n",
       "    </tr>\n",
       "    <tr>\n",
       "      <th>1065</th>\n",
       "      <td>2491</td>\n",
       "      <td>0</td>\n",
       "      <td>1</td>\n",
       "      <td>0</td>\n",
       "      <td>0</td>\n",
       "      <td>0</td>\n",
       "    </tr>\n",
       "    <tr>\n",
       "      <th>1066</th>\n",
       "      <td>2492</td>\n",
       "      <td>0</td>\n",
       "      <td>0</td>\n",
       "      <td>1</td>\n",
       "      <td>0</td>\n",
       "      <td>0</td>\n",
       "    </tr>\n",
       "    <tr>\n",
       "      <th>1067</th>\n",
       "      <td>2493</td>\n",
       "      <td>0</td>\n",
       "      <td>1</td>\n",
       "      <td>0</td>\n",
       "      <td>0</td>\n",
       "      <td>0</td>\n",
       "    </tr>\n",
       "    <tr>\n",
       "      <th>1068</th>\n",
       "      <td>2496</td>\n",
       "      <td>0</td>\n",
       "      <td>1</td>\n",
       "      <td>0</td>\n",
       "      <td>0</td>\n",
       "      <td>0</td>\n",
       "    </tr>\n",
       "    <tr>\n",
       "      <th>1069</th>\n",
       "      <td>2500</td>\n",
       "      <td>0</td>\n",
       "      <td>0</td>\n",
       "      <td>0</td>\n",
       "      <td>1</td>\n",
       "      <td>0</td>\n",
       "    </tr>\n",
       "  </tbody>\n",
       "</table>\n",
       "<p>1070 rows × 6 columns</p>\n",
       "</div>"
      ],
      "text/plain": [
       "      customer  volume_very_low  volume_low  volume_medium  volume_high  \\\n",
       "0            0                1           0              0            0   \n",
       "1            3                0           0              0            1   \n",
       "2            4                0           0              1            0   \n",
       "3            5                0           1              0            0   \n",
       "4            6                1           0              0            0   \n",
       "...        ...              ...         ...            ...          ...   \n",
       "1065      2491                0           1              0            0   \n",
       "1066      2492                0           0              1            0   \n",
       "1067      2493                0           1              0            0   \n",
       "1068      2496                0           1              0            0   \n",
       "1069      2500                0           0              0            1   \n",
       "\n",
       "      volume_very_high  \n",
       "0                    0  \n",
       "1                    0  \n",
       "2                    0  \n",
       "3                    0  \n",
       "4                    0  \n",
       "...                ...  \n",
       "1065                 0  \n",
       "1066                 0  \n",
       "1067                 0  \n",
       "1068                 0  \n",
       "1069                 0  \n",
       "\n",
       "[1070 rows x 6 columns]"
      ]
     },
     "execution_count": 23,
     "metadata": {},
     "output_type": "execute_result"
    }
   ],
   "source": [
    "# Create a new dataframe and one-hot encode the 'volume_category' column\n",
    "df_volume_encoded = pd.get_dummies(df_volume, columns=['volume_category'], prefix='volume')\n",
    "\n",
    "# Convert boolean values to binary (just in case any boolean data is present)\n",
    "df_volume_encoded = df_volume_encoded.astype(int)\n",
    "\n",
    "# Convert column names to lowercase and replace spaces with underscores\n",
    "df_volume_encoded.columns = df_volume_encoded.columns.str.replace(' ', '_').str.lower()\n",
    "\n",
    "# Display the first few rows of the dataframe\n",
    "df_volume_encoded\n"
   ]
  },
  {
   "cell_type": "markdown",
   "metadata": {},
   "source": [
    "#### 1.3. Creating new feature of customer by discount"
   ]
  },
  {
   "cell_type": "code",
   "execution_count": 81,
   "metadata": {},
   "outputs": [
    {
     "data": {
      "text/html": [
       "<div>\n",
       "<style scoped>\n",
       "    .dataframe tbody tr th:only-of-type {\n",
       "        vertical-align: middle;\n",
       "    }\n",
       "\n",
       "    .dataframe tbody tr th {\n",
       "        vertical-align: top;\n",
       "    }\n",
       "\n",
       "    .dataframe thead th {\n",
       "        text-align: right;\n",
       "    }\n",
       "</style>\n",
       "<table border=\"1\" class=\"dataframe\">\n",
       "  <thead>\n",
       "    <tr style=\"text-align: right;\">\n",
       "      <th></th>\n",
       "      <th>customer</th>\n",
       "      <th>artikelnr</th>\n",
       "      <th>discount</th>\n",
       "      <th>discount_rate</th>\n",
       "      <th>discount_perc</th>\n",
       "    </tr>\n",
       "  </thead>\n",
       "  <tbody>\n",
       "    <tr>\n",
       "      <th>0</th>\n",
       "      <td>0</td>\n",
       "      <td>34575542</td>\n",
       "      <td>1</td>\n",
       "      <td>15.569231</td>\n",
       "      <td>1.000000</td>\n",
       "    </tr>\n",
       "    <tr>\n",
       "      <th>1</th>\n",
       "      <td>3</td>\n",
       "      <td>34390038</td>\n",
       "      <td>1558</td>\n",
       "      <td>11.041620</td>\n",
       "      <td>0.640625</td>\n",
       "    </tr>\n",
       "    <tr>\n",
       "      <th>2</th>\n",
       "      <td>4</td>\n",
       "      <td>35803822</td>\n",
       "      <td>103</td>\n",
       "      <td>22.312268</td>\n",
       "      <td>0.944954</td>\n",
       "    </tr>\n",
       "    <tr>\n",
       "      <th>3</th>\n",
       "      <td>5</td>\n",
       "      <td>28476112</td>\n",
       "      <td>31</td>\n",
       "      <td>30.569566</td>\n",
       "      <td>0.939394</td>\n",
       "    </tr>\n",
       "    <tr>\n",
       "      <th>4</th>\n",
       "      <td>6</td>\n",
       "      <td>35606348</td>\n",
       "      <td>3</td>\n",
       "      <td>7.843936</td>\n",
       "      <td>1.000000</td>\n",
       "    </tr>\n",
       "  </tbody>\n",
       "</table>\n",
       "</div>"
      ],
      "text/plain": [
       "   customer  artikelnr  discount  discount_rate  discount_perc\n",
       "0         0   34575542         1      15.569231       1.000000\n",
       "1         3   34390038      1558      11.041620       0.640625\n",
       "2         4   35803822       103      22.312268       0.944954\n",
       "3         5   28476112        31      30.569566       0.939394\n",
       "4         6   35606348         3       7.843936       1.000000"
      ]
     },
     "execution_count": 81,
     "metadata": {},
     "output_type": "execute_result"
    }
   ],
   "source": [
    "# Create a new dataframe with only the necessary columns from the original dataframe\n",
    "df_discount = TY_users[['customer', 'articlenr', 'sum1', 'sum2']].copy()\n",
    "\n",
    "# Determine if there was a discount: giving a 1 if sum2 (paid) is less than sum1 (original), otherwise 0\n",
    "df_discount['discount'] = df_discount.apply(lambda row: 1 if row['sum2'] < row['sum1'] else 0, axis=1)\n",
    "\n",
    "# Calculate the discount rate as a percentage if there was a discount\n",
    "df_discount['discount_rate'] = df_discount.apply(lambda row: ((row['sum1'] - row['sum2']) / row['sum1'] * 100) if row['discount'] == 1 else 0,axis=1)\n",
    "\n",
    "# Group by 'customer' and aggregate and including discount frequency\n",
    "df_discount = df_discount.groupby('customer').agg(\n",
    "    artikelnr=('articlenr', 'first'),                 # Keep the first artikelnr per customer\n",
    "    discount=('discount', 'sum'),                     # Number of discounted transactions\n",
    "    discount_rate=('discount_rate', 'mean'),          # Average discount rate per customer\n",
    "    discount_perc=('discount', 'mean')           # Frequency of discount as a percentage of total transactions\n",
    ").reset_index()\n",
    "\n",
    "# Display the resulting DataFrame\n",
    "df_discount.head()"
   ]
  },
  {
   "cell_type": "code",
   "execution_count": 82,
   "metadata": {},
   "outputs": [
    {
     "data": {
      "image/png": "[encoded data removed]",
      "text/plain": [
       "<Figure size 700x300 with 1 Axes>"
      ]
     },
     "metadata": {},
     "output_type": "display_data"
    }
   ],
   "source": [
    "# Ploting a histogram of the discount rates\n",
    "plt.figure(figsize=(7, 3))\n",
    "plt.hist(df_discount['discount_rate'], bins=20, edgecolor='black', color='hotpink')\n",
    "plt.xlabel('Discount Rate (%)')\n",
    "plt.ylabel('Frequency')\n",
    "plt.title('Distribution of Discount Rates')\n",
    "plt.show()"
   ]
  },
  {
   "cell_type": "code",
   "execution_count": 83,
   "metadata": {},
   "outputs": [
    {
     "data": {
      "text/html": [
       "<div>\n",
       "<style scoped>\n",
       "    .dataframe tbody tr th:only-of-type {\n",
       "        vertical-align: middle;\n",
       "    }\n",
       "\n",
       "    .dataframe tbody tr th {\n",
       "        vertical-align: top;\n",
       "    }\n",
       "\n",
       "    .dataframe thead th {\n",
       "        text-align: right;\n",
       "    }\n",
       "</style>\n",
       "<table border=\"1\" class=\"dataframe\">\n",
       "  <thead>\n",
       "    <tr style=\"text-align: right;\">\n",
       "      <th></th>\n",
       "      <th>customer</th>\n",
       "      <th>artikelnr</th>\n",
       "      <th>discount</th>\n",
       "      <th>discount_rate</th>\n",
       "      <th>discount_perc</th>\n",
       "      <th>discount_rate_category</th>\n",
       "    </tr>\n",
       "  </thead>\n",
       "  <tbody>\n",
       "    <tr>\n",
       "      <th>0</th>\n",
       "      <td>0</td>\n",
       "      <td>34575542</td>\n",
       "      <td>1</td>\n",
       "      <td>15.569231</td>\n",
       "      <td>1.000000</td>\n",
       "      <td>Medium Discount</td>\n",
       "    </tr>\n",
       "    <tr>\n",
       "      <th>1</th>\n",
       "      <td>3</td>\n",
       "      <td>34390038</td>\n",
       "      <td>1558</td>\n",
       "      <td>11.041620</td>\n",
       "      <td>0.640625</td>\n",
       "      <td>Medium Discount</td>\n",
       "    </tr>\n",
       "    <tr>\n",
       "      <th>2</th>\n",
       "      <td>4</td>\n",
       "      <td>35803822</td>\n",
       "      <td>103</td>\n",
       "      <td>22.312268</td>\n",
       "      <td>0.944954</td>\n",
       "      <td>High Discount</td>\n",
       "    </tr>\n",
       "    <tr>\n",
       "      <th>3</th>\n",
       "      <td>5</td>\n",
       "      <td>28476112</td>\n",
       "      <td>31</td>\n",
       "      <td>30.569566</td>\n",
       "      <td>0.939394</td>\n",
       "      <td>Very High Discount</td>\n",
       "    </tr>\n",
       "    <tr>\n",
       "      <th>4</th>\n",
       "      <td>6</td>\n",
       "      <td>35606348</td>\n",
       "      <td>3</td>\n",
       "      <td>7.843936</td>\n",
       "      <td>1.000000</td>\n",
       "      <td>Low Discount</td>\n",
       "    </tr>\n",
       "  </tbody>\n",
       "</table>\n",
       "</div>"
      ],
      "text/plain": [
       "   customer  artikelnr  discount  discount_rate  discount_perc  \\\n",
       "0         0   34575542         1      15.569231       1.000000   \n",
       "1         3   34390038      1558      11.041620       0.640625   \n",
       "2         4   35803822       103      22.312268       0.944954   \n",
       "3         5   28476112        31      30.569566       0.939394   \n",
       "4         6   35606348         3       7.843936       1.000000   \n",
       "\n",
       "  discount_rate_category  \n",
       "0        Medium Discount  \n",
       "1        Medium Discount  \n",
       "2          High Discount  \n",
       "3     Very High Discount  \n",
       "4           Low Discount  "
      ]
     },
     "execution_count": 83,
     "metadata": {},
     "output_type": "execute_result"
    }
   ],
   "source": [
    "# Define customed categorize and labels \n",
    "category = [0, 0.01, 10, 20, 30, float('inf')]                 # Bins are based on a business logic\n",
    "names = ['No Discount', 'Low Discount', 'Medium Discount', 'High Discount', 'Very High Discount']\n",
    "\n",
    "# Using pd.cut to categorize 'discount_rate' into the defined bins\n",
    "df_discount['discount_rate_category'] = pd.cut(df_discount['discount_rate'], bins=category, labels=names, right=False)\n",
    "\n",
    "# Display the resulting DataFrame\n",
    "df_discount.head()"
   ]
  },
  {
   "cell_type": "code",
   "execution_count": 85,
   "metadata": {},
   "outputs": [
    {
     "data": {
      "text/plain": [
       "<Figure size 700x300 with 0 Axes>"
      ]
     },
     "metadata": {},
     "output_type": "display_data"
    },
    {
     "data": {
      "image/png": "[encoded data removed]",
      "text/plain": [
       "<Figure size 700x300 with 1 Axes>"
      ]
     },
     "metadata": {},
     "output_type": "display_data"
    }
   ],
   "source": [
    "# Plot a histogram of the discount frequency\n",
    "plt.figure(figsize=(7, 3))\n",
    "plt.hist(df_discount['discount_perc'], bins=10, edgecolor='black', color='skyblue')\n",
    "plt.xlabel('Discount Frequency (%)')\n",
    "plt.ylabel('Number of Customers')\n",
    "plt.title('Distribution of Discount Frequency Among Customers')\n",
    "plt.show()"
   ]
  },
  {
   "cell_type": "code",
   "execution_count": 87,
   "metadata": {},
   "outputs": [
    {
     "data": {
      "text/html": [
       "<div>\n",
       "<style scoped>\n",
       "    .dataframe tbody tr th:only-of-type {\n",
       "        vertical-align: middle;\n",
       "    }\n",
       "\n",
       "    .dataframe tbody tr th {\n",
       "        vertical-align: top;\n",
       "    }\n",
       "\n",
       "    .dataframe thead th {\n",
       "        text-align: right;\n",
       "    }\n",
       "</style>\n",
       "<table border=\"1\" class=\"dataframe\">\n",
       "  <thead>\n",
       "    <tr style=\"text-align: right;\">\n",
       "      <th></th>\n",
       "      <th>customer</th>\n",
       "      <th>artikelnr</th>\n",
       "      <th>discount</th>\n",
       "      <th>discount_rate</th>\n",
       "      <th>discount_perc</th>\n",
       "      <th>discount_rate_category</th>\n",
       "      <th>discount_%_category</th>\n",
       "    </tr>\n",
       "  </thead>\n",
       "  <tbody>\n",
       "    <tr>\n",
       "      <th>0</th>\n",
       "      <td>0</td>\n",
       "      <td>34575542</td>\n",
       "      <td>1</td>\n",
       "      <td>15.569231</td>\n",
       "      <td>1.000000</td>\n",
       "      <td>Medium Discount</td>\n",
       "      <td>Very High</td>\n",
       "    </tr>\n",
       "    <tr>\n",
       "      <th>1</th>\n",
       "      <td>3</td>\n",
       "      <td>34390038</td>\n",
       "      <td>1558</td>\n",
       "      <td>11.041620</td>\n",
       "      <td>0.640625</td>\n",
       "      <td>Medium Discount</td>\n",
       "      <td>High</td>\n",
       "    </tr>\n",
       "    <tr>\n",
       "      <th>2</th>\n",
       "      <td>4</td>\n",
       "      <td>35803822</td>\n",
       "      <td>103</td>\n",
       "      <td>22.312268</td>\n",
       "      <td>0.944954</td>\n",
       "      <td>High Discount</td>\n",
       "      <td>Very High</td>\n",
       "    </tr>\n",
       "    <tr>\n",
       "      <th>3</th>\n",
       "      <td>5</td>\n",
       "      <td>28476112</td>\n",
       "      <td>31</td>\n",
       "      <td>30.569566</td>\n",
       "      <td>0.939394</td>\n",
       "      <td>Very High Discount</td>\n",
       "      <td>Very High</td>\n",
       "    </tr>\n",
       "    <tr>\n",
       "      <th>4</th>\n",
       "      <td>6</td>\n",
       "      <td>35606348</td>\n",
       "      <td>3</td>\n",
       "      <td>7.843936</td>\n",
       "      <td>1.000000</td>\n",
       "      <td>Low Discount</td>\n",
       "      <td>Very High</td>\n",
       "    </tr>\n",
       "  </tbody>\n",
       "</table>\n",
       "</div>"
      ],
      "text/plain": [
       "   customer  artikelnr  discount  discount_rate  discount_perc  \\\n",
       "0         0   34575542         1      15.569231       1.000000   \n",
       "1         3   34390038      1558      11.041620       0.640625   \n",
       "2         4   35803822       103      22.312268       0.944954   \n",
       "3         5   28476112        31      30.569566       0.939394   \n",
       "4         6   35606348         3       7.843936       1.000000   \n",
       "\n",
       "  discount_rate_category discount_%_category  \n",
       "0        Medium Discount          Very High   \n",
       "1        Medium Discount               High   \n",
       "2          High Discount          Very High   \n",
       "3     Very High Discount          Very High   \n",
       "4           Low Discount          Very High   "
      ]
     },
     "execution_count": 87,
     "metadata": {},
     "output_type": "execute_result"
    }
   ],
   "source": [
    "# Defining custom category and labels for discount frequency \n",
    "category = [0, 0.10, 0.30, 0.50, 0.80, 1]  # Bins up to 1 included\n",
    "names = ['No Discount', 'Low ', 'Medium ', 'High ', 'Very High ']\n",
    "\n",
    "# Use pd.cut to categorize 'discount_frequency' into defined categories\n",
    "df_discount['discount_%_category'] = pd.cut(df_discount['discount_perc'], bins=category, labels=names, right=True)\n",
    "\n",
    "# Display the resulting DataFrame\n",
    "df_discount.head()"
   ]
  },
  {
   "cell_type": "code",
   "execution_count": 89,
   "metadata": {},
   "outputs": [
    {
     "data": {
      "text/plain": [
       "discount_%_category\n",
       "Very High      558\n",
       "High           285\n",
       "Medium         131\n",
       "Low             52\n",
       "No Discount      6\n",
       "Name: count, dtype: int64"
      ]
     },
     "execution_count": 89,
     "metadata": {},
     "output_type": "execute_result"
    }
   ],
   "source": [
    "# Displaying counted customers over the caterories\n",
    "df_discount['discount_%_category'].value_counts()"
   ]
  },
  {
   "cell_type": "code",
   "execution_count": 91,
   "metadata": {},
   "outputs": [
    {
     "data": {
      "text/html": [
       "<div>\n",
       "<style scoped>\n",
       "    .dataframe tbody tr th:only-of-type {\n",
       "        vertical-align: middle;\n",
       "    }\n",
       "\n",
       "    .dataframe tbody tr th {\n",
       "        vertical-align: top;\n",
       "    }\n",
       "\n",
       "    .dataframe thead th {\n",
       "        text-align: right;\n",
       "    }\n",
       "</style>\n",
       "<table border=\"1\" class=\"dataframe\">\n",
       "  <thead>\n",
       "    <tr style=\"text-align: right;\">\n",
       "      <th></th>\n",
       "      <th>customer</th>\n",
       "      <th>discount_%_category</th>\n",
       "      <th>discount_rate_category</th>\n",
       "    </tr>\n",
       "  </thead>\n",
       "  <tbody>\n",
       "    <tr>\n",
       "      <th>0</th>\n",
       "      <td>0</td>\n",
       "      <td>Very High</td>\n",
       "      <td>Medium Discount</td>\n",
       "    </tr>\n",
       "    <tr>\n",
       "      <th>1</th>\n",
       "      <td>3</td>\n",
       "      <td>High</td>\n",
       "      <td>Medium Discount</td>\n",
       "    </tr>\n",
       "    <tr>\n",
       "      <th>2</th>\n",
       "      <td>4</td>\n",
       "      <td>Very High</td>\n",
       "      <td>High Discount</td>\n",
       "    </tr>\n",
       "    <tr>\n",
       "      <th>3</th>\n",
       "      <td>5</td>\n",
       "      <td>Very High</td>\n",
       "      <td>Very High Discount</td>\n",
       "    </tr>\n",
       "    <tr>\n",
       "      <th>4</th>\n",
       "      <td>6</td>\n",
       "      <td>Very High</td>\n",
       "      <td>Low Discount</td>\n",
       "    </tr>\n",
       "  </tbody>\n",
       "</table>\n",
       "</div>"
      ],
      "text/plain": [
       "   customer discount_%_category discount_rate_category\n",
       "0         0          Very High         Medium Discount\n",
       "1         3               High         Medium Discount\n",
       "2         4          Very High           High Discount\n",
       "3         5          Very High      Very High Discount\n",
       "4         6          Very High            Low Discount"
      ]
     },
     "execution_count": 91,
     "metadata": {},
     "output_type": "execute_result"
    }
   ],
   "source": [
    "# Select only the customer and discount_freq_category columns\n",
    "df_discount_category = df_discount[['customer', 'discount_%_category', 'discount_rate_category']]\n",
    "\n",
    "# Display the resulting dataframe\n",
    "df_discount_category.head()\n"
   ]
  },
  {
   "cell_type": "code",
   "execution_count": 92,
   "metadata": {},
   "outputs": [
    {
     "data": {
      "text/html": [
       "<div>\n",
       "<style scoped>\n",
       "    .dataframe tbody tr th:only-of-type {\n",
       "        vertical-align: middle;\n",
       "    }\n",
       "\n",
       "    .dataframe tbody tr th {\n",
       "        vertical-align: top;\n",
       "    }\n",
       "\n",
       "    .dataframe thead th {\n",
       "        text-align: right;\n",
       "    }\n",
       "</style>\n",
       "<table border=\"1\" class=\"dataframe\">\n",
       "  <thead>\n",
       "    <tr style=\"text-align: right;\">\n",
       "      <th></th>\n",
       "      <th>customer</th>\n",
       "      <th>freq_no_discount</th>\n",
       "      <th>freq_low_</th>\n",
       "      <th>freq_medium_</th>\n",
       "      <th>freq_high_</th>\n",
       "      <th>freq_very_high_</th>\n",
       "      <th>rate_no_discount</th>\n",
       "      <th>rate_low_discount</th>\n",
       "      <th>rate_medium_discount</th>\n",
       "      <th>rate_high_discount</th>\n",
       "      <th>rate_very_high_discount</th>\n",
       "    </tr>\n",
       "  </thead>\n",
       "  <tbody>\n",
       "    <tr>\n",
       "      <th>0</th>\n",
       "      <td>0</td>\n",
       "      <td>0</td>\n",
       "      <td>0</td>\n",
       "      <td>0</td>\n",
       "      <td>0</td>\n",
       "      <td>1</td>\n",
       "      <td>0</td>\n",
       "      <td>0</td>\n",
       "      <td>1</td>\n",
       "      <td>0</td>\n",
       "      <td>0</td>\n",
       "    </tr>\n",
       "    <tr>\n",
       "      <th>1</th>\n",
       "      <td>3</td>\n",
       "      <td>0</td>\n",
       "      <td>0</td>\n",
       "      <td>0</td>\n",
       "      <td>1</td>\n",
       "      <td>0</td>\n",
       "      <td>0</td>\n",
       "      <td>0</td>\n",
       "      <td>1</td>\n",
       "      <td>0</td>\n",
       "      <td>0</td>\n",
       "    </tr>\n",
       "    <tr>\n",
       "      <th>2</th>\n",
       "      <td>4</td>\n",
       "      <td>0</td>\n",
       "      <td>0</td>\n",
       "      <td>0</td>\n",
       "      <td>0</td>\n",
       "      <td>1</td>\n",
       "      <td>0</td>\n",
       "      <td>0</td>\n",
       "      <td>0</td>\n",
       "      <td>1</td>\n",
       "      <td>0</td>\n",
       "    </tr>\n",
       "    <tr>\n",
       "      <th>3</th>\n",
       "      <td>5</td>\n",
       "      <td>0</td>\n",
       "      <td>0</td>\n",
       "      <td>0</td>\n",
       "      <td>0</td>\n",
       "      <td>1</td>\n",
       "      <td>0</td>\n",
       "      <td>0</td>\n",
       "      <td>0</td>\n",
       "      <td>0</td>\n",
       "      <td>1</td>\n",
       "    </tr>\n",
       "    <tr>\n",
       "      <th>4</th>\n",
       "      <td>6</td>\n",
       "      <td>0</td>\n",
       "      <td>0</td>\n",
       "      <td>0</td>\n",
       "      <td>0</td>\n",
       "      <td>1</td>\n",
       "      <td>0</td>\n",
       "      <td>1</td>\n",
       "      <td>0</td>\n",
       "      <td>0</td>\n",
       "      <td>0</td>\n",
       "    </tr>\n",
       "  </tbody>\n",
       "</table>\n",
       "</div>"
      ],
      "text/plain": [
       "   customer  freq_no_discount  freq_low_  freq_medium_  freq_high_  \\\n",
       "0         0                 0          0             0           0   \n",
       "1         3                 0          0             0           1   \n",
       "2         4                 0          0             0           0   \n",
       "3         5                 0          0             0           0   \n",
       "4         6                 0          0             0           0   \n",
       "\n",
       "   freq_very_high_  rate_no_discount  rate_low_discount  rate_medium_discount  \\\n",
       "0                1                 0                  0                     1   \n",
       "1                0                 0                  0                     1   \n",
       "2                1                 0                  0                     0   \n",
       "3                1                 0                  0                     0   \n",
       "4                1                 0                  1                     0   \n",
       "\n",
       "   rate_high_discount  rate_very_high_discount  \n",
       "0                   0                        0  \n",
       "1                   0                        0  \n",
       "2                   1                        0  \n",
       "3                   0                        1  \n",
       "4                   0                        0  "
      ]
     },
     "execution_count": 92,
     "metadata": {},
     "output_type": "execute_result"
    }
   ],
   "source": [
    "# One-hot encode the 'discount_freq_category' and 'discount_rate_category' columns\n",
    "df_discount_encoded = pd.get_dummies(df_discount_category, columns=['discount_%_category', 'discount_rate_category'], prefix=['freq', 'rate'])\n",
    "\n",
    "# Convert boolean values to binary (if any are present)\n",
    "df_discount_encoded = df_discount_encoded.astype(int)\n",
    "\n",
    "# Convert column names to lowercase and replace spaces with underscores\n",
    "df_discount_encoded.columns = df_discount_encoded.columns.str.replace(' ', '_').str.lower()\n",
    "\n",
    "# Display the first few rows of the resulting dataframe\n",
    "df_discount_encoded.head()\n"
   ]
  },
  {
   "cell_type": "markdown",
   "metadata": {},
   "source": [
    "#### 1.4. Creating new feature of customer by purchase recency and frequency"
   ]
  },
  {
   "cell_type": "code",
   "execution_count": 93,
   "metadata": {},
   "outputs": [
    {
     "data": {
      "text/html": [
       "<div>\n",
       "<style scoped>\n",
       "    .dataframe tbody tr th:only-of-type {\n",
       "        vertical-align: middle;\n",
       "    }\n",
       "\n",
       "    .dataframe tbody tr th {\n",
       "        vertical-align: top;\n",
       "    }\n",
       "\n",
       "    .dataframe thead th {\n",
       "        text-align: right;\n",
       "    }\n",
       "</style>\n",
       "<table border=\"1\" class=\"dataframe\">\n",
       "  <thead>\n",
       "    <tr style=\"text-align: right;\">\n",
       "      <th></th>\n",
       "      <th>customer</th>\n",
       "      <th>purchase_frequency</th>\n",
       "    </tr>\n",
       "  </thead>\n",
       "  <tbody>\n",
       "    <tr>\n",
       "      <th>0</th>\n",
       "      <td>0</td>\n",
       "      <td>1</td>\n",
       "    </tr>\n",
       "    <tr>\n",
       "      <th>1</th>\n",
       "      <td>3</td>\n",
       "      <td>529</td>\n",
       "    </tr>\n",
       "    <tr>\n",
       "      <th>2</th>\n",
       "      <td>4</td>\n",
       "      <td>39</td>\n",
       "    </tr>\n",
       "    <tr>\n",
       "      <th>3</th>\n",
       "      <td>5</td>\n",
       "      <td>5</td>\n",
       "    </tr>\n",
       "    <tr>\n",
       "      <th>4</th>\n",
       "      <td>6</td>\n",
       "      <td>2</td>\n",
       "    </tr>\n",
       "  </tbody>\n",
       "</table>\n",
       "</div>"
      ],
      "text/plain": [
       "   customer  purchase_frequency\n",
       "0         0                   1\n",
       "1         3                 529\n",
       "2         4                  39\n",
       "3         5                   5\n",
       "4         6                   2"
      ]
     },
     "execution_count": 93,
     "metadata": {},
     "output_type": "execute_result"
    }
   ],
   "source": [
    "# Calculate purchase frequency for each customer\n",
    "purchase_frequency = TY_users.groupby('customer')['invoice'].nunique()\n",
    "purchase_frequency = purchase_frequency.rename(\"purchase_frequency\")                     # Add a name to the Series\n",
    "\n",
    "# View the purchase frequency as dataframe\n",
    "purchase_frequency_df = purchase_frequency.reset_index()\n",
    "purchase_frequency_df.head()"
   ]
  },
  {
   "cell_type": "code",
   "execution_count": 94,
   "metadata": {},
   "outputs": [
    {
     "data": {
      "text/html": [
       "<div>\n",
       "<style scoped>\n",
       "    .dataframe tbody tr th:only-of-type {\n",
       "        vertical-align: middle;\n",
       "    }\n",
       "\n",
       "    .dataframe tbody tr th {\n",
       "        vertical-align: top;\n",
       "    }\n",
       "\n",
       "    .dataframe thead th {\n",
       "        text-align: right;\n",
       "    }\n",
       "</style>\n",
       "<table border=\"1\" class=\"dataframe\">\n",
       "  <thead>\n",
       "    <tr style=\"text-align: right;\">\n",
       "      <th></th>\n",
       "      <th>customer</th>\n",
       "      <th>days_since_last_purchase</th>\n",
       "    </tr>\n",
       "  </thead>\n",
       "  <tbody>\n",
       "    <tr>\n",
       "      <th>0</th>\n",
       "      <td>0</td>\n",
       "      <td>1450</td>\n",
       "    </tr>\n",
       "    <tr>\n",
       "      <th>1</th>\n",
       "      <td>3</td>\n",
       "      <td>6</td>\n",
       "    </tr>\n",
       "    <tr>\n",
       "      <th>2</th>\n",
       "      <td>4</td>\n",
       "      <td>145</td>\n",
       "    </tr>\n",
       "    <tr>\n",
       "      <th>3</th>\n",
       "      <td>5</td>\n",
       "      <td>1664</td>\n",
       "    </tr>\n",
       "    <tr>\n",
       "      <th>4</th>\n",
       "      <td>6</td>\n",
       "      <td>1181</td>\n",
       "    </tr>\n",
       "  </tbody>\n",
       "</table>\n",
       "</div>"
      ],
      "text/plain": [
       "   customer  days_since_last_purchase\n",
       "0         0                      1450\n",
       "1         3                         6\n",
       "2         4                       145\n",
       "3         5                      1664\n",
       "4         6                      1181"
      ]
     },
     "execution_count": 94,
     "metadata": {},
     "output_type": "execute_result"
    }
   ],
   "source": [
    "# Changing'invoice_date' to datetime format\n",
    "TY_users['invoice_date'] = pd.to_datetime(TY_users['invoice_date'])\n",
    "\n",
    "# Calculate the latest date and days since last purchase for each customer\n",
    "latest_date = TY_users['invoice_date'].max()\n",
    "days_since_last_purchase_df = (latest_date - TY_users.groupby('customer')['invoice_date'].max()).dt.days.reset_index()\n",
    "\n",
    "# Rename the column for readability\n",
    "days_since_last_purchase_df.columns= ['customer', 'days_since_last_purchase']\n",
    "\n",
    "# Display the resulting DataFrame\n",
    "days_since_last_purchase_df.head()"
   ]
  },
  {
   "cell_type": "markdown",
   "metadata": {},
   "source": [
    "#### 1.5. Creating a new feature by clustering customers by postcode"
   ]
  },
  {
   "cell_type": "markdown",
   "metadata": {},
   "source": [
    "1.5.1 Clustering using K-means"
   ]
  },
  {
   "cell_type": "code",
   "execution_count": 95,
   "metadata": {},
   "outputs": [
    {
     "name": "stdout",
     "output_type": "stream",
     "text": [
      "     postcode_customer  customer_count\n",
      "366              85705              27\n",
      "477              87547              21\n",
      "549              89206              18\n",
      "74               81704              12\n",
      "550              89207              12\n",
      "393              86041              11\n",
      "108              81812              10\n",
      "69               81689               9\n",
      "544              89201               9\n",
      "178              83047               8\n",
      "458              87500               8\n",
      "266              84817               7\n",
      "90               81747               7\n",
      "560              89247               7\n",
      "394              86042               7\n",
      "456              87482               6\n",
      "398              86049               6\n",
      "73               81703               6\n",
      "114              81822               6\n",
      "475              87545               6\n"
     ]
    }
   ],
   "source": [
    "# group customers by postcode while counting the number of customers in each postcode\n",
    "customers_by_postcode = TY_users.groupby('postcode_customer')['customer'].nunique().reset_index()\n",
    "\n",
    "# rename column\n",
    "customers_by_postcode.columns = ['postcode_customer','customer_count']\n",
    "\n",
    "# sort by customer count\n",
    "customers_by_postcode_sorted = customers_by_postcode.sort_values(by='customer_count', ascending=False)\n",
    "\n",
    "# print result\n",
    "print(customers_by_postcode_sorted.head(20))"
   ]
  },
  {
   "cell_type": "code",
   "execution_count": 96,
   "metadata": {},
   "outputs": [
    {
     "data": {
      "image/png": "[encoded data removed]",
      "text/plain": [
       "<Figure size 1000x500 with 1 Axes>"
      ]
     },
     "metadata": {},
     "output_type": "display_data"
    },
    {
     "data": {
      "image/png": "[encoded data removed]",
      "text/plain": [
       "<Figure size 1000x500 with 1 Axes>"
      ]
     },
     "metadata": {},
     "output_type": "display_data"
    },
    {
     "data": {
      "image/png": "[encoded data removed]",
      "text/plain": [
       "<Figure size 1000x200 with 1 Axes>"
      ]
     },
     "metadata": {},
     "output_type": "display_data"
    },
    {
     "data": {
      "image/png": "[encoded data removed]",
      "text/plain": [
       "<Figure size 1000x200 with 1 Axes>"
      ]
     },
     "metadata": {},
     "output_type": "display_data"
    }
   ],
   "source": [
    "# Histogram for customer count before scaling\n",
    "plt.figure(figsize=(10, 5))\n",
    "sns.histplot(customers_by_postcode['customer_count'], bins=20, kde=True)\n",
    "plt.title(\"Customer Count Distribution Before Scaling\")\n",
    "plt.xlabel(\"Customer Count\")\n",
    "plt.ylabel(\"Frequency\")\n",
    "plt.show()\n",
    "\n",
    "# Histogram for postcode before scaling\n",
    "plt.figure(figsize=(10, 5))\n",
    "sns.histplot(customers_by_postcode['postcode_customer'], bins=20, kde=True)\n",
    "plt.title(\"Postcode Distribution Before Scaling\")\n",
    "plt.xlabel(\"Postcode\")\n",
    "plt.ylabel(\"Frequency\")\n",
    "plt.show()\n",
    "\n",
    "# Box plot for customer count before scaling\n",
    "plt.figure(figsize=(10, 2))\n",
    "sns.boxplot(x=customers_by_postcode['customer_count'])\n",
    "plt.title(\"Customer Count Box Plot Before Scaling\")\n",
    "plt.show()\n",
    "\n",
    "# Box plot for postcode before scaling\n",
    "plt.figure(figsize=(10, 2))\n",
    "sns.boxplot(x=customers_by_postcode['postcode_customer'])\n",
    "plt.title(\"Postcode Box Plot Before Scaling\")\n",
    "plt.show()"
   ]
  },
  {
   "cell_type": "code",
   "execution_count": 36,
   "metadata": {},
   "outputs": [],
   "source": [
    "# selecting features for k-means\n",
    "X_kmeans = customers_by_postcode[['postcode_customer', 'customer_count']].values"
   ]
  },
  {
   "cell_type": "code",
   "execution_count": 37,
   "metadata": {},
   "outputs": [],
   "source": [
    "# scaling & fit_transform the data \n",
    "scaler = StandardScaler()\n",
    "X_scaled_kmeans = scaler.fit_transform(X_kmeans)\n",
    "\n",
    "# Add scaled columns individually to the DataFrame\n",
    "customers_by_postcode_scaled = customers_by_postcode.copy()\n",
    "customers_by_postcode_scaled['postcode_scaled'] = X_scaled_kmeans[:, 0]  # Scaled postcode_customer\n",
    "customers_by_postcode_scaled['customer_count_scaled'] = X_scaled_kmeans[:, 1]  # Scaled customer_count"
   ]
  },
  {
   "cell_type": "code",
   "execution_count": 38,
   "metadata": {},
   "outputs": [
    {
     "data": {
      "image/png": "[encoded data removed]",
      "text/plain": [
       "<Figure size 1000x500 with 1 Axes>"
      ]
     },
     "metadata": {},
     "output_type": "display_data"
    },
    {
     "data": {
      "image/png": "[encoded data removed]",
      "text/plain": [
       "<Figure size 1000x500 with 1 Axes>"
      ]
     },
     "metadata": {},
     "output_type": "display_data"
    },
    {
     "data": {
      "image/png": "[encoded data removed]",
      "text/plain": [
       "<Figure size 1000x200 with 1 Axes>"
      ]
     },
     "metadata": {},
     "output_type": "display_data"
    },
    {
     "data": {
      "image/png": "[encoded data removed]",
      "text/plain": [
       "<Figure size 1000x200 with 1 Axes>"
      ]
     },
     "metadata": {},
     "output_type": "display_data"
    }
   ],
   "source": [
    "# Histogram to check customer_count distribution after scaling\n",
    "plt.figure(figsize=(10, 5))\n",
    "sns.histplot(customers_by_postcode_scaled['customer_count_scaled'], bins=20, kde=True)\n",
    "plt.title(\"Customer Count Distribution After Scaling\")\n",
    "plt.xlabel(\"Customer Count (Scaled)\")\n",
    "plt.ylabel(\"Frequency\")\n",
    "plt.show()\n",
    "\n",
    "# Histogram to check postcode distribution after scaling\n",
    "plt.figure(figsize=(10, 5))\n",
    "sns.histplot(customers_by_postcode_scaled['postcode_scaled'], bins=20, kde=True)\n",
    "plt.title(\"Postcode Distribution After Scaling\")\n",
    "plt.xlabel(\"Postcode (Scaled)\")\n",
    "plt.ylabel(\"Frequency\")\n",
    "plt.show()\n",
    "\n",
    "# Box plot for customer_count after scaling\n",
    "plt.figure(figsize=(10, 2))\n",
    "sns.boxplot(x=customers_by_postcode_scaled['customer_count_scaled'])\n",
    "plt.title(\"Customer Count Box Plot After Scaling\")\n",
    "plt.show()\n",
    "\n",
    "# Box plot for postcode after scaling\n",
    "plt.figure(figsize=(10, 2))\n",
    "sns.boxplot(x=customers_by_postcode_scaled['postcode_scaled'])\n",
    "plt.title(\"Postcode Box Plot After Scaling\")\n",
    "plt.show()"
   ]
  },
  {
   "cell_type": "code",
   "execution_count": 39,
   "metadata": {},
   "outputs": [
    {
     "name": "stdout",
     "output_type": "stream",
     "text": [
      "Mean after scaling for customer count: -4.7928683693767295e-17\n",
      "Standard deviation after scaling for customer count: 1.0008442382255016\n",
      "Mean after scaling for postcode: 2.252648133607063e-15\n",
      "Standard deviation after scaling for postcode: 1.000844238225504\n"
     ]
    }
   ],
   "source": [
    "# Check mean and standard deviation of the scaled data for customer count\n",
    "mean_customer_count = customers_by_postcode_scaled['customer_count_scaled'].mean()  # should be close to 0\n",
    "std_dev_customer_count = customers_by_postcode_scaled['customer_count_scaled'].std()  # should be close to 1\n",
    "\n",
    "print(f\"Mean after scaling for customer count: {mean_customer_count}\")\n",
    "print(f\"Standard deviation after scaling for customer count: {std_dev_customer_count}\")\n",
    "\n",
    "# Check mean and standard deviation of the scaled data for postcode\n",
    "mean_postcode = customers_by_postcode_scaled['postcode_scaled'].mean()  # should be close to 0\n",
    "std_dev_postcode = customers_by_postcode_scaled['postcode_scaled'].std()  # should be close to 1\n",
    "\n",
    "print(f\"Mean after scaling for postcode: {mean_postcode}\")\n",
    "print(f\"Standard deviation after scaling for postcode: {std_dev_postcode}\")"
   ]
  },
  {
   "cell_type": "markdown",
   "metadata": {},
   "source": [
    "Interpretation of results:\n",
    "\n",
    "Because the mean is close to 0 and the standard deviation is very close to 1 for both features, it means that the data is correctly scaled and ready to cluster using K-means. "
   ]
  },
  {
   "cell_type": "code",
   "execution_count": 40,
   "metadata": {},
   "outputs": [
    {
     "data": {
      "image/png": "[encoded data removed]",
      "text/plain": [
       "<Figure size 800x400 with 1 Axes>"
      ]
     },
     "metadata": {},
     "output_type": "display_data"
    }
   ],
   "source": [
    "wcss = [] # empty list to store WCSS for each k-value\n",
    "\n",
    "# test values 1-10 for K\n",
    "for k in range (1, 11):\n",
    "    kmeans = KMeans(n_clusters=k, random_state=0) # setting the number of clusters\n",
    "    kmeans.fit(X_scaled_kmeans) # fit k-means model\n",
    "    wcss.append(kmeans.inertia_) # append wcss to list\n",
    "\n",
    "# plot wcss values to find the elbow\n",
    "plt.figure(figsize=(8, 4))\n",
    "plt.plot(range(1, 11), wcss, marker='o')\n",
    "plt.xlabel('Number of Clusters (K)')\n",
    "plt.ylabel('WCSS')\n",
    "plt.title('Elbow Method for Optimal K')\n",
    "plt.show()"
   ]
  },
  {
   "cell_type": "markdown",
   "metadata": {},
   "source": [
    "Applying K-means clustering with K=3"
   ]
  },
  {
   "cell_type": "code",
   "execution_count": 41,
   "metadata": {},
   "outputs": [],
   "source": [
    "# Setting K to the chosen value\n",
    "optimal_k = 3\n",
    "kmeans = KMeans(n_clusters=optimal_k, random_state=0)\n",
    "clusters = kmeans.fit_predict(X_scaled_kmeans)  # Fit and predict cluster labels\n",
    "\n",
    "# Add cluster labels to your original DataFrame for analysis\n",
    "customers_by_postcode['cluster_1'] = clusters"
   ]
  },
  {
   "cell_type": "markdown",
   "metadata": {},
   "source": [
    "Applying K-means clustering with K=4"
   ]
  },
  {
   "cell_type": "code",
   "execution_count": 42,
   "metadata": {},
   "outputs": [],
   "source": [
    "# Set K to the chosen value (e.g., 4 if the elbow suggests this)\n",
    "optimal_k = 4\n",
    "kmeans = KMeans(n_clusters=optimal_k, random_state=0)\n",
    "clusters = kmeans.fit_predict(X_scaled_kmeans)  # Fit and predict cluster labels\n",
    "\n",
    "# Add cluster labels to your original DataFrame for analysis\n",
    "customers_by_postcode['cluster_2'] = clusters"
   ]
  },
  {
   "cell_type": "code",
   "execution_count": 43,
   "metadata": {},
   "outputs": [
    {
     "name": "stdout",
     "output_type": "stream",
     "text": [
      "WCSS for K=3: 433.2224356599355\n",
      "WCSS for K=4: 326.93654508385345\n"
     ]
    }
   ],
   "source": [
    "print(\"WCSS for K=3:\", wcss[2])  # WCSS for 3 clusters\n",
    "print(\"WCSS for K=4:\", wcss[3])  # WCSS for 4 clusters"
   ]
  },
  {
   "cell_type": "markdown",
   "metadata": {},
   "source": [
    "Based on the WCSS above, K=4 has better cohesion within the clusters.\n",
    "\n",
    "Next, we will be calculating the silhouette score for K=3 and K=4 to compare which value provides better separation of data."
   ]
  },
  {
   "cell_type": "code",
   "execution_count": 44,
   "metadata": {},
   "outputs": [
    {
     "name": "stdout",
     "output_type": "stream",
     "text": [
      "Silhouette score for K=3: 0.41468533726507434\n",
      "Silhouette score for K=4: 0.483383038531568\n"
     ]
    }
   ],
   "source": [
    "# fit KMeans for K=3\n",
    "kmeans_3 = KMeans(n_clusters=3, random_state=42)\n",
    "y_kmeans_3 = kmeans_3.fit_predict(X_scaled_kmeans) # fit and predict clusters\n",
    "\n",
    "# fit KMeans for K=4\n",
    "kmeans_4 = KMeans(n_clusters=4,random_state=42)\n",
    "y_kmeans_4 = kmeans_4.fit_predict(X_scaled_kmeans) # fit & predict clusters\n",
    "\n",
    "# calculate silhouette score for K=3\n",
    "silhouette_score_3 = silhouette_score(X_scaled_kmeans, y_kmeans_3)\n",
    "print(f'Silhouette score for K=3: {silhouette_score_3}')\n",
    "\n",
    "# calculate silhouette score for K=4\n",
    "silhouette_score_4 = silhouette_score(X_scaled_kmeans, y_kmeans_4)\n",
    "print(f'Silhouette score for K=4: {silhouette_score_4}')"
   ]
  },
  {
   "cell_type": "markdown",
   "metadata": {},
   "source": [
    "Since both silhouette scores are quite low, we calculated the silhouette score for K in the range 5 to 10. The results start to fluctuate after K=5, by constantly decreasing and slightly increasing. This indicates that additional clusters may not provide improvements. Thus, K=5 is the optimal number of clusters."
   ]
  },
  {
   "cell_type": "code",
   "execution_count": 45,
   "metadata": {},
   "outputs": [
    {
     "name": "stdout",
     "output_type": "stream",
     "text": [
      "Silhouette score for K=5: 0.512742010320806\n"
     ]
    }
   ],
   "source": [
    "# fit KMeans for K=5\n",
    "kmeans_5 = KMeans(n_clusters=5, random_state=42)\n",
    "y_kmeans_5 = kmeans_5.fit_predict(X_scaled_kmeans)  # fit & predict clusters\n",
    "\n",
    "# calculate silhouette score for K=10\n",
    "silhouette_score_5 = silhouette_score(X_scaled_kmeans, y_kmeans_5)\n",
    "print(f'Silhouette score for K=5: {silhouette_score_5}')"
   ]
  },
  {
   "cell_type": "code",
   "execution_count": 46,
   "metadata": {},
   "outputs": [
    {
     "name": "stdout",
     "output_type": "stream",
     "text": [
      "<class 'pandas.core.frame.DataFrame'>\n",
      "RangeIndex: 593 entries, 0 to 592\n",
      "Data columns (total 4 columns):\n",
      " #   Column             Non-Null Count  Dtype\n",
      "---  ------             --------------  -----\n",
      " 0   postcode_customer  593 non-null    int64\n",
      " 1   customer_count     593 non-null    int64\n",
      " 2   cluster_1          593 non-null    int32\n",
      " 3   cluster_2          593 non-null    int32\n",
      "dtypes: int32(2), int64(2)\n",
      "memory usage: 14.0 KB\n"
     ]
    }
   ],
   "source": [
    "customers_by_postcode.info()"
   ]
  },
  {
   "cell_type": "code",
   "execution_count": 47,
   "metadata": {},
   "outputs": [
    {
     "data": {
      "text/html": [
       "<div>\n",
       "<style scoped>\n",
       "    .dataframe tbody tr th:only-of-type {\n",
       "        vertical-align: middle;\n",
       "    }\n",
       "\n",
       "    .dataframe tbody tr th {\n",
       "        vertical-align: top;\n",
       "    }\n",
       "\n",
       "    .dataframe thead th {\n",
       "        text-align: right;\n",
       "    }\n",
       "</style>\n",
       "<table border=\"1\" class=\"dataframe\">\n",
       "  <thead>\n",
       "    <tr style=\"text-align: right;\">\n",
       "      <th></th>\n",
       "      <th>postcode_customer</th>\n",
       "      <th>customer_count</th>\n",
       "    </tr>\n",
       "  </thead>\n",
       "  <tbody>\n",
       "    <tr>\n",
       "      <th>0</th>\n",
       "      <td>80000</td>\n",
       "      <td>1</td>\n",
       "    </tr>\n",
       "    <tr>\n",
       "      <th>1</th>\n",
       "      <td>80016</td>\n",
       "      <td>1</td>\n",
       "    </tr>\n",
       "    <tr>\n",
       "      <th>2</th>\n",
       "      <td>80023</td>\n",
       "      <td>1</td>\n",
       "    </tr>\n",
       "    <tr>\n",
       "      <th>3</th>\n",
       "      <td>80036</td>\n",
       "      <td>1</td>\n",
       "    </tr>\n",
       "    <tr>\n",
       "      <th>4</th>\n",
       "      <td>80085</td>\n",
       "      <td>1</td>\n",
       "    </tr>\n",
       "  </tbody>\n",
       "</table>\n",
       "</div>"
      ],
      "text/plain": [
       "   postcode_customer  customer_count\n",
       "0              80000               1\n",
       "1              80016               1\n",
       "2              80023               1\n",
       "3              80036               1\n",
       "4              80085               1"
      ]
     },
     "execution_count": 47,
     "metadata": {},
     "output_type": "execute_result"
    }
   ],
   "source": [
    "# Dropping columns 'cluster_1' and 'cluster_2'\n",
    "customers_by_postcode = customers_by_postcode.drop(columns=['cluster_1', 'cluster_2'])\n",
    "customers_by_postcode.head()"
   ]
  },
  {
   "cell_type": "code",
   "execution_count": 48,
   "metadata": {},
   "outputs": [
    {
     "name": "stdout",
     "output_type": "stream",
     "text": [
      "cluster\n",
      "0    215\n",
      "1      9\n",
      "2    217\n",
      "3    152\n",
      "Name: count, dtype: int64\n"
     ]
    }
   ],
   "source": [
    "# Adding cluster labels to the df for analysis\n",
    "customers_by_postcode['cluster'] = clusters\n",
    "\n",
    "# Summarizing the number of customers per cluster\n",
    "cluster_summary = customers_by_postcode['cluster'].value_counts().sort_index()\n",
    "print(cluster_summary)"
   ]
  },
  {
   "cell_type": "code",
   "execution_count": 49,
   "metadata": {},
   "outputs": [
    {
     "name": "stdout",
     "output_type": "stream",
     "text": [
      "   customer_count  postcode_customer\n",
      "0        0.129619          -0.234838\n",
      "1        1.321240          -0.196582\n",
      "2       -1.090386          -0.178538\n",
      "3        0.973159           9.717476\n",
      "4        0.259941           2.066911\n"
     ]
    }
   ],
   "source": [
    "# Get cluster centers\n",
    "cluster_centers_k5 = kmeans_5.cluster_centers_\n",
    "\n",
    "# Create DataFrame to view the cluster centers\n",
    "cluster_centers_df = pd.DataFrame(cluster_centers_k5, columns=['customer_count', 'postcode_customer'])\n",
    "print(cluster_centers_df)"
   ]
  },
  {
   "cell_type": "code",
   "execution_count": 50,
   "metadata": {},
   "outputs": [
    {
     "data": {
      "image/png": "[encoded data removed]",
      "text/plain": [
       "<Figure size 1000x600 with 1 Axes>"
      ]
     },
     "metadata": {},
     "output_type": "display_data"
    }
   ],
   "source": [
    "# Visualizing clusters\n",
    "plt.figure(figsize=(10, 6))\n",
    "sns.scatterplot(data=customers_by_postcode, x='postcode_customer', y='customer_count', hue='cluster', palette='Set1', marker='o', s=100)\n",
    "plt.title('Customer Clusters by Postcode and Customer Count (K=5)')\n",
    "plt.xlabel('Postcode Customer')\n",
    "plt.ylabel('Customer Count')\n",
    "plt.legend(title='Cluster', loc='upper right')\n",
    "plt.show()"
   ]
  },
  {
   "cell_type": "markdown",
   "metadata": {},
   "source": [
    "Based on the visualization, cluster 1 seems to represent outliers."
   ]
  },
  {
   "cell_type": "code",
   "execution_count": 51,
   "metadata": {},
   "outputs": [
    {
     "name": "stdout",
     "output_type": "stream",
     "text": [
      "       customer_count  postcode_customer\n",
      "count        9.000000           9.000000\n",
      "mean        14.333333       85790.222222\n",
      "std          6.284903        3306.720837\n",
      "min          9.000000       81689.000000\n",
      "25%         10.000000       81812.000000\n",
      "50%         12.000000       86041.000000\n",
      "75%         18.000000       89201.000000\n",
      "max         27.000000       89207.000000\n"
     ]
    }
   ],
   "source": [
    "# Filter out the data for Cluster 1\n",
    "cluster_1_data = customers_by_postcode[customers_by_postcode['cluster'] == 1]\n",
    "\n",
    "# Get a statistical summary for Cluster 1\n",
    "cluster_1_summary = cluster_1_data[['customer_count', 'postcode_customer']].describe()\n",
    "print(cluster_1_summary) "
   ]
  },
  {
   "cell_type": "code",
   "execution_count": 52,
   "metadata": {},
   "outputs": [
    {
     "data": {
      "text/html": [
       "<div>\n",
       "<style scoped>\n",
       "    .dataframe tbody tr th:only-of-type {\n",
       "        vertical-align: middle;\n",
       "    }\n",
       "\n",
       "    .dataframe tbody tr th {\n",
       "        vertical-align: top;\n",
       "    }\n",
       "\n",
       "    .dataframe thead th {\n",
       "        text-align: right;\n",
       "    }\n",
       "</style>\n",
       "<table border=\"1\" class=\"dataframe\">\n",
       "  <thead>\n",
       "    <tr style=\"text-align: right;\">\n",
       "      <th></th>\n",
       "      <th>postcode_customer</th>\n",
       "      <th>customer_count</th>\n",
       "      <th>cluster</th>\n",
       "    </tr>\n",
       "  </thead>\n",
       "  <tbody>\n",
       "    <tr>\n",
       "      <th>0</th>\n",
       "      <td>80000</td>\n",
       "      <td>1</td>\n",
       "      <td>2</td>\n",
       "    </tr>\n",
       "    <tr>\n",
       "      <th>1</th>\n",
       "      <td>80016</td>\n",
       "      <td>1</td>\n",
       "      <td>2</td>\n",
       "    </tr>\n",
       "    <tr>\n",
       "      <th>2</th>\n",
       "      <td>80023</td>\n",
       "      <td>1</td>\n",
       "      <td>2</td>\n",
       "    </tr>\n",
       "    <tr>\n",
       "      <th>3</th>\n",
       "      <td>80036</td>\n",
       "      <td>1</td>\n",
       "      <td>2</td>\n",
       "    </tr>\n",
       "    <tr>\n",
       "      <th>4</th>\n",
       "      <td>80085</td>\n",
       "      <td>1</td>\n",
       "      <td>2</td>\n",
       "    </tr>\n",
       "  </tbody>\n",
       "</table>\n",
       "</div>"
      ],
      "text/plain": [
       "   postcode_customer  customer_count  cluster\n",
       "0              80000               1        2\n",
       "1              80016               1        2\n",
       "2              80023               1        2\n",
       "3              80036               1        2\n",
       "4              80085               1        2"
      ]
     },
     "execution_count": 52,
     "metadata": {},
     "output_type": "execute_result"
    }
   ],
   "source": [
    "customers_by_postcode.head()"
   ]
  },
  {
   "cell_type": "code",
   "execution_count": 53,
   "metadata": {},
   "outputs": [
    {
     "name": "stdout",
     "output_type": "stream",
     "text": [
      "Index(['postcode_customer', 'customer_count', 'cluster'], dtype='object')\n"
     ]
    }
   ],
   "source": [
    "print(customers_by_postcode.columns)"
   ]
  },
  {
   "cell_type": "code",
   "execution_count": 54,
   "metadata": {},
   "outputs": [],
   "source": [
    "# merging original users df on the postcode clusters\n",
    "TY_users = TY_users.merge(customers_by_postcode[['postcode_customer', 'cluster']], left_on='postcode_customer', right_on='postcode_customer', how='left')\n",
    "\n",
    "# renaming 'cluster' to 'postcode_cluster'\n",
    "TY_users.rename(columns={'cluster': 'postcode_cluster'}, inplace=True)\n",
    "\n",
    "# creating a new df with only the necessary columns\n",
    "customer_cluster_data = TY_users[['customer', 'postcode_cluster']].copy()\n",
    "\n",
    "# one-hot encoding the postcode clusters\n",
    "customer_cluster_data = pd.get_dummies(customer_cluster_data, columns=['postcode_cluster'], prefix='postcode_cluster')\n",
    "\n",
    "# coverting bool values to binary\n",
    "customer_cluster_data = customer_cluster_data.astype(int)"
   ]
  },
  {
   "cell_type": "code",
   "execution_count": 55,
   "metadata": {},
   "outputs": [
    {
     "data": {
      "text/html": [
       "<div>\n",
       "<style scoped>\n",
       "    .dataframe tbody tr th:only-of-type {\n",
       "        vertical-align: middle;\n",
       "    }\n",
       "\n",
       "    .dataframe tbody tr th {\n",
       "        vertical-align: top;\n",
       "    }\n",
       "\n",
       "    .dataframe thead th {\n",
       "        text-align: right;\n",
       "    }\n",
       "</style>\n",
       "<table border=\"1\" class=\"dataframe\">\n",
       "  <thead>\n",
       "    <tr style=\"text-align: right;\">\n",
       "      <th></th>\n",
       "      <th>customer</th>\n",
       "      <th>postcode_cluster_0</th>\n",
       "      <th>postcode_cluster_1</th>\n",
       "      <th>postcode_cluster_2</th>\n",
       "      <th>postcode_cluster_3</th>\n",
       "    </tr>\n",
       "  </thead>\n",
       "  <tbody>\n",
       "    <tr>\n",
       "      <th>0</th>\n",
       "      <td>2284</td>\n",
       "      <td>0</td>\n",
       "      <td>0</td>\n",
       "      <td>1</td>\n",
       "      <td>0</td>\n",
       "    </tr>\n",
       "    <tr>\n",
       "      <th>1</th>\n",
       "      <td>2284</td>\n",
       "      <td>0</td>\n",
       "      <td>0</td>\n",
       "      <td>1</td>\n",
       "      <td>0</td>\n",
       "    </tr>\n",
       "    <tr>\n",
       "      <th>2</th>\n",
       "      <td>2284</td>\n",
       "      <td>0</td>\n",
       "      <td>0</td>\n",
       "      <td>1</td>\n",
       "      <td>0</td>\n",
       "    </tr>\n",
       "    <tr>\n",
       "      <th>3</th>\n",
       "      <td>1704</td>\n",
       "      <td>0</td>\n",
       "      <td>0</td>\n",
       "      <td>1</td>\n",
       "      <td>0</td>\n",
       "    </tr>\n",
       "    <tr>\n",
       "      <th>4</th>\n",
       "      <td>45</td>\n",
       "      <td>0</td>\n",
       "      <td>0</td>\n",
       "      <td>1</td>\n",
       "      <td>0</td>\n",
       "    </tr>\n",
       "  </tbody>\n",
       "</table>\n",
       "</div>"
      ],
      "text/plain": [
       "   customer  postcode_cluster_0  postcode_cluster_1  postcode_cluster_2  \\\n",
       "0      2284                   0                   0                   1   \n",
       "1      2284                   0                   0                   1   \n",
       "2      2284                   0                   0                   1   \n",
       "3      1704                   0                   0                   1   \n",
       "4        45                   0                   0                   1   \n",
       "\n",
       "   postcode_cluster_3  \n",
       "0                   0  \n",
       "1                   0  \n",
       "2                   0  \n",
       "3                   0  \n",
       "4                   0  "
      ]
     },
     "execution_count": 55,
     "metadata": {},
     "output_type": "execute_result"
    }
   ],
   "source": [
    "customer_cluster_data.head()"
   ]
  },
  {
   "cell_type": "code",
   "execution_count": 56,
   "metadata": {},
   "outputs": [
    {
     "data": {
      "text/html": [
       "<div>\n",
       "<style scoped>\n",
       "    .dataframe tbody tr th:only-of-type {\n",
       "        vertical-align: middle;\n",
       "    }\n",
       "\n",
       "    .dataframe tbody tr th {\n",
       "        vertical-align: top;\n",
       "    }\n",
       "\n",
       "    .dataframe thead th {\n",
       "        text-align: right;\n",
       "    }\n",
       "</style>\n",
       "<table border=\"1\" class=\"dataframe\">\n",
       "  <thead>\n",
       "    <tr style=\"text-align: right;\">\n",
       "      <th></th>\n",
       "      <th>customer</th>\n",
       "      <th>invoice</th>\n",
       "      <th>invoice_date</th>\n",
       "      <th>articlenr</th>\n",
       "      <th>volume</th>\n",
       "      <th>sum1</th>\n",
       "      <th>sum2</th>\n",
       "      <th>postcode_delivery</th>\n",
       "      <th>postcode_customer</th>\n",
       "      <th>channel</th>\n",
       "      <th>profit</th>\n",
       "      <th>postcode_cluster</th>\n",
       "    </tr>\n",
       "  </thead>\n",
       "  <tbody>\n",
       "    <tr>\n",
       "      <th>0</th>\n",
       "      <td>2284</td>\n",
       "      <td>1187467</td>\n",
       "      <td>2020-01-02</td>\n",
       "      <td>32879960</td>\n",
       "      <td>24</td>\n",
       "      <td>343.73</td>\n",
       "      <td>362.30</td>\n",
       "      <td>80413</td>\n",
       "      <td>80413</td>\n",
       "      <td>Tel 86041</td>\n",
       "      <td>18.57</td>\n",
       "      <td>2</td>\n",
       "    </tr>\n",
       "    <tr>\n",
       "      <th>1</th>\n",
       "      <td>2284</td>\n",
       "      <td>1187467</td>\n",
       "      <td>2020-01-02</td>\n",
       "      <td>32879962</td>\n",
       "      <td>60</td>\n",
       "      <td>1067.64</td>\n",
       "      <td>1119.96</td>\n",
       "      <td>80413</td>\n",
       "      <td>80413</td>\n",
       "      <td>Tel 86041</td>\n",
       "      <td>52.32</td>\n",
       "      <td>2</td>\n",
       "    </tr>\n",
       "    <tr>\n",
       "      <th>2</th>\n",
       "      <td>2284</td>\n",
       "      <td>1187467</td>\n",
       "      <td>2020-01-02</td>\n",
       "      <td>32841810</td>\n",
       "      <td>120</td>\n",
       "      <td>2214.00</td>\n",
       "      <td>2408.40</td>\n",
       "      <td>80413</td>\n",
       "      <td>80413</td>\n",
       "      <td>Tel 86041</td>\n",
       "      <td>194.40</td>\n",
       "      <td>2</td>\n",
       "    </tr>\n",
       "    <tr>\n",
       "      <th>3</th>\n",
       "      <td>1704</td>\n",
       "      <td>1191447</td>\n",
       "      <td>2020-01-17</td>\n",
       "      <td>36866802</td>\n",
       "      <td>1</td>\n",
       "      <td>21.52</td>\n",
       "      <td>19.32</td>\n",
       "      <td>81724</td>\n",
       "      <td>81724</td>\n",
       "      <td>OTC 81812</td>\n",
       "      <td>-2.20</td>\n",
       "      <td>2</td>\n",
       "    </tr>\n",
       "    <tr>\n",
       "      <th>4</th>\n",
       "      <td>45</td>\n",
       "      <td>1187691</td>\n",
       "      <td>2020-01-03</td>\n",
       "      <td>34360272</td>\n",
       "      <td>4</td>\n",
       "      <td>28.91</td>\n",
       "      <td>28.49</td>\n",
       "      <td>81796</td>\n",
       "      <td>81796</td>\n",
       "      <td>Web Order</td>\n",
       "      <td>-0.42</td>\n",
       "      <td>2</td>\n",
       "    </tr>\n",
       "    <tr>\n",
       "      <th>5</th>\n",
       "      <td>812</td>\n",
       "      <td>1187640</td>\n",
       "      <td>2020-01-03</td>\n",
       "      <td>35620322</td>\n",
       "      <td>1</td>\n",
       "      <td>119.91</td>\n",
       "      <td>125.73</td>\n",
       "      <td>81681</td>\n",
       "      <td>81681</td>\n",
       "      <td>Web Order</td>\n",
       "      <td>5.82</td>\n",
       "      <td>2</td>\n",
       "    </tr>\n",
       "    <tr>\n",
       "      <th>6</th>\n",
       "      <td>812</td>\n",
       "      <td>1187640</td>\n",
       "      <td>2020-01-03</td>\n",
       "      <td>35623298</td>\n",
       "      <td>1</td>\n",
       "      <td>346.06</td>\n",
       "      <td>350.60</td>\n",
       "      <td>81681</td>\n",
       "      <td>81681</td>\n",
       "      <td>Web Order</td>\n",
       "      <td>4.54</td>\n",
       "      <td>2</td>\n",
       "    </tr>\n",
       "  </tbody>\n",
       "</table>\n",
       "</div>"
      ],
      "text/plain": [
       "   customer  invoice invoice_date  articlenr  volume     sum1     sum2  \\\n",
       "0      2284  1187467   2020-01-02   32879960      24   343.73   362.30   \n",
       "1      2284  1187467   2020-01-02   32879962      60  1067.64  1119.96   \n",
       "2      2284  1187467   2020-01-02   32841810     120  2214.00  2408.40   \n",
       "3      1704  1191447   2020-01-17   36866802       1    21.52    19.32   \n",
       "4        45  1187691   2020-01-03   34360272       4    28.91    28.49   \n",
       "5       812  1187640   2020-01-03   35620322       1   119.91   125.73   \n",
       "6       812  1187640   2020-01-03   35623298       1   346.06   350.60   \n",
       "\n",
       "   postcode_delivery  postcode_customer    channel  profit  postcode_cluster  \n",
       "0              80413              80413  Tel 86041   18.57                 2  \n",
       "1              80413              80413  Tel 86041   52.32                 2  \n",
       "2              80413              80413  Tel 86041  194.40                 2  \n",
       "3              81724              81724  OTC 81812   -2.20                 2  \n",
       "4              81796              81796  Web Order   -0.42                 2  \n",
       "5              81681              81681  Web Order    5.82                 2  \n",
       "6              81681              81681  Web Order    4.54                 2  "
      ]
     },
     "execution_count": 56,
     "metadata": {},
     "output_type": "execute_result"
    }
   ],
   "source": [
    "TY_users.head(7)"
   ]
  },
  {
   "cell_type": "code",
   "execution_count": 57,
   "metadata": {},
   "outputs": [
    {
     "data": {
      "text/html": [
       "<div>\n",
       "<style scoped>\n",
       "    .dataframe tbody tr th:only-of-type {\n",
       "        vertical-align: middle;\n",
       "    }\n",
       "\n",
       "    .dataframe tbody tr th {\n",
       "        vertical-align: top;\n",
       "    }\n",
       "\n",
       "    .dataframe thead th {\n",
       "        text-align: right;\n",
       "    }\n",
       "</style>\n",
       "<table border=\"1\" class=\"dataframe\">\n",
       "  <thead>\n",
       "    <tr style=\"text-align: right;\">\n",
       "      <th></th>\n",
       "      <th>postcode_customer</th>\n",
       "      <th>customer_count</th>\n",
       "      <th>postcode_0</th>\n",
       "      <th>postcode_1</th>\n",
       "      <th>postcode_2</th>\n",
       "      <th>postcode_3</th>\n",
       "    </tr>\n",
       "  </thead>\n",
       "  <tbody>\n",
       "    <tr>\n",
       "      <th>0</th>\n",
       "      <td>80000</td>\n",
       "      <td>1</td>\n",
       "      <td>0</td>\n",
       "      <td>0</td>\n",
       "      <td>1</td>\n",
       "      <td>0</td>\n",
       "    </tr>\n",
       "    <tr>\n",
       "      <th>1</th>\n",
       "      <td>80016</td>\n",
       "      <td>1</td>\n",
       "      <td>0</td>\n",
       "      <td>0</td>\n",
       "      <td>1</td>\n",
       "      <td>0</td>\n",
       "    </tr>\n",
       "    <tr>\n",
       "      <th>2</th>\n",
       "      <td>80023</td>\n",
       "      <td>1</td>\n",
       "      <td>0</td>\n",
       "      <td>0</td>\n",
       "      <td>1</td>\n",
       "      <td>0</td>\n",
       "    </tr>\n",
       "    <tr>\n",
       "      <th>3</th>\n",
       "      <td>80036</td>\n",
       "      <td>1</td>\n",
       "      <td>0</td>\n",
       "      <td>0</td>\n",
       "      <td>1</td>\n",
       "      <td>0</td>\n",
       "    </tr>\n",
       "    <tr>\n",
       "      <th>4</th>\n",
       "      <td>80085</td>\n",
       "      <td>1</td>\n",
       "      <td>0</td>\n",
       "      <td>0</td>\n",
       "      <td>1</td>\n",
       "      <td>0</td>\n",
       "    </tr>\n",
       "  </tbody>\n",
       "</table>\n",
       "</div>"
      ],
      "text/plain": [
       "   postcode_customer  customer_count  postcode_0  postcode_1  postcode_2  \\\n",
       "0              80000               1           0           0           1   \n",
       "1              80016               1           0           0           1   \n",
       "2              80023               1           0           0           1   \n",
       "3              80036               1           0           0           1   \n",
       "4              80085               1           0           0           1   \n",
       "\n",
       "   postcode_3  \n",
       "0           0  \n",
       "1           0  \n",
       "2           0  \n",
       "3           0  \n",
       "4           0  "
      ]
     },
     "execution_count": 57,
     "metadata": {},
     "output_type": "execute_result"
    }
   ],
   "source": [
    "# one-hot encoding postcode clusters\n",
    "customers_by_postcode = pd.get_dummies(customers_by_postcode, columns=['cluster'], prefix=['postcode'])\n",
    "\n",
    "# convert boolean values to binary\n",
    "customers_by_postcode = customers_by_postcode.astype(int)\n",
    "\n",
    "# convert column names to lowercase and add underscore between words\n",
    "customers_by_postcode.columns = customers_by_postcode.columns.str.replace(' ', '_').str.lower()\n",
    "\n",
    "# print df head\n",
    "customers_by_postcode.head()"
   ]
  },
  {
   "cell_type": "markdown",
   "metadata": {},
   "source": [
    "#### 1.6. Creating new feature of customer by dropshippers"
   ]
  },
  {
   "cell_type": "code",
   "execution_count": 58,
   "metadata": {},
   "outputs": [
    {
     "name": "stdout",
     "output_type": "stream",
     "text": [
      "Number of mismatched row and columns: (71089, 12)\n"
     ]
    }
   ],
   "source": [
    "# ----- wendy -----\n",
    "mismatched_postcode = TY_users[TY_users[\"postcode_delivery\"] != TY_users[\"postcode_customer\"]]\n",
    "print(f\"Number of mismatched row and columns: {mismatched_postcode.shape}\")"
   ]
  },
  {
   "cell_type": "code",
   "execution_count": 59,
   "metadata": {},
   "outputs": [
    {
     "name": "stderr",
     "output_type": "stream",
     "text": [
      "/var/folders/fh/wbkbplv94qz11z3b8wk1mrmw0000gn/T/ipykernel_4016/4057607310.py:5: DeprecationWarning: DataFrameGroupBy.apply operated on the grouping columns. This behavior is deprecated, and in a future version of pandas the grouping columns will be excluded from the operation. Either pass `include_groups=False` to exclude the groupings or explicitly select the grouping columns after groupby to silence this warning.\n",
      "  consistent_mismatch = TY_users.groupby('customer').apply(lambda x: (x['postcode_delivery'].nunique() == 1) and (x['postcode_customer'].nunique() == 1) and (not same_postcode[x.index].all()))\n"
     ]
    },
    {
     "data": {
      "text/html": [
       "<div>\n",
       "<style scoped>\n",
       "    .dataframe tbody tr th:only-of-type {\n",
       "        vertical-align: middle;\n",
       "    }\n",
       "\n",
       "    .dataframe tbody tr th {\n",
       "        vertical-align: top;\n",
       "    }\n",
       "\n",
       "    .dataframe thead th {\n",
       "        text-align: right;\n",
       "    }\n",
       "</style>\n",
       "<table border=\"1\" class=\"dataframe\">\n",
       "  <thead>\n",
       "    <tr style=\"text-align: right;\">\n",
       "      <th></th>\n",
       "      <th>customer</th>\n",
       "      <th>invoice</th>\n",
       "      <th>invoice_date</th>\n",
       "      <th>articlenr</th>\n",
       "      <th>volume</th>\n",
       "      <th>sum1</th>\n",
       "      <th>sum2</th>\n",
       "      <th>postcode_delivery</th>\n",
       "      <th>postcode_customer</th>\n",
       "      <th>channel</th>\n",
       "      <th>profit</th>\n",
       "      <th>postcode_cluster</th>\n",
       "      <th>customer_type</th>\n",
       "    </tr>\n",
       "  </thead>\n",
       "  <tbody>\n",
       "    <tr>\n",
       "      <th>0</th>\n",
       "      <td>0</td>\n",
       "      <td>1258126</td>\n",
       "      <td>2020-10-06</td>\n",
       "      <td>34575542</td>\n",
       "      <td>1</td>\n",
       "      <td>16.25</td>\n",
       "      <td>13.72</td>\n",
       "      <td>81131</td>\n",
       "      <td>81131</td>\n",
       "      <td>Tel 81812</td>\n",
       "      <td>-2.53</td>\n",
       "      <td>2</td>\n",
       "      <td>non-dropshipper</td>\n",
       "    </tr>\n",
       "    <tr>\n",
       "      <th>1</th>\n",
       "      <td>3</td>\n",
       "      <td>1228666</td>\n",
       "      <td>2020-06-04</td>\n",
       "      <td>34390038</td>\n",
       "      <td>1</td>\n",
       "      <td>9.79</td>\n",
       "      <td>8.32</td>\n",
       "      <td>89207</td>\n",
       "      <td>89207</td>\n",
       "      <td>OTC 89206</td>\n",
       "      <td>-1.47</td>\n",
       "      <td>1</td>\n",
       "      <td>non-dropshipper</td>\n",
       "    </tr>\n",
       "    <tr>\n",
       "      <th>2</th>\n",
       "      <td>4</td>\n",
       "      <td>1418519</td>\n",
       "      <td>2022-07-12</td>\n",
       "      <td>35803822</td>\n",
       "      <td>1</td>\n",
       "      <td>43.02</td>\n",
       "      <td>34.57</td>\n",
       "      <td>89221</td>\n",
       "      <td>89221</td>\n",
       "      <td>OTC 89206</td>\n",
       "      <td>-8.45</td>\n",
       "      <td>3</td>\n",
       "      <td>non-dropshipper</td>\n",
       "    </tr>\n",
       "    <tr>\n",
       "      <th>3</th>\n",
       "      <td>5</td>\n",
       "      <td>1200226</td>\n",
       "      <td>2020-02-18</td>\n",
       "      <td>28476112</td>\n",
       "      <td>1</td>\n",
       "      <td>16.25</td>\n",
       "      <td>14.40</td>\n",
       "      <td>84849</td>\n",
       "      <td>84849</td>\n",
       "      <td>Tel 84817</td>\n",
       "      <td>-1.85</td>\n",
       "      <td>0</td>\n",
       "      <td>non-dropshipper</td>\n",
       "    </tr>\n",
       "    <tr>\n",
       "      <th>4</th>\n",
       "      <td>6</td>\n",
       "      <td>1327185</td>\n",
       "      <td>2021-07-02</td>\n",
       "      <td>35606348</td>\n",
       "      <td>1</td>\n",
       "      <td>53.39</td>\n",
       "      <td>48.52</td>\n",
       "      <td>89222</td>\n",
       "      <td>89222</td>\n",
       "      <td>OTC 89206</td>\n",
       "      <td>-4.87</td>\n",
       "      <td>3</td>\n",
       "      <td>non-dropshipper</td>\n",
       "    </tr>\n",
       "  </tbody>\n",
       "</table>\n",
       "</div>"
      ],
      "text/plain": [
       "   customer  invoice invoice_date  articlenr  volume   sum1   sum2  \\\n",
       "0         0  1258126   2020-10-06   34575542       1  16.25  13.72   \n",
       "1         3  1228666   2020-06-04   34390038       1   9.79   8.32   \n",
       "2         4  1418519   2022-07-12   35803822       1  43.02  34.57   \n",
       "3         5  1200226   2020-02-18   28476112       1  16.25  14.40   \n",
       "4         6  1327185   2021-07-02   35606348       1  53.39  48.52   \n",
       "\n",
       "   postcode_delivery  postcode_customer    channel  profit  postcode_cluster  \\\n",
       "0              81131              81131  Tel 81812   -2.53                 2   \n",
       "1              89207              89207  OTC 89206   -1.47                 1   \n",
       "2              89221              89221  OTC 89206   -8.45                 3   \n",
       "3              84849              84849  Tel 84817   -1.85                 0   \n",
       "4              89222              89222  OTC 89206   -4.87                 3   \n",
       "\n",
       "     customer_type  \n",
       "0  non-dropshipper  \n",
       "1  non-dropshipper  \n",
       "2  non-dropshipper  \n",
       "3  non-dropshipper  \n",
       "4  non-dropshipper  "
      ]
     },
     "execution_count": 59,
     "metadata": {},
     "output_type": "execute_result"
    }
   ],
   "source": [
    "# Identify customers where postcodes are the same (non-dropshippers)\n",
    "same_postcode = TY_users['postcode_delivery'] == TY_users['postcode_customer']\n",
    "\n",
    "# Identify customers with consistent mismatched postcodes (retailers)\n",
    "consistent_mismatch = TY_users.groupby('customer').apply(lambda x: (x['postcode_delivery'].nunique() == 1) and (x['postcode_customer'].nunique() == 1) and (not same_postcode[x.index].all()))\n",
    "\n",
    "# Step 3: Assign default category 'dropshipper' to all customers\n",
    "TY_users['customer_type'] = 'dropshipper'\n",
    "\n",
    "# Step 4: Update 'customer_type' for non-dropshippers and retailers\n",
    "TY_users.loc[same_postcode, 'customer_type'] = 'non-dropshipper'\n",
    "TY_users.loc[TY_users['customer'].isin(consistent_mismatch[consistent_mismatch].index), 'customer_type'] = 'warehouse'\n",
    "\n",
    "# Step 5: Group by customer and get the first occurrence of each customer to create a grouped DataFrame\n",
    "grouped_df = TY_users.groupby('customer').first().reset_index()\n",
    "\n",
    "# Resulting grouped DataFrame\n",
    "grouped_df.head()"
   ]
  },
  {
   "cell_type": "code",
   "execution_count": 60,
   "metadata": {},
   "outputs": [
    {
     "data": {
      "text/plain": [
       "customer_type\n",
       "non-dropshipper    857\n",
       "warehouse          154\n",
       "dropshipper         59\n",
       "Name: count, dtype: int64"
      ]
     },
     "execution_count": 60,
     "metadata": {},
     "output_type": "execute_result"
    }
   ],
   "source": [
    "# Checking what it looks like\n",
    "grouped_df[\"customer_type\"].value_counts()"
   ]
  },
  {
   "cell_type": "code",
   "execution_count": 61,
   "metadata": {},
   "outputs": [
    {
     "data": {
      "text/html": [
       "<div>\n",
       "<style scoped>\n",
       "    .dataframe tbody tr th:only-of-type {\n",
       "        vertical-align: middle;\n",
       "    }\n",
       "\n",
       "    .dataframe tbody tr th {\n",
       "        vertical-align: top;\n",
       "    }\n",
       "\n",
       "    .dataframe thead th {\n",
       "        text-align: right;\n",
       "    }\n",
       "</style>\n",
       "<table border=\"1\" class=\"dataframe\">\n",
       "  <thead>\n",
       "    <tr style=\"text-align: right;\">\n",
       "      <th></th>\n",
       "      <th>customer</th>\n",
       "      <th>invoice</th>\n",
       "      <th>invoice_date</th>\n",
       "      <th>articlenr</th>\n",
       "      <th>volume</th>\n",
       "      <th>sum1</th>\n",
       "      <th>sum2</th>\n",
       "      <th>postcode_delivery</th>\n",
       "      <th>postcode_customer</th>\n",
       "      <th>channel</th>\n",
       "      <th>profit</th>\n",
       "      <th>postcode_cluster</th>\n",
       "      <th>customer_type</th>\n",
       "    </tr>\n",
       "  </thead>\n",
       "  <tbody>\n",
       "    <tr>\n",
       "      <th>17</th>\n",
       "      <td>48</td>\n",
       "      <td>1230159</td>\n",
       "      <td>2020-06-09</td>\n",
       "      <td>28448816</td>\n",
       "      <td>50</td>\n",
       "      <td>122.55</td>\n",
       "      <td>193.90</td>\n",
       "      <td>83990</td>\n",
       "      <td>89301</td>\n",
       "      <td>Tel 89206</td>\n",
       "      <td>71.35</td>\n",
       "      <td>3</td>\n",
       "      <td>dropshipper</td>\n",
       "    </tr>\n",
       "    <tr>\n",
       "      <th>36</th>\n",
       "      <td>104</td>\n",
       "      <td>1203539</td>\n",
       "      <td>2020-02-28</td>\n",
       "      <td>37421648</td>\n",
       "      <td>2</td>\n",
       "      <td>10.24</td>\n",
       "      <td>10.64</td>\n",
       "      <td>83192</td>\n",
       "      <td>83194</td>\n",
       "      <td>Tel 83047</td>\n",
       "      <td>0.40</td>\n",
       "      <td>2</td>\n",
       "      <td>dropshipper</td>\n",
       "    </tr>\n",
       "    <tr>\n",
       "      <th>52</th>\n",
       "      <td>144</td>\n",
       "      <td>1197387</td>\n",
       "      <td>2020-02-06</td>\n",
       "      <td>26060570</td>\n",
       "      <td>50</td>\n",
       "      <td>96.38</td>\n",
       "      <td>110.74</td>\n",
       "      <td>89203</td>\n",
       "      <td>89206</td>\n",
       "      <td>OTC 89206</td>\n",
       "      <td>14.36</td>\n",
       "      <td>1</td>\n",
       "      <td>dropshipper</td>\n",
       "    </tr>\n",
       "    <tr>\n",
       "      <th>53</th>\n",
       "      <td>145</td>\n",
       "      <td>1243622</td>\n",
       "      <td>2020-07-31</td>\n",
       "      <td>36872130</td>\n",
       "      <td>1</td>\n",
       "      <td>28.95</td>\n",
       "      <td>27.87</td>\n",
       "      <td>86043</td>\n",
       "      <td>86049</td>\n",
       "      <td>OTC 86041</td>\n",
       "      <td>-1.08</td>\n",
       "      <td>0</td>\n",
       "      <td>dropshipper</td>\n",
       "    </tr>\n",
       "    <tr>\n",
       "      <th>58</th>\n",
       "      <td>156</td>\n",
       "      <td>1193214</td>\n",
       "      <td>2020-01-23</td>\n",
       "      <td>32202514</td>\n",
       "      <td>100</td>\n",
       "      <td>66.45</td>\n",
       "      <td>61.93</td>\n",
       "      <td>89230</td>\n",
       "      <td>89231</td>\n",
       "      <td>Tel 89206</td>\n",
       "      <td>-4.52</td>\n",
       "      <td>3</td>\n",
       "      <td>dropshipper</td>\n",
       "    </tr>\n",
       "  </tbody>\n",
       "</table>\n",
       "</div>"
      ],
      "text/plain": [
       "    customer  invoice invoice_date  articlenr  volume    sum1    sum2  \\\n",
       "17        48  1230159   2020-06-09   28448816      50  122.55  193.90   \n",
       "36       104  1203539   2020-02-28   37421648       2   10.24   10.64   \n",
       "52       144  1197387   2020-02-06   26060570      50   96.38  110.74   \n",
       "53       145  1243622   2020-07-31   36872130       1   28.95   27.87   \n",
       "58       156  1193214   2020-01-23   32202514     100   66.45   61.93   \n",
       "\n",
       "    postcode_delivery  postcode_customer    channel  profit  postcode_cluster  \\\n",
       "17              83990              89301  Tel 89206   71.35                 3   \n",
       "36              83192              83194  Tel 83047    0.40                 2   \n",
       "52              89203              89206  OTC 89206   14.36                 1   \n",
       "53              86043              86049  OTC 86041   -1.08                 0   \n",
       "58              89230              89231  Tel 89206   -4.52                 3   \n",
       "\n",
       "   customer_type  \n",
       "17   dropshipper  \n",
       "36   dropshipper  \n",
       "52   dropshipper  \n",
       "53   dropshipper  \n",
       "58   dropshipper  "
      ]
     },
     "execution_count": 61,
     "metadata": {},
     "output_type": "execute_result"
    }
   ],
   "source": [
    "# Filter grouped_df to include only rows where customer_type is 'dropshipper'\n",
    "dropshipper = grouped_df[grouped_df['customer_type'] == 'dropshipper'].reindex()\n",
    "\n",
    "# Display the resulting DataFrame with only drop shippers\n",
    "dropshipper.head()"
   ]
  },
  {
   "cell_type": "code",
   "execution_count": 62,
   "metadata": {},
   "outputs": [
    {
     "data": {
      "text/html": [
       "<div>\n",
       "<style scoped>\n",
       "    .dataframe tbody tr th:only-of-type {\n",
       "        vertical-align: middle;\n",
       "    }\n",
       "\n",
       "    .dataframe tbody tr th {\n",
       "        vertical-align: top;\n",
       "    }\n",
       "\n",
       "    .dataframe thead th {\n",
       "        text-align: right;\n",
       "    }\n",
       "</style>\n",
       "<table border=\"1\" class=\"dataframe\">\n",
       "  <thead>\n",
       "    <tr style=\"text-align: right;\">\n",
       "      <th></th>\n",
       "      <th>customer</th>\n",
       "      <th>tot_shipments</th>\n",
       "      <th>customer_type</th>\n",
       "      <th>tot_dropshipments</th>\n",
       "    </tr>\n",
       "  </thead>\n",
       "  <tbody>\n",
       "    <tr>\n",
       "      <th>0</th>\n",
       "      <td>0</td>\n",
       "      <td>1</td>\n",
       "      <td>non-dropshipper</td>\n",
       "      <td>0</td>\n",
       "    </tr>\n",
       "    <tr>\n",
       "      <th>1</th>\n",
       "      <td>3</td>\n",
       "      <td>2432</td>\n",
       "      <td>non-dropshipper</td>\n",
       "      <td>0</td>\n",
       "    </tr>\n",
       "    <tr>\n",
       "      <th>2</th>\n",
       "      <td>4</td>\n",
       "      <td>109</td>\n",
       "      <td>non-dropshipper</td>\n",
       "      <td>0</td>\n",
       "    </tr>\n",
       "    <tr>\n",
       "      <th>3</th>\n",
       "      <td>5</td>\n",
       "      <td>33</td>\n",
       "      <td>non-dropshipper</td>\n",
       "      <td>0</td>\n",
       "    </tr>\n",
       "    <tr>\n",
       "      <th>4</th>\n",
       "      <td>6</td>\n",
       "      <td>3</td>\n",
       "      <td>non-dropshipper</td>\n",
       "      <td>0</td>\n",
       "    </tr>\n",
       "  </tbody>\n",
       "</table>\n",
       "</div>"
      ],
      "text/plain": [
       "   customer  tot_shipments    customer_type  tot_dropshipments\n",
       "0         0              1  non-dropshipper                  0\n",
       "1         3           2432  non-dropshipper                  0\n",
       "2         4            109  non-dropshipper                  0\n",
       "3         5             33  non-dropshipper                  0\n",
       "4         6              3  non-dropshipper                  0"
      ]
     },
     "execution_count": 62,
     "metadata": {},
     "output_type": "execute_result"
    }
   ],
   "source": [
    "# Group by 'customer' and calculate total shipments, customer type, and total drop shipments only for drop shippers\n",
    "tot_shipments_sum = TY_users.groupby('customer').agg(\n",
    "tot_shipments=('customer', 'count'),                                # Total number of shipments per customer\n",
    "customer_type=('customer_type', 'first'),                           # Consistent customer type for each customer\n",
    "tot_dropshipments=('customer_type', lambda x: sum(x == 'dropshipper') if x.iloc[0] == 'dropshipper' else 0)).reset_index()\n",
    "\n",
    "# Display the resulting DataFrame\n",
    "tot_shipments_sum.head()\n"
   ]
  },
  {
   "cell_type": "code",
   "execution_count": 63,
   "metadata": {},
   "outputs": [
    {
     "data": {
      "text/html": [
       "<div>\n",
       "<style scoped>\n",
       "    .dataframe tbody tr th:only-of-type {\n",
       "        vertical-align: middle;\n",
       "    }\n",
       "\n",
       "    .dataframe tbody tr th {\n",
       "        vertical-align: top;\n",
       "    }\n",
       "\n",
       "    .dataframe thead th {\n",
       "        text-align: right;\n",
       "    }\n",
       "</style>\n",
       "<table border=\"1\" class=\"dataframe\">\n",
       "  <thead>\n",
       "    <tr style=\"text-align: right;\">\n",
       "      <th></th>\n",
       "      <th>customer</th>\n",
       "      <th>tot_shipments</th>\n",
       "      <th>customer_type</th>\n",
       "      <th>tot_dropshipments</th>\n",
       "      <th>percentage_DS</th>\n",
       "    </tr>\n",
       "  </thead>\n",
       "  <tbody>\n",
       "    <tr>\n",
       "      <th>17</th>\n",
       "      <td>48</td>\n",
       "      <td>21</td>\n",
       "      <td>dropshipper</td>\n",
       "      <td>21</td>\n",
       "      <td>100.000000</td>\n",
       "    </tr>\n",
       "    <tr>\n",
       "      <th>36</th>\n",
       "      <td>104</td>\n",
       "      <td>21</td>\n",
       "      <td>dropshipper</td>\n",
       "      <td>15</td>\n",
       "      <td>71.428571</td>\n",
       "    </tr>\n",
       "    <tr>\n",
       "      <th>52</th>\n",
       "      <td>144</td>\n",
       "      <td>576</td>\n",
       "      <td>dropshipper</td>\n",
       "      <td>387</td>\n",
       "      <td>67.187500</td>\n",
       "    </tr>\n",
       "    <tr>\n",
       "      <th>53</th>\n",
       "      <td>145</td>\n",
       "      <td>53</td>\n",
       "      <td>dropshipper</td>\n",
       "      <td>45</td>\n",
       "      <td>84.905660</td>\n",
       "    </tr>\n",
       "    <tr>\n",
       "      <th>58</th>\n",
       "      <td>156</td>\n",
       "      <td>259</td>\n",
       "      <td>dropshipper</td>\n",
       "      <td>200</td>\n",
       "      <td>77.220077</td>\n",
       "    </tr>\n",
       "  </tbody>\n",
       "</table>\n",
       "</div>"
      ],
      "text/plain": [
       "    customer  tot_shipments customer_type  tot_dropshipments  percentage_DS\n",
       "17        48             21   dropshipper                 21     100.000000\n",
       "36       104             21   dropshipper                 15      71.428571\n",
       "52       144            576   dropshipper                387      67.187500\n",
       "53       145             53   dropshipper                 45      84.905660\n",
       "58       156            259   dropshipper                200      77.220077"
      ]
     },
     "execution_count": 63,
     "metadata": {},
     "output_type": "execute_result"
    }
   ],
   "source": [
    "# Calculate the percentage of drop shipments for each customer\n",
    "tot_shipments_sum[\"percentage_DS\"] = (tot_shipments_sum[\"tot_dropshipments\"] / tot_shipments_sum[\"tot_shipments\"]) * 100\n",
    "\n",
    "# Filter the DataFrame to show only rows where the customer type is 'dropshipper'\n",
    "dropshipper_only = tot_shipments_sum[tot_shipments_sum[\"customer_type\"] == \"dropshipper\"]\n",
    "\n",
    "# Display the resulting DataFrame with only drop shippers\n",
    "dropshipper_only.head()\n"
   ]
  },
  {
   "cell_type": "code",
   "execution_count": 64,
   "metadata": {},
   "outputs": [
    {
     "data": {
      "image/png": "[encoded data removed]",
      "text/plain": [
       "<Figure size 400x300 with 1 Axes>"
      ]
     },
     "metadata": {},
     "output_type": "display_data"
    }
   ],
   "source": [
    "#plotting a boxplot to see what the distribution looks like\n",
    "plt.figure(figsize=(4, 3))\n",
    "sns.boxplot(x=dropshipper_only['percentage_DS'])\n",
    "plt.title('Box Plot of Dropshipment Percentages')\n",
    "plt.xlabel('Percentage of Dropshipped Orders')\n",
    "plt.show()"
   ]
  },
  {
   "cell_type": "code",
   "execution_count": 65,
   "metadata": {},
   "outputs": [
    {
     "data": {
      "text/html": [
       "<div>\n",
       "<style scoped>\n",
       "    .dataframe tbody tr th:only-of-type {\n",
       "        vertical-align: middle;\n",
       "    }\n",
       "\n",
       "    .dataframe tbody tr th {\n",
       "        vertical-align: top;\n",
       "    }\n",
       "\n",
       "    .dataframe thead th {\n",
       "        text-align: right;\n",
       "    }\n",
       "</style>\n",
       "<table border=\"1\" class=\"dataframe\">\n",
       "  <thead>\n",
       "    <tr style=\"text-align: right;\">\n",
       "      <th></th>\n",
       "      <th>customer</th>\n",
       "      <th>tot_shipments</th>\n",
       "      <th>customer_type</th>\n",
       "      <th>tot_dropshipments</th>\n",
       "      <th>percentage_DS</th>\n",
       "      <th>category_dropshipping</th>\n",
       "    </tr>\n",
       "  </thead>\n",
       "  <tbody>\n",
       "    <tr>\n",
       "      <th>982</th>\n",
       "      <td>2298</td>\n",
       "      <td>16</td>\n",
       "      <td>dropshipper</td>\n",
       "      <td>2</td>\n",
       "      <td>12.500000</td>\n",
       "      <td>Very low</td>\n",
       "    </tr>\n",
       "    <tr>\n",
       "      <th>835</th>\n",
       "      <td>1979</td>\n",
       "      <td>91</td>\n",
       "      <td>dropshipper</td>\n",
       "      <td>10</td>\n",
       "      <td>10.989011</td>\n",
       "      <td>Very low</td>\n",
       "    </tr>\n",
       "    <tr>\n",
       "      <th>762</th>\n",
       "      <td>1823</td>\n",
       "      <td>1079</td>\n",
       "      <td>dropshipper</td>\n",
       "      <td>217</td>\n",
       "      <td>20.111214</td>\n",
       "      <td>Very low</td>\n",
       "    </tr>\n",
       "    <tr>\n",
       "      <th>135</th>\n",
       "      <td>347</td>\n",
       "      <td>154</td>\n",
       "      <td>dropshipper</td>\n",
       "      <td>27</td>\n",
       "      <td>17.532468</td>\n",
       "      <td>Very low</td>\n",
       "    </tr>\n",
       "    <tr>\n",
       "      <th>168</th>\n",
       "      <td>453</td>\n",
       "      <td>366</td>\n",
       "      <td>dropshipper</td>\n",
       "      <td>98</td>\n",
       "      <td>26.775956</td>\n",
       "      <td>Very low</td>\n",
       "    </tr>\n",
       "  </tbody>\n",
       "</table>\n",
       "</div>"
      ],
      "text/plain": [
       "     customer  tot_shipments customer_type  tot_dropshipments  percentage_DS  \\\n",
       "982      2298             16   dropshipper                  2      12.500000   \n",
       "835      1979             91   dropshipper                 10      10.989011   \n",
       "762      1823           1079   dropshipper                217      20.111214   \n",
       "135       347            154   dropshipper                 27      17.532468   \n",
       "168       453            366   dropshipper                 98      26.775956   \n",
       "\n",
       "    category_dropshipping  \n",
       "982              Very low  \n",
       "835              Very low  \n",
       "762              Very low  \n",
       "135              Very low  \n",
       "168              Very low  "
      ]
     },
     "execution_count": 65,
     "metadata": {},
     "output_type": "execute_result"
    }
   ],
   "source": [
    "# Create a copy of dropshipper_only to avoid warning\n",
    "dropshipper_only = dropshipper_only.copy()\n",
    "\n",
    "# Define categories and labels for categorizing 'percentage_DS'\n",
    "categories = 5  # Number of equal-width intervals\n",
    "names = ['Very low', 'Low', 'Medium', 'High', 'Very high']\n",
    "\n",
    "# Create margin categories based on equal-width bins\n",
    "dropshipper_only['category_dropshipping'] = pd.cut(dropshipper_only['percentage_DS'], bins=categories, labels=names)\n",
    "\n",
    "# Sort by margin category (ascending)\n",
    "sorted_dropshipments = dropshipper_only.sort_values(by='category_dropshipping', ascending=True)\n",
    "\n",
    "# Display the sorted dataframe\n",
    "sorted_dropshipments.head()"
   ]
  },
  {
   "cell_type": "code",
   "execution_count": 66,
   "metadata": {},
   "outputs": [
    {
     "data": {
      "text/html": [
       "<div>\n",
       "<style scoped>\n",
       "    .dataframe tbody tr th:only-of-type {\n",
       "        vertical-align: middle;\n",
       "    }\n",
       "\n",
       "    .dataframe tbody tr th {\n",
       "        vertical-align: top;\n",
       "    }\n",
       "\n",
       "    .dataframe thead th {\n",
       "        text-align: right;\n",
       "    }\n",
       "</style>\n",
       "<table border=\"1\" class=\"dataframe\">\n",
       "  <thead>\n",
       "    <tr style=\"text-align: right;\">\n",
       "      <th></th>\n",
       "      <th>customer</th>\n",
       "      <th>category_dropshipping</th>\n",
       "    </tr>\n",
       "  </thead>\n",
       "  <tbody>\n",
       "    <tr>\n",
       "      <th>982</th>\n",
       "      <td>2298</td>\n",
       "      <td>Very low</td>\n",
       "    </tr>\n",
       "    <tr>\n",
       "      <th>835</th>\n",
       "      <td>1979</td>\n",
       "      <td>Very low</td>\n",
       "    </tr>\n",
       "    <tr>\n",
       "      <th>762</th>\n",
       "      <td>1823</td>\n",
       "      <td>Very low</td>\n",
       "    </tr>\n",
       "    <tr>\n",
       "      <th>135</th>\n",
       "      <td>347</td>\n",
       "      <td>Very low</td>\n",
       "    </tr>\n",
       "    <tr>\n",
       "      <th>168</th>\n",
       "      <td>453</td>\n",
       "      <td>Very low</td>\n",
       "    </tr>\n",
       "  </tbody>\n",
       "</table>\n",
       "</div>"
      ],
      "text/plain": [
       "     customer category_dropshipping\n",
       "982      2298              Very low\n",
       "835      1979              Very low\n",
       "762      1823              Very low\n",
       "135       347              Very low\n",
       "168       453              Very low"
      ]
     },
     "execution_count": 66,
     "metadata": {},
     "output_type": "execute_result"
    }
   ],
   "source": [
    "# Create a copy of dropshipper_only to avoid warning\n",
    "dropshipper_only = dropshipper_only.copy()\n",
    "\n",
    "# Define categories and labels for categorizing 'percentage_DS'\n",
    "categories = 5                                                  # Number of equal-width intervals\n",
    "names = ['Very low', 'Low', 'Medium', 'High', 'Very high']\n",
    "\n",
    "# Create categories based on equal-width bins\n",
    "dropshipper_only['category_dropshipping'] = pd.cut(dropshipper_only['percentage_DS'], bins=categories, labels=names)\n",
    "\n",
    "# Sort by category (ascending)\n",
    "sorted_dropshipments = dropshipper_only.sort_values(by='category_dropshipping', ascending=True)\n",
    "\n",
    "# Select only the customer and category_dropshipping columns\n",
    "sorted_dropshipments = sorted_dropshipments[['customer', 'category_dropshipping']]\n",
    "\n",
    "# Display the sorted dataframe\n",
    "sorted_dropshipments.head()\n"
   ]
  },
  {
   "cell_type": "code",
   "execution_count": 67,
   "metadata": {},
   "outputs": [
    {
     "data": {
      "text/html": [
       "<div>\n",
       "<style scoped>\n",
       "    .dataframe tbody tr th:only-of-type {\n",
       "        vertical-align: middle;\n",
       "    }\n",
       "\n",
       "    .dataframe tbody tr th {\n",
       "        vertical-align: top;\n",
       "    }\n",
       "\n",
       "    .dataframe thead th {\n",
       "        text-align: right;\n",
       "    }\n",
       "</style>\n",
       "<table border=\"1\" class=\"dataframe\">\n",
       "  <thead>\n",
       "    <tr style=\"text-align: right;\">\n",
       "      <th></th>\n",
       "      <th>customer</th>\n",
       "      <th>dropshipping_very_low</th>\n",
       "      <th>dropshipping_low</th>\n",
       "      <th>dropshipping_medium</th>\n",
       "      <th>dropshipping_high</th>\n",
       "      <th>dropshipping_very_high</th>\n",
       "    </tr>\n",
       "  </thead>\n",
       "  <tbody>\n",
       "    <tr>\n",
       "      <th>982</th>\n",
       "      <td>2298</td>\n",
       "      <td>1</td>\n",
       "      <td>0</td>\n",
       "      <td>0</td>\n",
       "      <td>0</td>\n",
       "      <td>0</td>\n",
       "    </tr>\n",
       "    <tr>\n",
       "      <th>835</th>\n",
       "      <td>1979</td>\n",
       "      <td>1</td>\n",
       "      <td>0</td>\n",
       "      <td>0</td>\n",
       "      <td>0</td>\n",
       "      <td>0</td>\n",
       "    </tr>\n",
       "    <tr>\n",
       "      <th>762</th>\n",
       "      <td>1823</td>\n",
       "      <td>1</td>\n",
       "      <td>0</td>\n",
       "      <td>0</td>\n",
       "      <td>0</td>\n",
       "      <td>0</td>\n",
       "    </tr>\n",
       "    <tr>\n",
       "      <th>135</th>\n",
       "      <td>347</td>\n",
       "      <td>1</td>\n",
       "      <td>0</td>\n",
       "      <td>0</td>\n",
       "      <td>0</td>\n",
       "      <td>0</td>\n",
       "    </tr>\n",
       "    <tr>\n",
       "      <th>168</th>\n",
       "      <td>453</td>\n",
       "      <td>1</td>\n",
       "      <td>0</td>\n",
       "      <td>0</td>\n",
       "      <td>0</td>\n",
       "      <td>0</td>\n",
       "    </tr>\n",
       "  </tbody>\n",
       "</table>\n",
       "</div>"
      ],
      "text/plain": [
       "     customer  dropshipping_very_low  dropshipping_low  dropshipping_medium  \\\n",
       "982      2298                      1                 0                    0   \n",
       "835      1979                      1                 0                    0   \n",
       "762      1823                      1                 0                    0   \n",
       "135       347                      1                 0                    0   \n",
       "168       453                      1                 0                    0   \n",
       "\n",
       "     dropshipping_high  dropshipping_very_high  \n",
       "982                  0                       0  \n",
       "835                  0                       0  \n",
       "762                  0                       0  \n",
       "135                  0                       0  \n",
       "168                  0                       0  "
      ]
     },
     "execution_count": 67,
     "metadata": {},
     "output_type": "execute_result"
    }
   ],
   "source": [
    "# One-hot encode the 'category_dropshipping' column\n",
    "dropshipments_features = pd.get_dummies(sorted_dropshipments, columns=['category_dropshipping'], prefix='dropshipping')\n",
    "\n",
    "# Convert boolean values to binary (if any are present)\n",
    "dropshipments_features = dropshipments_features.astype(int)\n",
    "\n",
    "# Convert column names to lowercase and replace spaces with underscores\n",
    "dropshipments_features.columns = dropshipments_features.columns.str.replace(' ', '_').str.lower()\n",
    "\n",
    "# Display the first few rows of the resulting dataframe\n",
    "dropshipments_features.head()\n"
   ]
  },
  {
   "cell_type": "markdown",
   "metadata": {},
   "source": [
    "## 2. Clustering the customers trough the new created features"
   ]
  },
  {
   "cell_type": "markdown",
   "metadata": {},
   "source": [
    "#### 2.1. Merging the different engineered dataframes on customer"
   ]
  },
  {
   "cell_type": "code",
   "execution_count": 68,
   "metadata": {},
   "outputs": [
    {
     "data": {
      "text/html": [
       "<div>\n",
       "<style scoped>\n",
       "    .dataframe tbody tr th:only-of-type {\n",
       "        vertical-align: middle;\n",
       "    }\n",
       "\n",
       "    .dataframe tbody tr th {\n",
       "        vertical-align: top;\n",
       "    }\n",
       "\n",
       "    .dataframe thead th {\n",
       "        text-align: right;\n",
       "    }\n",
       "</style>\n",
       "<table border=\"1\" class=\"dataframe\">\n",
       "  <thead>\n",
       "    <tr style=\"text-align: right;\">\n",
       "      <th></th>\n",
       "      <th>customer</th>\n",
       "      <th>dropshipping_very_low</th>\n",
       "      <th>dropshipping_low</th>\n",
       "      <th>dropshipping_medium</th>\n",
       "      <th>dropshipping_high</th>\n",
       "      <th>dropshipping_very_high</th>\n",
       "      <th>freq_no_discount</th>\n",
       "      <th>freq_low_frequency</th>\n",
       "      <th>freq_medium_frequency</th>\n",
       "      <th>freq_high_frequency</th>\n",
       "      <th>...</th>\n",
       "      <th>profit_medium</th>\n",
       "      <th>profit_high</th>\n",
       "      <th>profit_very_high</th>\n",
       "      <th>sales_very_low</th>\n",
       "      <th>sales_low</th>\n",
       "      <th>sales_medium</th>\n",
       "      <th>sales_high</th>\n",
       "      <th>sales_very_high</th>\n",
       "      <th>purchase_frequency</th>\n",
       "      <th>days_since_last_purchase</th>\n",
       "    </tr>\n",
       "  </thead>\n",
       "  <tbody>\n",
       "    <tr>\n",
       "      <th>0</th>\n",
       "      <td>0</td>\n",
       "      <td>0.0</td>\n",
       "      <td>0.0</td>\n",
       "      <td>0.0</td>\n",
       "      <td>0.0</td>\n",
       "      <td>0.0</td>\n",
       "      <td>0</td>\n",
       "      <td>0</td>\n",
       "      <td>0</td>\n",
       "      <td>0</td>\n",
       "      <td>...</td>\n",
       "      <td>1</td>\n",
       "      <td>0</td>\n",
       "      <td>0</td>\n",
       "      <td>1</td>\n",
       "      <td>0</td>\n",
       "      <td>0</td>\n",
       "      <td>0</td>\n",
       "      <td>0</td>\n",
       "      <td>1</td>\n",
       "      <td>1450</td>\n",
       "    </tr>\n",
       "    <tr>\n",
       "      <th>1</th>\n",
       "      <td>3</td>\n",
       "      <td>0.0</td>\n",
       "      <td>0.0</td>\n",
       "      <td>0.0</td>\n",
       "      <td>0.0</td>\n",
       "      <td>0.0</td>\n",
       "      <td>0</td>\n",
       "      <td>0</td>\n",
       "      <td>0</td>\n",
       "      <td>1</td>\n",
       "      <td>...</td>\n",
       "      <td>0</td>\n",
       "      <td>0</td>\n",
       "      <td>1</td>\n",
       "      <td>0</td>\n",
       "      <td>0</td>\n",
       "      <td>0</td>\n",
       "      <td>0</td>\n",
       "      <td>1</td>\n",
       "      <td>529</td>\n",
       "      <td>6</td>\n",
       "    </tr>\n",
       "    <tr>\n",
       "      <th>2</th>\n",
       "      <td>4</td>\n",
       "      <td>0.0</td>\n",
       "      <td>0.0</td>\n",
       "      <td>0.0</td>\n",
       "      <td>0.0</td>\n",
       "      <td>0.0</td>\n",
       "      <td>0</td>\n",
       "      <td>0</td>\n",
       "      <td>0</td>\n",
       "      <td>0</td>\n",
       "      <td>...</td>\n",
       "      <td>1</td>\n",
       "      <td>0</td>\n",
       "      <td>0</td>\n",
       "      <td>1</td>\n",
       "      <td>0</td>\n",
       "      <td>0</td>\n",
       "      <td>0</td>\n",
       "      <td>0</td>\n",
       "      <td>39</td>\n",
       "      <td>145</td>\n",
       "    </tr>\n",
       "    <tr>\n",
       "      <th>3</th>\n",
       "      <td>5</td>\n",
       "      <td>0.0</td>\n",
       "      <td>0.0</td>\n",
       "      <td>0.0</td>\n",
       "      <td>0.0</td>\n",
       "      <td>0.0</td>\n",
       "      <td>0</td>\n",
       "      <td>0</td>\n",
       "      <td>0</td>\n",
       "      <td>0</td>\n",
       "      <td>...</td>\n",
       "      <td>0</td>\n",
       "      <td>0</td>\n",
       "      <td>0</td>\n",
       "      <td>1</td>\n",
       "      <td>0</td>\n",
       "      <td>0</td>\n",
       "      <td>0</td>\n",
       "      <td>0</td>\n",
       "      <td>5</td>\n",
       "      <td>1664</td>\n",
       "    </tr>\n",
       "    <tr>\n",
       "      <th>4</th>\n",
       "      <td>6</td>\n",
       "      <td>0.0</td>\n",
       "      <td>0.0</td>\n",
       "      <td>0.0</td>\n",
       "      <td>0.0</td>\n",
       "      <td>0.0</td>\n",
       "      <td>0</td>\n",
       "      <td>0</td>\n",
       "      <td>0</td>\n",
       "      <td>0</td>\n",
       "      <td>...</td>\n",
       "      <td>1</td>\n",
       "      <td>0</td>\n",
       "      <td>0</td>\n",
       "      <td>1</td>\n",
       "      <td>0</td>\n",
       "      <td>0</td>\n",
       "      <td>0</td>\n",
       "      <td>0</td>\n",
       "      <td>2</td>\n",
       "      <td>1181</td>\n",
       "    </tr>\n",
       "  </tbody>\n",
       "</table>\n",
       "<p>5 rows × 33 columns</p>\n",
       "</div>"
      ],
      "text/plain": [
       "   customer  dropshipping_very_low  dropshipping_low  dropshipping_medium  \\\n",
       "0         0                    0.0               0.0                  0.0   \n",
       "1         3                    0.0               0.0                  0.0   \n",
       "2         4                    0.0               0.0                  0.0   \n",
       "3         5                    0.0               0.0                  0.0   \n",
       "4         6                    0.0               0.0                  0.0   \n",
       "\n",
       "   dropshipping_high  dropshipping_very_high  freq_no_discount  \\\n",
       "0                0.0                     0.0                 0   \n",
       "1                0.0                     0.0                 0   \n",
       "2                0.0                     0.0                 0   \n",
       "3                0.0                     0.0                 0   \n",
       "4                0.0                     0.0                 0   \n",
       "\n",
       "   freq_low_frequency  freq_medium_frequency  freq_high_frequency  ...  \\\n",
       "0                   0                      0                    0  ...   \n",
       "1                   0                      0                    1  ...   \n",
       "2                   0                      0                    0  ...   \n",
       "3                   0                      0                    0  ...   \n",
       "4                   0                      0                    0  ...   \n",
       "\n",
       "   profit_medium  profit_high  profit_very_high  sales_very_low  sales_low  \\\n",
       "0              1            0                 0               1          0   \n",
       "1              0            0                 1               0          0   \n",
       "2              1            0                 0               1          0   \n",
       "3              0            0                 0               1          0   \n",
       "4              1            0                 0               1          0   \n",
       "\n",
       "   sales_medium  sales_high  sales_very_high  purchase_frequency  \\\n",
       "0             0           0                0                   1   \n",
       "1             0           0                1                 529   \n",
       "2             0           0                0                  39   \n",
       "3             0           0                0                   5   \n",
       "4             0           0                0                   2   \n",
       "\n",
       "   days_since_last_purchase  \n",
       "0                      1450  \n",
       "1                         6  \n",
       "2                       145  \n",
       "3                      1664  \n",
       "4                      1181  \n",
       "\n",
       "[5 rows x 33 columns]"
      ]
     },
     "execution_count": 68,
     "metadata": {},
     "output_type": "execute_result"
    }
   ],
   "source": [
    "# Standardize the customer column name across all dataframes\n",
    "dropshipments_features = dropshipments_features.rename(columns={'customer': 'customer'})\n",
    "df_discount_encoded = df_discount_encoded.rename(columns={'customer': 'customer'})\n",
    "df_volume_encoded = df_volume_encoded.rename(columns={'customer': 'customer'})\n",
    "customers_features = customers_features.rename(columns={'customer_': 'customer'})  # Rename to match others\n",
    "purchase_frequency_df = purchase_frequency_df.rename(columns={'customer': 'customer'})\n",
    "days_since_last_purchase_df = days_since_last_purchase_df.rename(columns={'customer': 'customer'})\n",
    "\n",
    "# Now merge all dataframes on the 'customer' column\n",
    "merged_data = dropshipments_features.merge(df_discount_encoded, on='customer', how='outer') \\\n",
    ".merge(df_volume_encoded, on='customer', how='outer') \\\n",
    ".merge(customers_features, on='customer', how='outer') \\\n",
    ".merge(purchase_frequency_df, on='customer', how='outer') \\\n",
    ".merge(days_since_last_purchase_df, on='customer', how='outer')\n",
    "\n",
    "# Fill NaN values with 0\n",
    "merged_data = merged_data.fillna(0)\n",
    "\n",
    "# Display the first few rows of the merged dataframe\n",
    "merged_data.head()\n",
    "\n"
   ]
  },
  {
   "cell_type": "markdown",
   "metadata": {},
   "source": [
    "#### 2.2. Clustering the customers to make meaningful insights"
   ]
  },
  {
   "cell_type": "code",
   "execution_count": 69,
   "metadata": {},
   "outputs": [],
   "source": [
    "from sklearn.preprocessing import StandardScaler\n",
    "\n",
    "# Drop the 'customer' column for clustering\n",
    "features = merged_data.drop(columns=['customer'])\n",
    "\n",
    "# Scale the features\n",
    "scaler = StandardScaler()\n",
    "scaled_features = scaler.fit_transform(features)"
   ]
  },
  {
   "cell_type": "code",
   "execution_count": 70,
   "metadata": {},
   "outputs": [
    {
     "name": "stdout",
     "output_type": "stream",
     "text": [
      "   customer  kmeans_cluster\n",
      "0         0               3\n",
      "1         3               2\n",
      "2         4               3\n",
      "3         5               3\n",
      "4         6               3\n"
     ]
    }
   ],
   "source": [
    "# Define the number of clusters (e.g., 5 based on previous analysis or elbow method)\n",
    "n_clusters = 4\n",
    "kmeans = KMeans(n_clusters=n_clusters, random_state=42, n_init=100)\n",
    "merged_data['kmeans_cluster'] = kmeans.fit_predict(scaled_features)\n",
    "\n",
    "# Check the resulting cluster assignments\n",
    "print(merged_data[['customer', 'kmeans_cluster']].head())\n"
   ]
  },
  {
   "cell_type": "code",
   "execution_count": 71,
   "metadata": {},
   "outputs": [
    {
     "name": "stdout",
     "output_type": "stream",
     "text": [
      "Silhouette Score for KMeans with 4 clusters: 0.1377766002227989\n"
     ]
    }
   ],
   "source": [
    "from sklearn.metrics import silhouette_score\n",
    "\n",
    "# Calculate the silhouette score\n",
    "silhouette_avg = silhouette_score(scaled_features, merged_data['kmeans_cluster'])\n",
    "print(f'Silhouette Score for KMeans with {n_clusters} clusters: {silhouette_avg}')\n"
   ]
  },
  {
   "cell_type": "code",
   "execution_count": 72,
   "metadata": {},
   "outputs": [
    {
     "data": {
      "image/png": "[encoded data removed]",
      "text/plain": [
       "<Figure size 640x480 with 1 Axes>"
      ]
     },
     "metadata": {},
     "output_type": "display_data"
    }
   ],
   "source": [
    "# Import necessary libraries\n",
    "import matplotlib.pyplot as plt\n",
    "from sklearn.cluster import KMeans\n",
    "\n",
    "# Define range of clusters to test\n",
    "inertia = []\n",
    "cluster_range = range(2, 10)  # You can adjust the range as needed\n",
    "\n",
    "# Compute KMeans for each number of clusters and store the inertia\n",
    "for k in cluster_range:\n",
    "    kmeans = KMeans(n_clusters=k, random_state=42)\n",
    "    kmeans.fit(scaled_features)\n",
    "    inertia.append(kmeans.inertia_)\n",
    "\n",
    "# Plot the Elbow graph\n",
    "plt.plot(cluster_range, inertia, marker='o')\n",
    "plt.xlabel('Number of Clusters')\n",
    "plt.ylabel('Inertia')\n",
    "plt.title('Elbow Method for Optimal Number of Clusters')\n",
    "plt.show()\n"
   ]
  },
  {
   "cell_type": "code",
   "execution_count": 73,
   "metadata": {},
   "outputs": [
    {
     "data": {
      "image/png": "[encoded data removed]",
      "text/plain": [
       "<Figure size 800x400 with 1 Axes>"
      ]
     },
     "metadata": {},
     "output_type": "display_data"
    }
   ],
   "source": [
    "# Choose the number of clusters based on the Elbow method (e.g., 4)\n",
    "n_clusters = 4\n",
    "kmeans = KMeans(n_clusters=n_clusters, random_state=42, n_init=100)  # Set n_init to 100 for robustness\n",
    "merged_data['kmeans_cluster'] = kmeans.fit_predict(scaled_features)\n",
    "\n",
    "# Apply PCA to reduce data to 2 dimensions for plotting\n",
    "pca = PCA(n_components=2)\n",
    "reduced_features = pca.fit_transform(scaled_features)\n",
    "\n",
    "# Plot the clusters\n",
    "plt.figure(figsize=(8, 4))\n",
    "plt.scatter(reduced_features[:, 0], reduced_features[:, 1], c=merged_data['kmeans_cluster'], cmap='viridis', s=50)\n",
    "plt.scatter(pca.transform(kmeans.cluster_centers_)[:, 0], pca.transform(kmeans.cluster_centers_)[:, 1], \n",
    "            c='red', marker='X', s=200, label='Centroids')\n",
    "plt.title(f'KMeans Clustering with {n_clusters} Clusters (n_init=100)')\n",
    "plt.xlabel('PCA Component 1')\n",
    "plt.ylabel('PCA Component 2')\n",
    "plt.legend()\n",
    "plt.show()\n"
   ]
  },
  {
   "cell_type": "markdown",
   "metadata": {},
   "source": [
    "#### 2.2. DBSCAN"
   ]
  },
  {
   "cell_type": "code",
   "execution_count": 74,
   "metadata": {},
   "outputs": [],
   "source": [
    "from sklearn.neighbors import NearestNeighbors "
   ]
  },
  {
   "cell_type": "code",
   "execution_count": 75,
   "metadata": {},
   "outputs": [
    {
     "name": "stdout",
     "output_type": "stream",
     "text": [
      "dbscan has created clusters: [-1]\n"
     ]
    }
   ],
   "source": [
    "# min_samples >= P+1, with P the number of features\n",
    "min_samples = scaled_features.shape[1] + 1 \n",
    "\n",
    "#DBSCAN model building \n",
    "dbscan = DBSCAN(eps = 0.5, min_samples = min_samples)\n",
    "db_clusters = dbscan.fit_predict(scaled_features)\n",
    "\n",
    "print('dbscan has created clusters:', list(set(db_clusters)))"
   ]
  },
  {
   "cell_type": "code",
   "execution_count": 76,
   "metadata": {},
   "outputs": [
    {
     "data": {
      "image/png": "[encoded data removed]",
      "text/plain": [
       "<Figure size 640x480 with 1 Axes>"
      ]
     },
     "metadata": {},
     "output_type": "display_data"
    }
   ],
   "source": [
    "k = min_samples\n",
    "knn_fit = NearestNeighbors(n_neighbors=k).fit(scaled_features)\n",
    "distances, indices = knn_fit.kneighbors(scaled_features) # distances are the distance of each point from k nearest neighbors, sorted in ascending order\n",
    "further_neighbor = distances[:,-1] = distances[:,-1]\n",
    "further_neighbor[::-1].sort() #sorting the distance in descending order\n",
    "\n",
    "#ploting the elbow method plot\n",
    "plt.plot(further_neighbor)\n",
    "plt.xlabel('index')\n",
    "plt.ylabel('distance')\n",
    "plt.grid(visible=True, which='both')\n",
    "plt.show()"
   ]
  },
  {
   "cell_type": "code",
   "execution_count": 77,
   "metadata": {},
   "outputs": [
    {
     "name": "stdout",
     "output_type": "stream",
     "text": [
      "dbscan has created clusters: [0, 1, 2, 3, -1]\n"
     ]
    }
   ],
   "source": [
    "#DBSCAN final model building \n",
    "dbscan = DBSCAN(eps = 2, min_samples = min_samples)\n",
    "db_clusters_PCs = dbscan.fit_predict(scaled_features)\n",
    "print('dbscan has created clusters:', list(set(db_clusters_PCs)))"
   ]
  },
  {
   "cell_type": "markdown",
   "metadata": {},
   "source": [
    "By the above method DBSCAN created 4 clusters."
   ]
  },
  {
   "cell_type": "code",
   "execution_count": 78,
   "metadata": {},
   "outputs": [
    {
     "data": {
      "image/png": "[encoded data removed]",
      "text/plain": [
       "<Figure size 640x480 with 1 Axes>"
      ]
     },
     "metadata": {},
     "output_type": "display_data"
    }
   ],
   "source": [
    "k = min_samples\n",
    "knn_fit = NearestNeighbors(n_neighbors=k).fit(scaled_features)\n",
    "distances, indices = knn_fit.kneighbors(scaled_features) # distances are the distance of each point from k nearest neighbors, sorted in ascending order\n",
    "further_neighbor = distances[:,-1] = distances[:,-1]\n",
    "further_neighbor[::-1].sort() #sorting the distance in descending order\n",
    "\n",
    "#ploting the elbow method plot\n",
    "plt.plot(further_neighbor)\n",
    "plt.xlabel('index')\n",
    "plt.ylabel('distance')\n",
    "plt.grid(visible=True, which='both')\n",
    "plt.show()"
   ]
  },
  {
   "cell_type": "code",
   "execution_count": 79,
   "metadata": {},
   "outputs": [
    {
     "name": "stdout",
     "output_type": "stream",
     "text": [
      "dbscan has created clusters: [0, 1, 2, 3, -1]\n"
     ]
    }
   ],
   "source": [
    "#DBSCAN final model building \n",
    "dbscan = DBSCAN(eps = 2, min_samples = min_samples)\n",
    "db_clusters_ImpFeatures = dbscan.fit_predict(scaled_features)\n",
    "print('dbscan has created clusters:', list(set(db_clusters_ImpFeatures)))"
   ]
  },
  {
   "cell_type": "code",
   "execution_count": 80,
   "metadata": {},
   "outputs": [
    {
     "data": {
      "image/png": "[encoded data removed]",
      "text/plain": [
       "<Figure size 800x600 with 2 Axes>"
      ]
     },
     "metadata": {},
     "output_type": "display_data"
    }
   ],
   "source": [
    "# Reduce dimensions to 3D for visualization\n",
    "pca = PCA(n_components=3)\n",
    "features_3d = pca.fit_transform(scaled_features)\n",
    "\n",
    "# Create a 3D plot\n",
    "fig = plt.figure(figsize=(8, 6))\n",
    "ax = fig.add_subplot(111, projection='3d')\n",
    "\n",
    "# Plot the 3D PCA projection with cluster colors\n",
    "sc = ax.scatter(features_3d[:, 0], features_3d[:, 1], features_3d[:, 2], \n",
    "                c=db_clusters_ImpFeatures, cmap='viridis', marker='o')\n",
    "\n",
    "# Label axes\n",
    "ax.set_xlabel('PCA Component 1')\n",
    "ax.set_ylabel('PCA Component 2')\n",
    "ax.set_zlabel('PCA Component 3')\n",
    "ax.set_title('DBSCAN Clustering Visualization (3D PCA Reduced)')\n",
    "\n",
    "# Add color bar\n",
    "plt.colorbar(sc, label='Cluster')\n",
    "plt.show()\n"
   ]
  },
  {
   "cell_type": "code",
   "execution_count": null,
   "metadata": {},
   "outputs": [],
   "source": []
  }
 ],
 "metadata": {
  "kernelspec": {
   "display_name": "intro",
   "language": "python",
   "name": "python3"
  },
  "language_info": {
   "codemirror_mode": {
    "name": "ipython",
    "version": 3
   },
   "file_extension": ".py",
   "mimetype": "text/x-python",
   "name": "python",
   "nbconvert_exporter": "python",
   "pygments_lexer": "ipython3",
   "version": "3.12.4"
  }
 },
 "nbformat": 4,
 "nbformat_minor": 2
}
