{
 "cells": [
  {
   "cell_type": "code",
   "execution_count": 1,
   "metadata": {},
   "outputs": [],
   "source": [
    "import pandas as pd\n",
    "import numpy as np\n",
    "import matplotlib.pyplot as plt\n",
    "import seaborn as sns"
   ]
  },
  {
   "cell_type": "code",
   "execution_count": 2,
   "metadata": {},
   "outputs": [],
   "source": [
    "file_name_TY_features = \"Tao Yin_Item_features.parquet\"\n",
    "file_name_TY_users = \"TaoYin_User_Transactions.parquet\""
   ]
  },
  {
   "cell_type": "code",
   "execution_count": 4,
   "metadata": {},
   "outputs": [],
   "source": [
    "df_TY_features = pd.read_parquet(file_name_TY_features)\n",
    "df_TY_users = pd.read_parquet(file_name_TY_users)"
   ]
  },
  {
   "cell_type": "code",
   "execution_count": 7,
   "metadata": {},
   "outputs": [
    {
     "data": {
      "text/html": [
       "<div>\n",
       "<style scoped>\n",
       "    .dataframe tbody tr th:only-of-type {\n",
       "        vertical-align: middle;\n",
       "    }\n",
       "\n",
       "    .dataframe tbody tr th {\n",
       "        vertical-align: top;\n",
       "    }\n",
       "\n",
       "    .dataframe thead th {\n",
       "        text-align: right;\n",
       "    }\n",
       "</style>\n",
       "<table border=\"1\" class=\"dataframe\">\n",
       "  <thead>\n",
       "    <tr style=\"text-align: right;\">\n",
       "      <th></th>\n",
       "      <th>customer</th>\n",
       "      <th>invoice</th>\n",
       "      <th>invoice_date</th>\n",
       "      <th>artikelnr</th>\n",
       "      <th>volume</th>\n",
       "      <th>sum1</th>\n",
       "      <th>sum2</th>\n",
       "      <th>postcode_delivery</th>\n",
       "      <th>postcode_customer</th>\n",
       "      <th>channel</th>\n",
       "    </tr>\n",
       "  </thead>\n",
       "  <tbody>\n",
       "    <tr>\n",
       "      <th>0</th>\n",
       "      <td>2284</td>\n",
       "      <td>1187467</td>\n",
       "      <td>2020-01-02</td>\n",
       "      <td>6439980</td>\n",
       "      <td>24</td>\n",
       "      <td>343.73</td>\n",
       "      <td>362.30</td>\n",
       "      <td>80413</td>\n",
       "      <td>80413</td>\n",
       "      <td>Tel 86041</td>\n",
       "    </tr>\n",
       "    <tr>\n",
       "      <th>1</th>\n",
       "      <td>2284</td>\n",
       "      <td>1187467</td>\n",
       "      <td>2020-01-02</td>\n",
       "      <td>6439981</td>\n",
       "      <td>60</td>\n",
       "      <td>1067.64</td>\n",
       "      <td>1119.96</td>\n",
       "      <td>80413</td>\n",
       "      <td>80413</td>\n",
       "      <td>Tel 86041</td>\n",
       "    </tr>\n",
       "    <tr>\n",
       "      <th>2</th>\n",
       "      <td>2284</td>\n",
       "      <td>1187467</td>\n",
       "      <td>2020-01-02</td>\n",
       "      <td>6420905</td>\n",
       "      <td>120</td>\n",
       "      <td>2214.00</td>\n",
       "      <td>2408.40</td>\n",
       "      <td>80413</td>\n",
       "      <td>80413</td>\n",
       "      <td>Tel 86041</td>\n",
       "    </tr>\n",
       "    <tr>\n",
       "      <th>3</th>\n",
       "      <td>1704</td>\n",
       "      <td>1191447</td>\n",
       "      <td>2020-01-17</td>\n",
       "      <td>8433401</td>\n",
       "      <td>1</td>\n",
       "      <td>21.52</td>\n",
       "      <td>19.32</td>\n",
       "      <td>81724</td>\n",
       "      <td>81724</td>\n",
       "      <td>OTC 81812</td>\n",
       "    </tr>\n",
       "    <tr>\n",
       "      <th>4</th>\n",
       "      <td>45</td>\n",
       "      <td>1187691</td>\n",
       "      <td>2020-01-03</td>\n",
       "      <td>7180136</td>\n",
       "      <td>4</td>\n",
       "      <td>28.91</td>\n",
       "      <td>28.49</td>\n",
       "      <td>81796</td>\n",
       "      <td>81796</td>\n",
       "      <td>Web Order</td>\n",
       "    </tr>\n",
       "  </tbody>\n",
       "</table>\n",
       "</div>"
      ],
      "text/plain": [
       "   customer  invoice invoice_date  artikelnr  volume     sum1     sum2  \\\n",
       "0      2284  1187467   2020-01-02    6439980      24   343.73   362.30   \n",
       "1      2284  1187467   2020-01-02    6439981      60  1067.64  1119.96   \n",
       "2      2284  1187467   2020-01-02    6420905     120  2214.00  2408.40   \n",
       "3      1704  1191447   2020-01-17    8433401       1    21.52    19.32   \n",
       "4        45  1187691   2020-01-03    7180136       4    28.91    28.49   \n",
       "\n",
       "   postcode_delivery  postcode_customer    channel  \n",
       "0              80413              80413  Tel 86041  \n",
       "1              80413              80413  Tel 86041  \n",
       "2              80413              80413  Tel 86041  \n",
       "3              81724              81724  OTC 81812  \n",
       "4              81796              81796  Web Order  "
      ]
     },
     "execution_count": 7,
     "metadata": {},
     "output_type": "execute_result"
    }
   ],
   "source": [
    "df_TY_users.head()"
   ]
  },
  {
   "cell_type": "code",
   "execution_count": 22,
   "metadata": {},
   "outputs": [
    {
     "data": {
      "text/plain": [
       "customer  invoice  invoice_date  artikelnr  volume  sum1     sum2     postcode_delivery  postcode_customer  channel  \n",
       "1771      1403836  2022-05-17    8060057    1       354.66   317.54   85431              85431              Tel 85705    12\n",
       "          1419410  2022-07-15    8060051    1       534.87   475.44   85431              85431              Web Order    10\n",
       "          1422459  2022-07-28    8060051    1       534.87   475.44   85431              85431              Web Order    10\n",
       "526       1267687  2020-11-10    7530134    1       352.13   542.59   81749              81749              Tel 81812     9\n",
       "672       1477536  2023-03-16    8060051    1       501.85   475.44   81101              81101              Web Order     7\n",
       "                                                                                                                         ..\n",
       "517       1378996  2022-02-10    4291303    5       313.50   228.00   81001              81045              Tel 81812     1\n",
       "          1399358  2022-04-29    2269773    13      1359.91  1085.50  81001              81045              Tel 81812     1\n",
       "                                 6510003    12      856.92   732.00   81001              81045              Tel 81812     1\n",
       "          1412876  2022-06-23    8403297    4       457.74   340.80   81001              81045              Tel 81812     1\n",
       "2500      1592232  2024-08-20    6500219    1000    266.20   217.80   85140              85145              Web Order     1\n",
       "Name: count, Length: 50954, dtype: int64"
      ]
     },
     "execution_count": 22,
     "metadata": {},
     "output_type": "execute_result"
    }
   ],
   "source": [
    "Q1_sum1 = df_TY_users[\"sum1\"].quantile(0.25)\n",
    "Q3_sum1 = df_TY_users[\"sum1\"].quantile(0.75)\n",
    "IQR_sum1 = Q3 - Q1\n",
    "\n",
    "Q1_sum2 = df_TY_users[\"sum2\"].quantile(0.25)\n",
    "Q3_sum2 = df_TY_users[\"sum2\"].quantile(0.75)\n",
    "IQR_sum2 = Q3 - Q1\n",
    "\n",
    "lower_bound_sum1 = Q1 - 1.5 * IQR\n",
    "higher_bound_sum1 = Q3 + 1.5 * IQR\n",
    "\n",
    "\n",
    "outliers = df_TY_users[(df_TY_users[\"sum1\"] < lower_bound) | (df_TY_users[\"sum1\"] > higher_bound)].value_counts()\n",
    "outliers\n"
   ]
  },
  {
   "cell_type": "code",
   "execution_count": 23,
   "metadata": {},
   "outputs": [
    {
     "data": {
      "text/plain": [
       "customer  invoice  invoice_date  artikelnr  volume  sum1   sum2   postcode_delivery  postcode_customer  channel  \n",
       "958       1189844  2020-01-14    3404189    14      15.67  13.84  81700              81704              Web Order    85\n",
       "          1219428  2020-04-30    3404189    14      14.57  13.84  81700              81704              Web Order    80\n",
       "          1270390  2020-11-19    3405772    14      16.78  22.17  81700              81704              Web Order    78\n",
       "          1207587  2020-03-13    3404189    14      15.67  13.84  81700              81704              Web Order    60\n",
       "          1260899  2020-10-15    3405772    14      16.78  22.17  81700              81704              Web Order    57\n",
       "                                                                                                                     ..\n",
       "467       1411650  2022-06-17    6770041    4       23.88  21.44  83860              83862              Tel 84817     1\n",
       "                                 6770040    10      55.35  49.71  83860              83862              Tel 84817     1\n",
       "                                            4       22.14  19.88  83860              83862              Tel 84817     1\n",
       "                                 6770027    34      15.81  12.42  83860              83862              Tel 84817     1\n",
       "2500      1597324  2024-09-24    8435756    5       35.74  28.08  85140              85145              Web Order     1\n",
       "Name: count, Length: 475197, dtype: int64"
      ]
     },
     "execution_count": 23,
     "metadata": {},
     "output_type": "execute_result"
    }
   ],
   "source": [
    "df_TY_users.value_counts()"
   ]
  },
  {
   "cell_type": "code",
   "execution_count": 24,
   "metadata": {},
   "outputs": [],
   "source": [
    "df_users_TY_no_outliers = df_TY_users.drop(outliers)"
   ]
  },
  {
   "cell_type": "code",
   "execution_count": 29,
   "metadata": {},
   "outputs": [
    {
     "data": {
      "text/html": [
       "<div>\n",
       "<style scoped>\n",
       "    .dataframe tbody tr th:only-of-type {\n",
       "        vertical-align: middle;\n",
       "    }\n",
       "\n",
       "    .dataframe tbody tr th {\n",
       "        vertical-align: top;\n",
       "    }\n",
       "\n",
       "    .dataframe thead th {\n",
       "        text-align: right;\n",
       "    }\n",
       "</style>\n",
       "<table border=\"1\" class=\"dataframe\">\n",
       "  <thead>\n",
       "    <tr style=\"text-align: right;\">\n",
       "      <th></th>\n",
       "      <th>customer</th>\n",
       "      <th>invoice</th>\n",
       "      <th>invoice_date</th>\n",
       "      <th>artikelnr</th>\n",
       "      <th>volume</th>\n",
       "      <th>sum1</th>\n",
       "      <th>sum2</th>\n",
       "      <th>postcode_delivery</th>\n",
       "      <th>postcode_customer</th>\n",
       "      <th>channel</th>\n",
       "    </tr>\n",
       "  </thead>\n",
       "  <tbody>\n",
       "    <tr>\n",
       "      <th>3</th>\n",
       "      <td>1704</td>\n",
       "      <td>1191447</td>\n",
       "      <td>2020-01-17</td>\n",
       "      <td>8433401</td>\n",
       "      <td>1</td>\n",
       "      <td>21.52</td>\n",
       "      <td>19.32</td>\n",
       "      <td>81724</td>\n",
       "      <td>81724</td>\n",
       "      <td>OTC 81812</td>\n",
       "    </tr>\n",
       "    <tr>\n",
       "      <th>4</th>\n",
       "      <td>45</td>\n",
       "      <td>1187691</td>\n",
       "      <td>2020-01-03</td>\n",
       "      <td>7180136</td>\n",
       "      <td>4</td>\n",
       "      <td>28.91</td>\n",
       "      <td>28.49</td>\n",
       "      <td>81796</td>\n",
       "      <td>81796</td>\n",
       "      <td>Web Order</td>\n",
       "    </tr>\n",
       "    <tr>\n",
       "      <th>5</th>\n",
       "      <td>812</td>\n",
       "      <td>1187640</td>\n",
       "      <td>2020-01-03</td>\n",
       "      <td>7810161</td>\n",
       "      <td>1</td>\n",
       "      <td>119.91</td>\n",
       "      <td>125.73</td>\n",
       "      <td>81681</td>\n",
       "      <td>81681</td>\n",
       "      <td>Web Order</td>\n",
       "    </tr>\n",
       "    <tr>\n",
       "      <th>7</th>\n",
       "      <td>812</td>\n",
       "      <td>1187640</td>\n",
       "      <td>2020-01-03</td>\n",
       "      <td>7810732</td>\n",
       "      <td>1</td>\n",
       "      <td>126.93</td>\n",
       "      <td>133.10</td>\n",
       "      <td>81681</td>\n",
       "      <td>81681</td>\n",
       "      <td>Web Order</td>\n",
       "    </tr>\n",
       "    <tr>\n",
       "      <th>8</th>\n",
       "      <td>812</td>\n",
       "      <td>1187640</td>\n",
       "      <td>2020-01-03</td>\n",
       "      <td>7813462</td>\n",
       "      <td>4</td>\n",
       "      <td>4.51</td>\n",
       "      <td>4.61</td>\n",
       "      <td>81681</td>\n",
       "      <td>81681</td>\n",
       "      <td>Web Order</td>\n",
       "    </tr>\n",
       "    <tr>\n",
       "      <th>...</th>\n",
       "      <td>...</td>\n",
       "      <td>...</td>\n",
       "      <td>...</td>\n",
       "      <td>...</td>\n",
       "      <td>...</td>\n",
       "      <td>...</td>\n",
       "      <td>...</td>\n",
       "      <td>...</td>\n",
       "      <td>...</td>\n",
       "      <td>...</td>\n",
       "    </tr>\n",
       "    <tr>\n",
       "      <th>492724</th>\n",
       "      <td>441</td>\n",
       "      <td>1596745</td>\n",
       "      <td>2024-09-19</td>\n",
       "      <td>7202385</td>\n",
       "      <td>1</td>\n",
       "      <td>9.87</td>\n",
       "      <td>9.03</td>\n",
       "      <td>85684</td>\n",
       "      <td>85684</td>\n",
       "      <td>ERP Order</td>\n",
       "    </tr>\n",
       "    <tr>\n",
       "      <th>492727</th>\n",
       "      <td>2478</td>\n",
       "      <td>1596752</td>\n",
       "      <td>2024-09-19</td>\n",
       "      <td>8530813</td>\n",
       "      <td>2</td>\n",
       "      <td>23.86</td>\n",
       "      <td>18.94</td>\n",
       "      <td>85711</td>\n",
       "      <td>85711</td>\n",
       "      <td>Web Order</td>\n",
       "    </tr>\n",
       "    <tr>\n",
       "      <th>492728</th>\n",
       "      <td>2478</td>\n",
       "      <td>1596752</td>\n",
       "      <td>2024-09-19</td>\n",
       "      <td>6223564</td>\n",
       "      <td>10</td>\n",
       "      <td>27.82</td>\n",
       "      <td>23.54</td>\n",
       "      <td>85711</td>\n",
       "      <td>85711</td>\n",
       "      <td>Web Order</td>\n",
       "    </tr>\n",
       "    <tr>\n",
       "      <th>492729</th>\n",
       "      <td>2478</td>\n",
       "      <td>1596752</td>\n",
       "      <td>2024-09-19</td>\n",
       "      <td>6220412</td>\n",
       "      <td>10</td>\n",
       "      <td>4.88</td>\n",
       "      <td>4.13</td>\n",
       "      <td>85711</td>\n",
       "      <td>85711</td>\n",
       "      <td>Web Order</td>\n",
       "    </tr>\n",
       "    <tr>\n",
       "      <th>492730</th>\n",
       "      <td>410</td>\n",
       "      <td>2409141</td>\n",
       "      <td>2020-06-09</td>\n",
       "      <td>7944036</td>\n",
       "      <td>1</td>\n",
       "      <td>40.11</td>\n",
       "      <td>47.79</td>\n",
       "      <td>81716</td>\n",
       "      <td>81716</td>\n",
       "      <td>Tel 81812</td>\n",
       "    </tr>\n",
       "  </tbody>\n",
       "</table>\n",
       "<p>434783 rows × 10 columns</p>\n",
       "</div>"
      ],
      "text/plain": [
       "        customer  invoice invoice_date  artikelnr  volume    sum1    sum2  \\\n",
       "3           1704  1191447   2020-01-17    8433401       1   21.52   19.32   \n",
       "4             45  1187691   2020-01-03    7180136       4   28.91   28.49   \n",
       "5            812  1187640   2020-01-03    7810161       1  119.91  125.73   \n",
       "7            812  1187640   2020-01-03    7810732       1  126.93  133.10   \n",
       "8            812  1187640   2020-01-03    7813462       4    4.51    4.61   \n",
       "...          ...      ...          ...        ...     ...     ...     ...   \n",
       "492724       441  1596745   2024-09-19    7202385       1    9.87    9.03   \n",
       "492727      2478  1596752   2024-09-19    8530813       2   23.86   18.94   \n",
       "492728      2478  1596752   2024-09-19    6223564      10   27.82   23.54   \n",
       "492729      2478  1596752   2024-09-19    6220412      10    4.88    4.13   \n",
       "492730       410  2409141   2020-06-09    7944036       1   40.11   47.79   \n",
       "\n",
       "        postcode_delivery  postcode_customer    channel  \n",
       "3                   81724              81724  OTC 81812  \n",
       "4                   81796              81796  Web Order  \n",
       "5                   81681              81681  Web Order  \n",
       "7                   81681              81681  Web Order  \n",
       "8                   81681              81681  Web Order  \n",
       "...                   ...                ...        ...  \n",
       "492724              85684              85684  ERP Order  \n",
       "492727              85711              85711  Web Order  \n",
       "492728              85711              85711  Web Order  \n",
       "492729              85711              85711  Web Order  \n",
       "492730              81716              81716  Tel 81812  \n",
       "\n",
       "[434783 rows x 10 columns]"
      ]
     },
     "execution_count": 29,
     "metadata": {},
     "output_type": "execute_result"
    }
   ],
   "source": [
    "# Calculating IQR for sum1\n",
    "Q1_sum1 = df_TY_users['sum1'].quantile(0.25)\n",
    "Q3_sum1 = df_TY_users['sum1'].quantile(0.75)\n",
    "IQR_sum1 = Q3_sum1 - Q1_sum1\n",
    "lower_bound_sum1 = Q1_sum1 - 1.5 * IQR_sum1\n",
    "upper_bound_sum1 = Q3_sum1 + 1.5 * IQR_sum1\n",
    "\n",
    "# Calculating IQR for sum2\n",
    "Q1_sum2 = df_TY_users['sum2'].quantile(0.25)\n",
    "Q3_sum2 = df_TY_users['sum2'].quantile(0.75)\n",
    "IQR_sum2 = Q3_sum2 - Q1_sum2\n",
    "lower_bound_sum2 = Q1_sum2 - 1.5 * IQR_sum2\n",
    "upper_bound_sum2 = Q3_sum2 + 1.5 * IQR_sum2\n",
    "\n",
    "# Removing outliers in sum1 and sum2\n",
    "df_cleaned = df_TY_users[\n",
    "    (df_TY_users['sum1'] >= lower_bound_sum1) & (df_TY_users['sum1'] <= upper_bound_sum1) & \n",
    "    (df_TY_users['sum2'] >= lower_bound_sum2) & (df_TY_users['sum2'] <= upper_bound_sum2)]\n",
    "df_cleaned"
   ]
  },
  {
   "cell_type": "code",
   "execution_count": 32,
   "metadata": {},
   "outputs": [
    {
     "name": "stdout",
     "output_type": "stream",
     "text": [
      "sum1    51.786612\n",
      "sum2    51.490867\n",
      "dtype: float64\n",
      "sum1    0.0\n",
      "sum2    0.0\n",
      "dtype: float64\n",
      "sum1    256.68\n",
      "sum2    257.24\n",
      "dtype: float64\n"
     ]
    }
   ],
   "source": [
    "print(df_cleaned[[\"sum1\", \"sum2\" ]].mean())\n",
    "print(df_cleaned[[\"sum1\", \"sum2\" ]].min())\n",
    "print(df_cleaned[[\"sum1\", \"sum2\" ]].max())"
   ]
  },
  {
   "cell_type": "code",
   "execution_count": 40,
   "metadata": {},
   "outputs": [
    {
     "name": "stdout",
     "output_type": "stream",
     "text": [
      "3          21.52\n",
      "4          28.91\n",
      "5         119.91\n",
      "7         126.93\n",
      "8           4.51\n",
      "           ...  \n",
      "492724      9.87\n",
      "492727     23.86\n",
      "492728     27.82\n",
      "492729      4.88\n",
      "492730     40.11\n",
      "Name: sum1, Length: 434783, dtype: float64\n"
     ]
    }
   ],
   "source": [
    "if df_cleaned[\"sum1\"].all() == 0:\n",
    "    print(df_cleaned[\"sum1\"])"
   ]
  },
  {
   "cell_type": "code",
   "execution_count": 48,
   "metadata": {},
   "outputs": [
    {
     "name": "stdout",
     "output_type": "stream",
     "text": [
      "Rows where sum1 is zero:\n",
      "customer  invoice  invoice_date  artikelnr  volume  sum1  sum2    postcode_delivery  postcode_customer  channel  \n",
      "215       1327548  2021-07-06    2990133    1       0.0   29.95   85298              85298              Tel 85705    3\n",
      "431       1327261  2021-07-06    2990133    1       0.0   29.95   81627              81627              Tel 81812    2\n",
      "1184      1201440  2020-02-20    7808728    4       0.0   80.43   88271              88271              Tel 89206    2\n",
      "                                            2       0.0   40.22   88271              88271              Tel 89206    2\n",
      "1770      1427177  2022-08-25    2990257    2       0.0   0.00    81704              81704              OTC 81812    1\n",
      "                                                                                                                    ..\n",
      "812       1204810  2020-03-05    4700000    1       0.0   0.00    81681              81681              Tel 81812    1\n",
      "          1224165  2020-05-19    4237717    1       0.0   9.18    81681              81681              Tel 81812    1\n",
      "          1230227  2020-06-11    4570003    20      0.0   1.80    81681              81681              Tel 81812    1\n",
      "          1328746  2021-07-09    2990133    5       0.0   149.75  81681              81681              Tel 81812    1\n",
      "2500      1440460  2022-10-18    6101406    100     0.0   65.32   85140              85145              Tel 84817    1\n",
      "Name: count, Length: 163, dtype: int64\n",
      "\n",
      "Rows where sum2 is zero:\n",
      "customer  invoice  invoice_date  artikelnr  volume  sum1   sum2  postcode_delivery  postcode_customer  channel  \n",
      "14        1499515  2023-06-15    2990051    2       0.0    0.0   85342              85342              Tel 86041    1\n",
      "          1504878  2023-07-05    2990051    1       0.0    0.0   85342              85342              Tel 86041    1\n",
      "1822      1331713  2021-07-22    2990043    1       0.0    0.0   81661              81661              OTC 81812    1\n",
      "1770      1427177  2022-08-25    2990257    2       0.0    0.0   81704              81704              OTC 81812    1\n",
      "1741      1327344  2021-07-06    2264682    10      0.0    0.0   81774              81774              Tel 81812    1\n",
      "                                                                                                                   ..\n",
      "988       1346697  2021-10-01    2990151    1       0.0    0.0   81747              81747              Tel 81812    1\n",
      "812       1527107  2023-10-12    2990046    2       0.0    0.0   81681              81681              OTC 81812    1\n",
      "          1204810  2020-03-05    4700000    1       0.0    0.0   81681              81681              Tel 81812    1\n",
      "785       1375091  2022-01-25    2266793    100     225.0  0.0   89262              89251              OTC 89206    1\n",
      "2500      1440460  2022-10-18    2990257    1       0.0    0.0   85140              85145              Tel 84817    1\n",
      "Name: count, Length: 80, dtype: int64\n"
     ]
    }
   ],
   "source": [
    "# Checking for zero values in sum1 and sum2\n",
    "zeros_in_sum1 = df_cleaned[df_cleaned['sum1'] == 0]\n",
    "zeros_in_sum2 = df_cleaned[df_cleaned['sum2'] == 0]\n",
    "\n",
    "# Display the rows where sum1 or sum2 are zero\n",
    "print(\"Rows where sum1 is zero:\")\n",
    "print(zeros_in_sum1.value_counts())\n",
    "\n",
    "print(\"\\nRows where sum2 is zero:\")\n",
    "print(zeros_in_sum2.value_counts())\n"
   ]
  },
  {
   "cell_type": "code",
   "execution_count": 54,
   "metadata": {},
   "outputs": [
    {
     "data": {
      "text/plain": [
       "customer  invoice  invoice_date  artikelnr  volume  sum1    sum2    postcode_delivery  postcode_customer  channel  \n",
       "958       1189844  2020-01-14    3404189    14      15.67   13.84   81700              81704              Web Order    85\n",
       "          1219428  2020-04-30    3404189    14      14.57   13.84   81700              81704              Web Order    80\n",
       "          1270390  2020-11-19    3405772    14      16.78   22.17   81700              81704              Web Order    78\n",
       "          1207587  2020-03-13    3404189    14      15.67   13.84   81700              81704              Web Order    60\n",
       "          1260899  2020-10-15    3405772    14      16.78   22.17   81700              81704              Web Order    57\n",
       "                                                                                                                       ..\n",
       "453       1352053  2021-10-21    7190020    15      116.70  112.80  89288              89288              OTC 89206     1\n",
       "          1346621  2021-09-30    8300758    10      219.18  182.50  89288              89288              Tel 89206     1\n",
       "                                 7401562    5       28.46   23.40   89288              89288              Tel 89206     1\n",
       "                                 7401151    5       34.95   30.25   89288              89288              Tel 89206     1\n",
       "2500      1597324  2024-09-24    8435756    5       35.74   28.08   85140              85145              Web Order     1\n",
       "Name: count, Length: 418285, dtype: int64"
      ]
     },
     "execution_count": 54,
     "metadata": {},
     "output_type": "execute_result"
    }
   ],
   "source": [
    "# Removing rows where sum1 or sum2 is zero\n",
    "df_cleaned_zeros = df_cleaned[(df_cleaned['sum1'] != 0) & (df_cleaned['sum2'] != 0)]\n",
    "\n",
    "# Display the cleaned DataFrame\n",
    "df_cleaned_zeros.value_counts()"
   ]
  },
  {
   "cell_type": "code",
   "execution_count": 56,
   "metadata": {},
   "outputs": [
    {
     "data": {
      "image/png": "[encoded data removed]",
      "text/plain": [
       "<Figure size 640x480 with 1 Axes>"
      ]
     },
     "metadata": {},
     "output_type": "display_data"
    }
   ],
   "source": [
    "plt.scatter(df_cleaned_zeros[\"customer\"], df_cleaned_zeros[\"sum1\"])\n",
    "plt.show()\n",
    "            \n",
    "            "
   ]
  },
  {
   "cell_type": "code",
   "execution_count": 57,
   "metadata": {},
   "outputs": [
    {
     "data": {
      "image/png": "[encoded data removed]",
      "text/plain": [
       "<Figure size 1200x600 with 2 Axes>"
      ]
     },
     "metadata": {},
     "output_type": "display_data"
    }
   ],
   "source": [
    "# Plot histogram and KDE for sum1 and sum2\n",
    "fig, (ax1, ax2) = plt.subplots(1, 2, figsize=(12, 6))\n",
    "\n",
    "# Sum1\n",
    "sns.histplot(df_cleaned_zeros['sum1'], kde=True, ax=ax1)\n",
    "ax1.set_title('Histogram and KDE of sum1')\n",
    "\n",
    "# Sum2\n",
    "sns.histplot(df_cleaned_zeros['sum2'], kde=True, ax=ax2)\n",
    "ax2.set_title('Histogram and KDE of sum2')\n",
    "\n",
    "plt.tight_layout()\n",
    "plt.show()"
   ]
  },
  {
   "cell_type": "code",
   "execution_count": null,
   "metadata": {},
   "outputs": [],
   "source": [
    "# Calculate the 'margins' column using the formula (sum2 - sum1) / sum1\n",
    "#df['margins'] = (df['sum2'] - df['sum1']) / df['sum1']\n",
    "df_Tao_yin_users[\"margins\"] = (df_Tao_yin_users[\"sum2\"] - df_Tao_yin_users[\"sum1\"]) / df_Tao_yin_users[\"sum1\"]\n",
    "df_Tao_yin_users.head(20)"
   ]
  }
 ],
 "metadata": {
  "kernelspec": {
   "display_name": "base",
   "language": "python",
   "name": "python3"
  },
  "language_info": {
   "codemirror_mode": {
    "name": "ipython",
    "version": 3
   },
   "file_extension": ".py",
   "mimetype": "text/x-python",
   "name": "python",
   "nbconvert_exporter": "python",
   "pygments_lexer": "ipython3",
   "version": "3.12.4"
  }
 },
 "nbformat": 4,
 "nbformat_minor": 2
}
