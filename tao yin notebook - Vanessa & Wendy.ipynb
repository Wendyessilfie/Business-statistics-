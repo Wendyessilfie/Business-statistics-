{
 "cells": [
  {
   "cell_type": "code",
   "execution_count": 35,
   "metadata": {},
   "outputs": [],
   "source": [
    "import pandas as pd\n",
    "import numpy as np\n",
    "import matplotlib.pyplot as plt\n",
    "import seaborn as sns\n",
    "from scipy import stats"
   ]
  },
  {
   "cell_type": "code",
   "execution_count": 36,
   "metadata": {},
   "outputs": [],
   "source": [
    "#df_TY_features = pd.read_parquet(file_name_TY_features1)\n",
    "df_TY_users = pd.read_parquet(\"/Users/wendyessilfie/Documents/GitHub/Business-statistics-/TaoYin_User_Transactions.parquet\")"
   ]
  },
  {
   "cell_type": "markdown",
   "metadata": {},
   "source": [
    "1. FEATURE ENGINEERING of CUSTOMERS by PROFIT"
   ]
  },
  {
   "cell_type": "code",
   "execution_count": 37,
   "metadata": {},
   "outputs": [
    {
     "data": {
      "text/html": [
       "<div>\n",
       "<style scoped>\n",
       "    .dataframe tbody tr th:only-of-type {\n",
       "        vertical-align: middle;\n",
       "    }\n",
       "\n",
       "    .dataframe tbody tr th {\n",
       "        vertical-align: top;\n",
       "    }\n",
       "\n",
       "    .dataframe thead th {\n",
       "        text-align: right;\n",
       "    }\n",
       "</style>\n",
       "<table border=\"1\" class=\"dataframe\">\n",
       "  <thead>\n",
       "    <tr style=\"text-align: right;\">\n",
       "      <th></th>\n",
       "      <th>customer</th>\n",
       "      <th>invoice</th>\n",
       "      <th>invoice_date</th>\n",
       "      <th>artikelnr</th>\n",
       "      <th>volume</th>\n",
       "      <th>sum1</th>\n",
       "      <th>sum2</th>\n",
       "      <th>postcode_delivery</th>\n",
       "      <th>postcode_customer</th>\n",
       "      <th>channel</th>\n",
       "      <th>profit</th>\n",
       "    </tr>\n",
       "  </thead>\n",
       "  <tbody>\n",
       "    <tr>\n",
       "      <th>0</th>\n",
       "      <td>2284</td>\n",
       "      <td>1187467</td>\n",
       "      <td>2020-01-02</td>\n",
       "      <td>6439980</td>\n",
       "      <td>24</td>\n",
       "      <td>343.73</td>\n",
       "      <td>362.30</td>\n",
       "      <td>80413</td>\n",
       "      <td>80413</td>\n",
       "      <td>Tel 86041</td>\n",
       "      <td>18.57</td>\n",
       "    </tr>\n",
       "    <tr>\n",
       "      <th>1</th>\n",
       "      <td>2284</td>\n",
       "      <td>1187467</td>\n",
       "      <td>2020-01-02</td>\n",
       "      <td>6439981</td>\n",
       "      <td>60</td>\n",
       "      <td>1067.64</td>\n",
       "      <td>1119.96</td>\n",
       "      <td>80413</td>\n",
       "      <td>80413</td>\n",
       "      <td>Tel 86041</td>\n",
       "      <td>52.32</td>\n",
       "    </tr>\n",
       "    <tr>\n",
       "      <th>2</th>\n",
       "      <td>2284</td>\n",
       "      <td>1187467</td>\n",
       "      <td>2020-01-02</td>\n",
       "      <td>6420905</td>\n",
       "      <td>120</td>\n",
       "      <td>2214.00</td>\n",
       "      <td>2408.40</td>\n",
       "      <td>80413</td>\n",
       "      <td>80413</td>\n",
       "      <td>Tel 86041</td>\n",
       "      <td>194.40</td>\n",
       "    </tr>\n",
       "    <tr>\n",
       "      <th>3</th>\n",
       "      <td>1704</td>\n",
       "      <td>1191447</td>\n",
       "      <td>2020-01-17</td>\n",
       "      <td>8433401</td>\n",
       "      <td>1</td>\n",
       "      <td>21.52</td>\n",
       "      <td>19.32</td>\n",
       "      <td>81724</td>\n",
       "      <td>81724</td>\n",
       "      <td>OTC 81812</td>\n",
       "      <td>-2.20</td>\n",
       "    </tr>\n",
       "    <tr>\n",
       "      <th>4</th>\n",
       "      <td>45</td>\n",
       "      <td>1187691</td>\n",
       "      <td>2020-01-03</td>\n",
       "      <td>7180136</td>\n",
       "      <td>4</td>\n",
       "      <td>28.91</td>\n",
       "      <td>28.49</td>\n",
       "      <td>81796</td>\n",
       "      <td>81796</td>\n",
       "      <td>Web Order</td>\n",
       "      <td>-0.42</td>\n",
       "    </tr>\n",
       "  </tbody>\n",
       "</table>\n",
       "</div>"
      ],
      "text/plain": [
       "   customer  invoice invoice_date  artikelnr  volume     sum1     sum2  \\\n",
       "0      2284  1187467   2020-01-02    6439980      24   343.73   362.30   \n",
       "1      2284  1187467   2020-01-02    6439981      60  1067.64  1119.96   \n",
       "2      2284  1187467   2020-01-02    6420905     120  2214.00  2408.40   \n",
       "3      1704  1191447   2020-01-17    8433401       1    21.52    19.32   \n",
       "4        45  1187691   2020-01-03    7180136       4    28.91    28.49   \n",
       "\n",
       "   postcode_delivery  postcode_customer    channel  profit  \n",
       "0              80413              80413  Tel 86041   18.57  \n",
       "1              80413              80413  Tel 86041   52.32  \n",
       "2              80413              80413  Tel 86041  194.40  \n",
       "3              81724              81724  OTC 81812   -2.20  \n",
       "4              81796              81796  Web Order   -0.42  "
      ]
     },
     "execution_count": 37,
     "metadata": {},
     "output_type": "execute_result"
    }
   ],
   "source": [
    "# Calculate the 'profit' column using the formula (sum2 - sum1)\n",
    "df_TY_users.loc[:,\"profit\"] = (df_TY_users[\"sum2\"] - df_TY_users[\"sum1\"])\n",
    "df_TY_users.head()"
   ]
  },
  {
   "cell_type": "code",
   "execution_count": 38,
   "metadata": {},
   "outputs": [
    {
     "name": "stdout",
     "output_type": "stream",
     "text": [
      "   customer_  profit_sum   sales_sum\n",
      "0          0       -2.53       13.72\n",
      "1          3    10263.09   712214.87\n",
      "2          4     -736.60     3135.02\n",
      "3          5    -2220.25     2199.45\n",
      "4          6       -8.89       99.48\n",
      "5         14    33219.18  1397887.79\n",
      "6         17    -1381.80      205.80\n",
      "7         21       35.63      294.17\n",
      "8         22     -126.29     1048.19\n",
      "9         30       -8.49      289.87\n"
     ]
    }
   ],
   "source": [
    "df_TY_customer_merged = df_TY_users.groupby(\"customer\").agg({'profit' : ['sum'], 'sum2' : ['sum']}).reset_index()\n",
    "df_TY_customer_merged.head(10)\n",
    "\n",
    "# Flatten the column index\n",
    "df_TY_customer_merged.columns = ['_'.join(col).strip() for col in df_TY_customer_merged.columns.values]\n",
    "\n",
    "# Rename sales column\n",
    "df_TY_customer_merged = df_TY_customer_merged.rename(columns={'sum2_sum': 'sales_sum'})\n",
    "\n",
    "# Display the DataFrame\n",
    "print(df_TY_customer_merged.head(10))"
   ]
  },
  {
   "cell_type": "code",
   "execution_count": 39,
   "metadata": {},
   "outputs": [
    {
     "name": "stdout",
     "output_type": "stream",
     "text": [
      "Sum of Profit: 13312202\n",
      "Sum of Sales: 127824304\n"
     ]
    }
   ],
   "source": [
    "column_sum1 = df_TY_customer_merged['profit_sum'].sum()\n",
    "column_sum2 = df_TY_customer_merged['sales_sum'].sum()\n",
    "print(\"Sum of Profit:\", int(column_sum1))\n",
    "print(\"Sum of Sales:\", int(column_sum2))"
   ]
  },
  {
   "cell_type": "markdown",
   "metadata": {},
   "source": [
    "Intermediate conclusion 1.1: The company is profitable with a margin of ~10%"
   ]
  },
  {
   "cell_type": "code",
   "execution_count": 40,
   "metadata": {},
   "outputs": [
    {
     "data": {
      "image/png": "[encoded data removed]",
      "text/plain": [
       "<Figure size 640x480 with 1 Axes>"
      ]
     },
     "metadata": {},
     "output_type": "display_data"
    }
   ],
   "source": [
    "df_TY_customer_merged.boxplot(column='profit_sum')\n",
    "\n",
    "# Labeling the axes\n",
    "plt.title('Boxplot of Values')\n",
    "plt.ylabel('Values')\n",
    "\n",
    "# Show the plot\n",
    "plt.show()"
   ]
  },
  {
   "cell_type": "markdown",
   "metadata": {},
   "source": [
    "Intermediate conclusion 1.2: There are outliers which will distort my analysis. I need to take care of these outliers. "
   ]
  },
  {
   "cell_type": "code",
   "execution_count": 41,
   "metadata": {},
   "outputs": [
    {
     "name": "stdout",
     "output_type": "stream",
     "text": [
      "Outliers using Z-score:\n",
      "      customer_  profit_sum   sales_sum  Modified Z-Score\n",
      "1             3    10263.09   712214.87         23.966517\n",
      "3             5    -2220.25     2199.45         -4.621446\n",
      "5            14    33219.18  1397887.79         76.538013\n",
      "12           40    -2287.33    19653.09         -4.775065\n",
      "14           42    -2465.45   104423.75         -5.182976\n",
      "...         ...         ...         ...               ...\n",
      "1060       2478    23093.03   149798.85         53.348226\n",
      "1062       2486     6255.48    33897.85         14.788733\n",
      "1064       2488     5513.15   224654.12         13.088731\n",
      "1066       2492    -3160.73    15763.15         -6.775229\n",
      "1069       2500   -13025.00    50832.34        -29.365288\n",
      "\n",
      "[291 rows x 4 columns]\n"
     ]
    }
   ],
   "source": [
    "# Extract the outliers\n",
    "\n",
    "median = df_TY_customer_merged['profit_sum'].median()\n",
    "mad = (df_TY_customer_merged['profit_sum'] - median).abs().median()\n",
    "\n",
    "# Calculate modified Z-scores\n",
    "df_TY_customer_merged['Modified Z-Score'] = 0.6745 * (df_TY_customer_merged['profit_sum'] - median) / mad\n",
    "\n",
    "# Identify outliers\n",
    "outliers = df_TY_customer_merged[df_TY_customer_merged['Modified Z-Score'].abs() > 3.5]\n",
    "\n",
    "outlier_customers = outliers['customer_'].tolist()\n",
    "#print(outlier_customers)\n",
    "print(\"Outliers using Z-score:\")\n",
    "print(outliers)"
   ]
  },
  {
   "cell_type": "code",
   "execution_count": 42,
   "metadata": {},
   "outputs": [
    {
     "name": "stdout",
     "output_type": "stream",
     "text": [
      "0\n"
     ]
    },
    {
     "name": "stderr",
     "output_type": "stream",
     "text": [
      "/var/folders/fh/wbkbplv94qz11z3b8wk1mrmw0000gn/T/ipykernel_46943/180137320.py:5: FutureWarning: A value is trying to be set on a copy of a DataFrame or Series through chained assignment using an inplace method.\n",
      "The behavior will change in pandas 3.0. This inplace method will never work because the intermediate object on which we are setting values always behaves as a copy.\n",
      "\n",
      "For example, when doing 'df[col].method(value, inplace=True)', try using 'df.method({col: value}, inplace=True)' or df[col] = df[col].method(value) instead, to perform the operation inplace on the original object.\n",
      "\n",
      "\n",
      "  df_TY_customer_merged['profit_sum'].replace([np.inf, -np.inf], np.nan, inplace=True)\n",
      "/var/folders/fh/wbkbplv94qz11z3b8wk1mrmw0000gn/T/ipykernel_46943/180137320.py:8: FutureWarning: A value is trying to be set on a copy of a DataFrame or Series through chained assignment using an inplace method.\n",
      "The behavior will change in pandas 3.0. This inplace method will never work because the intermediate object on which we are setting values always behaves as a copy.\n",
      "\n",
      "For example, when doing 'df[col].method(value, inplace=True)', try using 'df.method({col: value}, inplace=True)' or df[col] = df[col].method(value) instead, to perform the operation inplace on the original object.\n",
      "\n",
      "\n",
      "  df_TY_customer_merged['profit_sum'].fillna(df_TY_customer_merged['profit_sum'].max(), inplace=True)\n"
     ]
    }
   ],
   "source": [
    "# Check if there are any infinite values in the margins_sum column\n",
    "print(df_TY_customer_merged['profit_sum'].isin([np.inf, -np.inf]).sum())\n",
    "\n",
    "# Replace infinite values with NaN\n",
    "df_TY_customer_merged['profit_sum'].replace([np.inf, -np.inf], np.nan, inplace=True)\n",
    "\n",
    "# Optionally, fill NaN values with the maximum of the non-infinite data\n",
    "df_TY_customer_merged['profit_sum'].fillna(df_TY_customer_merged['profit_sum'].max(), inplace=True)\n"
   ]
  },
  {
   "cell_type": "code",
   "execution_count": 43,
   "metadata": {},
   "outputs": [
    {
     "data": {
      "text/plain": [
       "profit_category\n",
       "Medium       526\n",
       "Very Low     286\n",
       "Low          113\n",
       "Very High     76\n",
       "High          69\n",
       "Name: count, dtype: int64"
      ]
     },
     "execution_count": 43,
     "metadata": {},
     "output_type": "execute_result"
    }
   ],
   "source": [
    "# Determine the min and max values of 'profit_sum' to create bins without the outliers\n",
    "filtered_df = df_TY_customer_merged[~df_TY_customer_merged['customer_'].isin(outlier_customers)]\n",
    "min_profit = filtered_df['profit_sum'].min()\n",
    "max_profit = filtered_df['profit_sum'].max()\n",
    "\n",
    "# Create evenly spaced bins for margins using min and max values\n",
    "bins = np.linspace(min_profit, max_profit, num=6)  # Creates 5 equal-width intervals\n",
    "labels = ['Very Low', 'Low', 'Medium', 'High', 'Very High']\n",
    "\n",
    "# Create profit categories based on these equal-width bins\n",
    "df_TY_customer_merged['profit_category'] = pd.cut(df_TY_customer_merged['profit_sum'], bins=bins, labels=labels, include_lowest=True)\n",
    "df_TY_customer_merged.loc[df_TY_customer_merged['profit_sum'] > max_profit, 'profit_category'] = 'Very High' # bring the outliers back\n",
    "df_TY_customer_merged.loc[df_TY_customer_merged['profit_sum'] < min_profit, 'profit_category'] = 'Very Low'  # bring the outliers back\n",
    "\n",
    "# Sort by margin category and volume\n",
    "sorted_df = df_TY_customer_merged.sort_values(by=['profit_category', 'sales_sum'], ascending=[True, False]).reset_index()\n",
    "\n",
    "# Display the sorted dataframe\n",
    "#print(sorted_df[['customer_', 'profit_sum', 'sales_sum', 'profit_category']].head(20))\n",
    "sorted_df['profit_category'].value_counts()\n"
   ]
  },
  {
   "cell_type": "code",
   "execution_count": 46,
   "metadata": {},
   "outputs": [
    {
     "ename": "KeyError",
     "evalue": "'volume_sum'",
     "output_type": "error",
     "traceback": [
      "\u001b[0;31m---------------------------------------------------------------------------\u001b[0m",
      "\u001b[0;31mKeyError\u001b[0m                                  Traceback (most recent call last)",
      "\u001b[0;32m/var/folders/fh/wbkbplv94qz11z3b8wk1mrmw0000gn/T/ipykernel_46943/3396813453.py\u001b[0m in \u001b[0;36m?\u001b[0;34m()\u001b[0m\n\u001b[1;32m      5\u001b[0m \u001b[0;31m# Create margin categories based on equal-width bins\u001b[0m\u001b[0;34m\u001b[0m\u001b[0;34m\u001b[0m\u001b[0m\n\u001b[1;32m      6\u001b[0m \u001b[0mdf_TY_customer_merged\u001b[0m\u001b[0;34m[\u001b[0m\u001b[0;34m'margin_category'\u001b[0m\u001b[0;34m]\u001b[0m \u001b[0;34m=\u001b[0m \u001b[0mpd\u001b[0m\u001b[0;34m.\u001b[0m\u001b[0mcut\u001b[0m\u001b[0;34m(\u001b[0m\u001b[0mdf_TY_customer_merged\u001b[0m\u001b[0;34m[\u001b[0m\u001b[0;34m'profit_sum'\u001b[0m\u001b[0;34m]\u001b[0m\u001b[0;34m,\u001b[0m \u001b[0mbins\u001b[0m\u001b[0;34m=\u001b[0m\u001b[0mbins\u001b[0m\u001b[0;34m,\u001b[0m \u001b[0mlabels\u001b[0m\u001b[0;34m=\u001b[0m\u001b[0mlabels\u001b[0m\u001b[0;34m)\u001b[0m\u001b[0;34m\u001b[0m\u001b[0;34m\u001b[0m\u001b[0m\n\u001b[1;32m      7\u001b[0m \u001b[0;34m\u001b[0m\u001b[0m\n\u001b[1;32m      8\u001b[0m \u001b[0;31m# Sort by margin category and volume\u001b[0m\u001b[0;34m\u001b[0m\u001b[0;34m\u001b[0m\u001b[0m\n\u001b[0;32m----> 9\u001b[0;31m \u001b[0msorted_df\u001b[0m \u001b[0;34m=\u001b[0m \u001b[0mdf_TY_customer_merged\u001b[0m\u001b[0;34m.\u001b[0m\u001b[0msort_values\u001b[0m\u001b[0;34m(\u001b[0m\u001b[0mby\u001b[0m\u001b[0;34m=\u001b[0m\u001b[0;34m[\u001b[0m\u001b[0;34m'margin_category'\u001b[0m\u001b[0;34m,\u001b[0m \u001b[0;34m'volume_sum'\u001b[0m\u001b[0;34m]\u001b[0m\u001b[0;34m,\u001b[0m \u001b[0mascending\u001b[0m\u001b[0;34m=\u001b[0m\u001b[0;34m[\u001b[0m\u001b[0;32mTrue\u001b[0m\u001b[0;34m,\u001b[0m \u001b[0;32mFalse\u001b[0m\u001b[0;34m]\u001b[0m\u001b[0;34m)\u001b[0m\u001b[0;34m\u001b[0m\u001b[0;34m\u001b[0m\u001b[0m\n\u001b[0m\u001b[1;32m     10\u001b[0m \u001b[0;34m\u001b[0m\u001b[0m\n\u001b[1;32m     11\u001b[0m \u001b[0;31m# Display the sorted dataframe\u001b[0m\u001b[0;34m\u001b[0m\u001b[0;34m\u001b[0m\u001b[0m\n\u001b[1;32m     12\u001b[0m \u001b[0msorted_df\u001b[0m\u001b[0;34m[\u001b[0m\u001b[0;34m[\u001b[0m\u001b[0;34m'customer_'\u001b[0m\u001b[0;34m,\u001b[0m \u001b[0;34m'profit_sum'\u001b[0m\u001b[0;34m,\u001b[0m \u001b[0;34m'volume_sum'\u001b[0m\u001b[0;34m,\u001b[0m \u001b[0;34m'margin_category'\u001b[0m\u001b[0;34m]\u001b[0m\u001b[0;34m]\u001b[0m\u001b[0;34m.\u001b[0m\u001b[0mhead\u001b[0m\u001b[0;34m(\u001b[0m\u001b[0;36m20\u001b[0m\u001b[0;34m)\u001b[0m\u001b[0;34m\u001b[0m\u001b[0;34m\u001b[0m\u001b[0m\n",
      "\u001b[0;32m~/anaconda3/lib/python3.12/site-packages/pandas/core/frame.py\u001b[0m in \u001b[0;36m?\u001b[0;34m(self, by, axis, ascending, inplace, kind, na_position, ignore_index, key)\u001b[0m\n\u001b[1;32m   7168\u001b[0m                 \u001b[0;34mf\"\u001b[0m\u001b[0;34mLength of ascending (\u001b[0m\u001b[0;34m{\u001b[0m\u001b[0mlen\u001b[0m\u001b[0;34m(\u001b[0m\u001b[0mascending\u001b[0m\u001b[0;34m)\u001b[0m\u001b[0;34m}\u001b[0m\u001b[0;34m)\u001b[0m\u001b[0;34m\"\u001b[0m  \u001b[0;31m# type: ignore[arg-type]\u001b[0m\u001b[0;34m\u001b[0m\u001b[0;34m\u001b[0m\u001b[0m\n\u001b[1;32m   7169\u001b[0m                 \u001b[0;34mf\"\u001b[0m\u001b[0;34m != length of by (\u001b[0m\u001b[0;34m{\u001b[0m\u001b[0mlen\u001b[0m\u001b[0;34m(\u001b[0m\u001b[0mby\u001b[0m\u001b[0;34m)\u001b[0m\u001b[0;34m}\u001b[0m\u001b[0;34m)\u001b[0m\u001b[0;34m\"\u001b[0m\u001b[0;34m\u001b[0m\u001b[0;34m\u001b[0m\u001b[0m\n\u001b[1;32m   7170\u001b[0m             \u001b[0;34m)\u001b[0m\u001b[0;34m\u001b[0m\u001b[0;34m\u001b[0m\u001b[0m\n\u001b[1;32m   7171\u001b[0m         \u001b[0;32mif\u001b[0m \u001b[0mlen\u001b[0m\u001b[0;34m(\u001b[0m\u001b[0mby\u001b[0m\u001b[0;34m)\u001b[0m \u001b[0;34m>\u001b[0m \u001b[0;36m1\u001b[0m\u001b[0;34m:\u001b[0m\u001b[0;34m\u001b[0m\u001b[0;34m\u001b[0m\u001b[0m\n\u001b[0;32m-> 7172\u001b[0;31m             \u001b[0mkeys\u001b[0m \u001b[0;34m=\u001b[0m \u001b[0;34m[\u001b[0m\u001b[0mself\u001b[0m\u001b[0;34m.\u001b[0m\u001b[0m_get_label_or_level_values\u001b[0m\u001b[0;34m(\u001b[0m\u001b[0mx\u001b[0m\u001b[0;34m,\u001b[0m \u001b[0maxis\u001b[0m\u001b[0;34m=\u001b[0m\u001b[0maxis\u001b[0m\u001b[0;34m)\u001b[0m \u001b[0;32mfor\u001b[0m \u001b[0mx\u001b[0m \u001b[0;32min\u001b[0m \u001b[0mby\u001b[0m\u001b[0;34m]\u001b[0m\u001b[0;34m\u001b[0m\u001b[0;34m\u001b[0m\u001b[0m\n\u001b[0m\u001b[1;32m   7173\u001b[0m \u001b[0;34m\u001b[0m\u001b[0m\n\u001b[1;32m   7174\u001b[0m             \u001b[0;31m# need to rewrap columns in Series to apply key function\u001b[0m\u001b[0;34m\u001b[0m\u001b[0;34m\u001b[0m\u001b[0m\n\u001b[1;32m   7175\u001b[0m             \u001b[0;32mif\u001b[0m \u001b[0mkey\u001b[0m \u001b[0;32mis\u001b[0m \u001b[0;32mnot\u001b[0m \u001b[0;32mNone\u001b[0m\u001b[0;34m:\u001b[0m\u001b[0;34m\u001b[0m\u001b[0;34m\u001b[0m\u001b[0m\n",
      "\u001b[0;32m~/anaconda3/lib/python3.12/site-packages/pandas/core/generic.py\u001b[0m in \u001b[0;36m?\u001b[0;34m(self, key, axis)\u001b[0m\n\u001b[1;32m   1907\u001b[0m             \u001b[0mvalues\u001b[0m \u001b[0;34m=\u001b[0m \u001b[0mself\u001b[0m\u001b[0;34m.\u001b[0m\u001b[0mxs\u001b[0m\u001b[0;34m(\u001b[0m\u001b[0mkey\u001b[0m\u001b[0;34m,\u001b[0m \u001b[0maxis\u001b[0m\u001b[0;34m=\u001b[0m\u001b[0mother_axes\u001b[0m\u001b[0;34m[\u001b[0m\u001b[0;36m0\u001b[0m\u001b[0;34m]\u001b[0m\u001b[0;34m)\u001b[0m\u001b[0;34m.\u001b[0m\u001b[0m_values\u001b[0m\u001b[0;34m\u001b[0m\u001b[0;34m\u001b[0m\u001b[0m\n\u001b[1;32m   1908\u001b[0m         \u001b[0;32melif\u001b[0m \u001b[0mself\u001b[0m\u001b[0;34m.\u001b[0m\u001b[0m_is_level_reference\u001b[0m\u001b[0;34m(\u001b[0m\u001b[0mkey\u001b[0m\u001b[0;34m,\u001b[0m \u001b[0maxis\u001b[0m\u001b[0;34m=\u001b[0m\u001b[0maxis\u001b[0m\u001b[0;34m)\u001b[0m\u001b[0;34m:\u001b[0m\u001b[0;34m\u001b[0m\u001b[0;34m\u001b[0m\u001b[0m\n\u001b[1;32m   1909\u001b[0m             \u001b[0mvalues\u001b[0m \u001b[0;34m=\u001b[0m \u001b[0mself\u001b[0m\u001b[0;34m.\u001b[0m\u001b[0maxes\u001b[0m\u001b[0;34m[\u001b[0m\u001b[0maxis\u001b[0m\u001b[0;34m]\u001b[0m\u001b[0;34m.\u001b[0m\u001b[0mget_level_values\u001b[0m\u001b[0;34m(\u001b[0m\u001b[0mkey\u001b[0m\u001b[0;34m)\u001b[0m\u001b[0;34m.\u001b[0m\u001b[0m_values\u001b[0m\u001b[0;34m\u001b[0m\u001b[0;34m\u001b[0m\u001b[0m\n\u001b[1;32m   1910\u001b[0m         \u001b[0;32melse\u001b[0m\u001b[0;34m:\u001b[0m\u001b[0;34m\u001b[0m\u001b[0;34m\u001b[0m\u001b[0m\n\u001b[0;32m-> 1911\u001b[0;31m             \u001b[0;32mraise\u001b[0m \u001b[0mKeyError\u001b[0m\u001b[0;34m(\u001b[0m\u001b[0mkey\u001b[0m\u001b[0;34m)\u001b[0m\u001b[0;34m\u001b[0m\u001b[0;34m\u001b[0m\u001b[0m\n\u001b[0m\u001b[1;32m   1912\u001b[0m \u001b[0;34m\u001b[0m\u001b[0m\n\u001b[1;32m   1913\u001b[0m         \u001b[0;31m# Check for duplicates\u001b[0m\u001b[0;34m\u001b[0m\u001b[0;34m\u001b[0m\u001b[0m\n\u001b[1;32m   1914\u001b[0m         \u001b[0;32mif\u001b[0m \u001b[0mvalues\u001b[0m\u001b[0;34m.\u001b[0m\u001b[0mndim\u001b[0m \u001b[0;34m>\u001b[0m \u001b[0;36m1\u001b[0m\u001b[0;34m:\u001b[0m\u001b[0;34m\u001b[0m\u001b[0;34m\u001b[0m\u001b[0m\n",
      "\u001b[0;31mKeyError\u001b[0m: 'volume_sum'"
     ]
    }
   ],
   "source": [
    "# Create evenly spaced bins for margins\n",
    "bins = 5  # This creates 5 equal-width intervals\n",
    "labels = ['Very Low', 'Low', 'Medium', 'High', 'Very High']\n",
    "\n",
    "# Create margin categories based on equal-width bins\n",
    "df_TY_customer_merged['margin_category'] = pd.cut(df_TY_customer_merged['profit_sum'], bins=bins, labels=labels)\n",
    "\n",
    "# Sort by margin category and volume\n",
    "sorted_df = df_TY_customer_merged.sort_values(by=['margin_category', 'volume_sum'], ascending=[True, False])\n",
    "\n",
    "# Display the sorted dataframe\n",
    "sorted_df[['customer_', 'profit_sum', 'volume_sum', 'margin_category']].head(20)\n"
   ]
  },
  {
   "cell_type": "code",
   "execution_count": null,
   "metadata": {},
   "outputs": [
    {
     "ename": "KeyError",
     "evalue": "'margin_category'",
     "output_type": "error",
     "traceback": [
      "\u001b[0;31m---------------------------------------------------------------------------\u001b[0m",
      "\u001b[0;31mKeyError\u001b[0m                                  Traceback (most recent call last)",
      "File \u001b[0;32m~/anaconda3/lib/python3.12/site-packages/pandas/core/indexes/base.py:3805\u001b[0m, in \u001b[0;36mIndex.get_loc\u001b[0;34m(self, key)\u001b[0m\n\u001b[1;32m   3804\u001b[0m \u001b[38;5;28;01mtry\u001b[39;00m:\n\u001b[0;32m-> 3805\u001b[0m     \u001b[38;5;28;01mreturn\u001b[39;00m \u001b[38;5;28mself\u001b[39m\u001b[38;5;241m.\u001b[39m_engine\u001b[38;5;241m.\u001b[39mget_loc(casted_key)\n\u001b[1;32m   3806\u001b[0m \u001b[38;5;28;01mexcept\u001b[39;00m \u001b[38;5;167;01mKeyError\u001b[39;00m \u001b[38;5;28;01mas\u001b[39;00m err:\n",
      "File \u001b[0;32mindex.pyx:167\u001b[0m, in \u001b[0;36mpandas._libs.index.IndexEngine.get_loc\u001b[0;34m()\u001b[0m\n",
      "File \u001b[0;32mindex.pyx:196\u001b[0m, in \u001b[0;36mpandas._libs.index.IndexEngine.get_loc\u001b[0;34m()\u001b[0m\n",
      "File \u001b[0;32mpandas/_libs/hashtable_class_helper.pxi:7081\u001b[0m, in \u001b[0;36mpandas._libs.hashtable.PyObjectHashTable.get_item\u001b[0;34m()\u001b[0m\n",
      "File \u001b[0;32mpandas/_libs/hashtable_class_helper.pxi:7089\u001b[0m, in \u001b[0;36mpandas._libs.hashtable.PyObjectHashTable.get_item\u001b[0;34m()\u001b[0m\n",
      "\u001b[0;31mKeyError\u001b[0m: 'margin_category'",
      "\nThe above exception was the direct cause of the following exception:\n",
      "\u001b[0;31mKeyError\u001b[0m                                  Traceback (most recent call last)",
      "Cell \u001b[0;32mIn[20], line 1\u001b[0m\n\u001b[0;32m----> 1\u001b[0m df_TY_customer_merged[\u001b[38;5;124m\"\u001b[39m\u001b[38;5;124mmargin_category\u001b[39m\u001b[38;5;124m\"\u001b[39m]\u001b[38;5;241m.\u001b[39mvalue_counts()[\u001b[38;5;124m'\u001b[39m\u001b[38;5;124mVery High\u001b[39m\u001b[38;5;124m'\u001b[39m]\n",
      "File \u001b[0;32m~/anaconda3/lib/python3.12/site-packages/pandas/core/frame.py:4102\u001b[0m, in \u001b[0;36mDataFrame.__getitem__\u001b[0;34m(self, key)\u001b[0m\n\u001b[1;32m   4100\u001b[0m \u001b[38;5;28;01mif\u001b[39;00m \u001b[38;5;28mself\u001b[39m\u001b[38;5;241m.\u001b[39mcolumns\u001b[38;5;241m.\u001b[39mnlevels \u001b[38;5;241m>\u001b[39m \u001b[38;5;241m1\u001b[39m:\n\u001b[1;32m   4101\u001b[0m     \u001b[38;5;28;01mreturn\u001b[39;00m \u001b[38;5;28mself\u001b[39m\u001b[38;5;241m.\u001b[39m_getitem_multilevel(key)\n\u001b[0;32m-> 4102\u001b[0m indexer \u001b[38;5;241m=\u001b[39m \u001b[38;5;28mself\u001b[39m\u001b[38;5;241m.\u001b[39mcolumns\u001b[38;5;241m.\u001b[39mget_loc(key)\n\u001b[1;32m   4103\u001b[0m \u001b[38;5;28;01mif\u001b[39;00m is_integer(indexer):\n\u001b[1;32m   4104\u001b[0m     indexer \u001b[38;5;241m=\u001b[39m [indexer]\n",
      "File \u001b[0;32m~/anaconda3/lib/python3.12/site-packages/pandas/core/indexes/base.py:3812\u001b[0m, in \u001b[0;36mIndex.get_loc\u001b[0;34m(self, key)\u001b[0m\n\u001b[1;32m   3807\u001b[0m     \u001b[38;5;28;01mif\u001b[39;00m \u001b[38;5;28misinstance\u001b[39m(casted_key, \u001b[38;5;28mslice\u001b[39m) \u001b[38;5;129;01mor\u001b[39;00m (\n\u001b[1;32m   3808\u001b[0m         \u001b[38;5;28misinstance\u001b[39m(casted_key, abc\u001b[38;5;241m.\u001b[39mIterable)\n\u001b[1;32m   3809\u001b[0m         \u001b[38;5;129;01mand\u001b[39;00m \u001b[38;5;28many\u001b[39m(\u001b[38;5;28misinstance\u001b[39m(x, \u001b[38;5;28mslice\u001b[39m) \u001b[38;5;28;01mfor\u001b[39;00m x \u001b[38;5;129;01min\u001b[39;00m casted_key)\n\u001b[1;32m   3810\u001b[0m     ):\n\u001b[1;32m   3811\u001b[0m         \u001b[38;5;28;01mraise\u001b[39;00m InvalidIndexError(key)\n\u001b[0;32m-> 3812\u001b[0m     \u001b[38;5;28;01mraise\u001b[39;00m \u001b[38;5;167;01mKeyError\u001b[39;00m(key) \u001b[38;5;28;01mfrom\u001b[39;00m \u001b[38;5;21;01merr\u001b[39;00m\n\u001b[1;32m   3813\u001b[0m \u001b[38;5;28;01mexcept\u001b[39;00m \u001b[38;5;167;01mTypeError\u001b[39;00m:\n\u001b[1;32m   3814\u001b[0m     \u001b[38;5;66;03m# If we have a listlike key, _check_indexing_error will raise\u001b[39;00m\n\u001b[1;32m   3815\u001b[0m     \u001b[38;5;66;03m#  InvalidIndexError. Otherwise we fall through and re-raise\u001b[39;00m\n\u001b[1;32m   3816\u001b[0m     \u001b[38;5;66;03m#  the TypeError.\u001b[39;00m\n\u001b[1;32m   3817\u001b[0m     \u001b[38;5;28mself\u001b[39m\u001b[38;5;241m.\u001b[39m_check_indexing_error(key)\n",
      "\u001b[0;31mKeyError\u001b[0m: 'margin_category'"
     ]
    }
   ],
   "source": [
    "df_TY_customer_merged[\"margin_category\"].value_counts()['Very High']"
   ]
  },
  {
   "cell_type": "code",
   "execution_count": null,
   "metadata": {},
   "outputs": [
    {
     "ename": "KeyError",
     "evalue": "'margin_category'",
     "output_type": "error",
     "traceback": [
      "\u001b[0;31m---------------------------------------------------------------------------\u001b[0m",
      "\u001b[0;31mKeyError\u001b[0m                                  Traceback (most recent call last)",
      "File \u001b[0;32m~/anaconda3/lib/python3.12/site-packages/pandas/core/indexes/base.py:3805\u001b[0m, in \u001b[0;36mIndex.get_loc\u001b[0;34m(self, key)\u001b[0m\n\u001b[1;32m   3804\u001b[0m \u001b[38;5;28;01mtry\u001b[39;00m:\n\u001b[0;32m-> 3805\u001b[0m     \u001b[38;5;28;01mreturn\u001b[39;00m \u001b[38;5;28mself\u001b[39m\u001b[38;5;241m.\u001b[39m_engine\u001b[38;5;241m.\u001b[39mget_loc(casted_key)\n\u001b[1;32m   3806\u001b[0m \u001b[38;5;28;01mexcept\u001b[39;00m \u001b[38;5;167;01mKeyError\u001b[39;00m \u001b[38;5;28;01mas\u001b[39;00m err:\n",
      "File \u001b[0;32mindex.pyx:167\u001b[0m, in \u001b[0;36mpandas._libs.index.IndexEngine.get_loc\u001b[0;34m()\u001b[0m\n",
      "File \u001b[0;32mindex.pyx:196\u001b[0m, in \u001b[0;36mpandas._libs.index.IndexEngine.get_loc\u001b[0;34m()\u001b[0m\n",
      "File \u001b[0;32mpandas/_libs/hashtable_class_helper.pxi:7081\u001b[0m, in \u001b[0;36mpandas._libs.hashtable.PyObjectHashTable.get_item\u001b[0;34m()\u001b[0m\n",
      "File \u001b[0;32mpandas/_libs/hashtable_class_helper.pxi:7089\u001b[0m, in \u001b[0;36mpandas._libs.hashtable.PyObjectHashTable.get_item\u001b[0;34m()\u001b[0m\n",
      "\u001b[0;31mKeyError\u001b[0m: 'margin_category'",
      "\nThe above exception was the direct cause of the following exception:\n",
      "\u001b[0;31mKeyError\u001b[0m                                  Traceback (most recent call last)",
      "Cell \u001b[0;32mIn[21], line 2\u001b[0m\n\u001b[1;32m      1\u001b[0m \u001b[38;5;66;03m# Plot the number of customers in each margin category\u001b[39;00m\n\u001b[0;32m----> 2\u001b[0m df_TY_customer_merged[\u001b[38;5;124m'\u001b[39m\u001b[38;5;124mmargin_category\u001b[39m\u001b[38;5;124m'\u001b[39m]\u001b[38;5;241m.\u001b[39mvalue_counts()\u001b[38;5;241m.\u001b[39msort_index()\u001b[38;5;241m.\u001b[39mplot(kind\u001b[38;5;241m=\u001b[39m\u001b[38;5;124m'\u001b[39m\u001b[38;5;124mbar\u001b[39m\u001b[38;5;124m'\u001b[39m)\n\u001b[1;32m      4\u001b[0m \u001b[38;5;66;03m# Add labels and title\u001b[39;00m\n\u001b[1;32m      5\u001b[0m plt\u001b[38;5;241m.\u001b[39mxlabel(\u001b[38;5;124m'\u001b[39m\u001b[38;5;124mMargin Category\u001b[39m\u001b[38;5;124m'\u001b[39m)\n",
      "File \u001b[0;32m~/anaconda3/lib/python3.12/site-packages/pandas/core/frame.py:4102\u001b[0m, in \u001b[0;36mDataFrame.__getitem__\u001b[0;34m(self, key)\u001b[0m\n\u001b[1;32m   4100\u001b[0m \u001b[38;5;28;01mif\u001b[39;00m \u001b[38;5;28mself\u001b[39m\u001b[38;5;241m.\u001b[39mcolumns\u001b[38;5;241m.\u001b[39mnlevels \u001b[38;5;241m>\u001b[39m \u001b[38;5;241m1\u001b[39m:\n\u001b[1;32m   4101\u001b[0m     \u001b[38;5;28;01mreturn\u001b[39;00m \u001b[38;5;28mself\u001b[39m\u001b[38;5;241m.\u001b[39m_getitem_multilevel(key)\n\u001b[0;32m-> 4102\u001b[0m indexer \u001b[38;5;241m=\u001b[39m \u001b[38;5;28mself\u001b[39m\u001b[38;5;241m.\u001b[39mcolumns\u001b[38;5;241m.\u001b[39mget_loc(key)\n\u001b[1;32m   4103\u001b[0m \u001b[38;5;28;01mif\u001b[39;00m is_integer(indexer):\n\u001b[1;32m   4104\u001b[0m     indexer \u001b[38;5;241m=\u001b[39m [indexer]\n",
      "File \u001b[0;32m~/anaconda3/lib/python3.12/site-packages/pandas/core/indexes/base.py:3812\u001b[0m, in \u001b[0;36mIndex.get_loc\u001b[0;34m(self, key)\u001b[0m\n\u001b[1;32m   3807\u001b[0m     \u001b[38;5;28;01mif\u001b[39;00m \u001b[38;5;28misinstance\u001b[39m(casted_key, \u001b[38;5;28mslice\u001b[39m) \u001b[38;5;129;01mor\u001b[39;00m (\n\u001b[1;32m   3808\u001b[0m         \u001b[38;5;28misinstance\u001b[39m(casted_key, abc\u001b[38;5;241m.\u001b[39mIterable)\n\u001b[1;32m   3809\u001b[0m         \u001b[38;5;129;01mand\u001b[39;00m \u001b[38;5;28many\u001b[39m(\u001b[38;5;28misinstance\u001b[39m(x, \u001b[38;5;28mslice\u001b[39m) \u001b[38;5;28;01mfor\u001b[39;00m x \u001b[38;5;129;01min\u001b[39;00m casted_key)\n\u001b[1;32m   3810\u001b[0m     ):\n\u001b[1;32m   3811\u001b[0m         \u001b[38;5;28;01mraise\u001b[39;00m InvalidIndexError(key)\n\u001b[0;32m-> 3812\u001b[0m     \u001b[38;5;28;01mraise\u001b[39;00m \u001b[38;5;167;01mKeyError\u001b[39;00m(key) \u001b[38;5;28;01mfrom\u001b[39;00m \u001b[38;5;21;01merr\u001b[39;00m\n\u001b[1;32m   3813\u001b[0m \u001b[38;5;28;01mexcept\u001b[39;00m \u001b[38;5;167;01mTypeError\u001b[39;00m:\n\u001b[1;32m   3814\u001b[0m     \u001b[38;5;66;03m# If we have a listlike key, _check_indexing_error will raise\u001b[39;00m\n\u001b[1;32m   3815\u001b[0m     \u001b[38;5;66;03m#  InvalidIndexError. Otherwise we fall through and re-raise\u001b[39;00m\n\u001b[1;32m   3816\u001b[0m     \u001b[38;5;66;03m#  the TypeError.\u001b[39;00m\n\u001b[1;32m   3817\u001b[0m     \u001b[38;5;28mself\u001b[39m\u001b[38;5;241m.\u001b[39m_check_indexing_error(key)\n",
      "\u001b[0;31mKeyError\u001b[0m: 'margin_category'"
     ]
    }
   ],
   "source": [
    "# Plot the number of customers in each margin category\n",
    "df_TY_customer_merged['margin_category'].value_counts().sort_index().plot(kind='bar')\n",
    "\n",
    "# Add labels and title\n",
    "plt.xlabel('Margin Category')\n",
    "plt.ylabel('Number of Customers')\n",
    "plt.title('Number of Customers by Margin Category')\n",
    "\n",
    "# Show the plot\n",
    "plt.show()"
   ]
  },
  {
   "cell_type": "code",
   "execution_count": null,
   "metadata": {},
   "outputs": [
    {
     "name": "stdout",
     "output_type": "stream",
     "text": [
      "<class 'pandas.core.frame.DataFrame'>\n",
      "RangeIndex: 1070 entries, 0 to 1069\n",
      "Data columns (total 5 columns):\n",
      " #   Column            Non-Null Count  Dtype   \n",
      "---  ------            --------------  -----   \n",
      " 0   customer_         1070 non-null   int64   \n",
      " 1   profit_sum        1070 non-null   float64 \n",
      " 2   sales_sum         1070 non-null   float64 \n",
      " 3   Modified Z-Score  1070 non-null   float64 \n",
      " 4   profit_category   1070 non-null   category\n",
      "dtypes: category(1), float64(3), int64(1)\n",
      "memory usage: 34.8 KB\n"
     ]
    }
   ],
   "source": [
    "df_TY_customer_merged.info()"
   ]
  },
  {
   "cell_type": "code",
   "execution_count": null,
   "metadata": {},
   "outputs": [
    {
     "name": "stdout",
     "output_type": "stream",
     "text": [
      "593\n"
     ]
    }
   ],
   "source": [
    "# ----- vanessa -----\n",
    "# Get unique values from 'postcode_customer' column\n",
    "# customer_postcode_set = df_TY_users['postcode_customer'].unique()\n",
    "\n",
    "# Convert the list of unique values to a set\n",
    "# customer_set = set(customer_postcode_set)\n",
    "\n",
    "# Print count of unique values\n",
    "# print(\"Count: \", len(customer_set))\n",
    "\n",
    "count_customer_postcode = df_TY_users['postcode_customer'].nunique()\n",
    "print(count_customer_postcode)"
   ]
  },
  {
   "cell_type": "code",
   "execution_count": null,
   "metadata": {},
   "outputs": [
    {
     "name": "stdout",
     "output_type": "stream",
     "text": [
      "659\n"
     ]
    }
   ],
   "source": [
    "# Get unique values from 'postcode_delivery' column\n",
    "# delivery_postcode_set = df_TY_users['postcode_delivery'].unique()\n",
    "\n",
    "# Convert the list of unique values to a set\n",
    "# delivery_set = set(delivery_postcode_set)\n",
    "\n",
    "# Print count of unique values\n",
    "# print(\"Count: \", len(delivery_set))\n",
    "\n",
    "count_delivery_postcode = df_TY_users['postcode_delivery'].nunique()\n",
    "print(count_delivery_postcode)"
   ]
  },
  {
   "cell_type": "code",
   "execution_count": null,
   "metadata": {},
   "outputs": [
    {
     "name": "stdout",
     "output_type": "stream",
     "text": [
      "66\n"
     ]
    }
   ],
   "source": [
    "# difference between no of unique delivery postcodes and the customer postcodes\n",
    "dropshippers_count = count_delivery_postcode - count_customer_postcode\n",
    "\n",
    "print(dropshippers_count)"
   ]
  },
  {
   "cell_type": "code",
   "execution_count": null,
   "metadata": {},
   "outputs": [
    {
     "name": "stdout",
     "output_type": "stream",
     "text": [
      "Number of mismatched rows: 71089\n",
      "    customer  invoice invoice_date  artikelnr  volume    sum1    sum2  \\\n",
      "19      1236  1187648   2020-01-03    3025558     100   22.70   28.78   \n",
      "20      1236  1187648   2020-01-03    6205512     400   12.58   14.00   \n",
      "75       595  1189396   2020-01-10    8591166       1  179.91  194.23   \n",
      "76       595  1189396   2020-01-10    8591372       1   26.14   26.66   \n",
      "77       595  1189396   2020-01-10    8590531       2   57.25   59.00   \n",
      "78       595  1189396   2020-01-10    8591737       2   81.64   71.67   \n",
      "79       595  1189396   2020-01-10    8590572       2   23.90   23.79   \n",
      "80       595  1189396   2020-01-10    8590630      15   13.10   14.65   \n",
      "81       595  1189396   2020-01-10    8590721      15   14.95   14.65   \n",
      "82       595  1189396   2020-01-10    8590788      10    9.97    9.77   \n",
      "\n",
      "    postcode_delivery  postcode_customer    channel  profit  \n",
      "19              81620              81689  ERP Order    6.08  \n",
      "20              81620              81689  ERP Order    1.42  \n",
      "75              85004              81716  Tel 81812   14.32  \n",
      "76              85004              81716  Tel 81812    0.52  \n",
      "77              85004              81716  Tel 81812    1.75  \n",
      "78              85004              81716  Tel 81812   -9.97  \n",
      "79              85004              81716  Tel 81812   -0.11  \n",
      "80              85004              81716  Tel 81812    1.55  \n",
      "81              85004              81716  Tel 81812   -0.30  \n",
      "82              85004              81716  Tel 81812   -0.20  \n"
     ]
    }
   ],
   "source": [
    "# ----- wendy -----\n",
    "mismatched_postcode = df_TY_users[df_TY_users[\"postcode_delivery\"] != df_TY_users[\"postcode_customer\"]]\n",
    "print(f\"Number of mismatched rows: {mismatched_postcode.shape[0]}\")\n",
    "\n",
    "# Step 3: Optionally, you can display a sample of mismatched rows to verify\n",
    "print(mismatched_postcode.head(10))\n"
   ]
  },
  {
   "cell_type": "code",
   "execution_count": null,
   "metadata": {},
   "outputs": [
    {
     "data": {
      "text/html": [
       "<div>\n",
       "<style scoped>\n",
       "    .dataframe tbody tr th:only-of-type {\n",
       "        vertical-align: middle;\n",
       "    }\n",
       "\n",
       "    .dataframe tbody tr th {\n",
       "        vertical-align: top;\n",
       "    }\n",
       "\n",
       "    .dataframe thead th {\n",
       "        text-align: right;\n",
       "    }\n",
       "</style>\n",
       "<table border=\"1\" class=\"dataframe\">\n",
       "  <thead>\n",
       "    <tr style=\"text-align: right;\">\n",
       "      <th></th>\n",
       "      <th>postcode_delivery</th>\n",
       "      <th>postcode_customer</th>\n",
       "      <th>mismatch</th>\n",
       "      <th>volume</th>\n",
       "    </tr>\n",
       "  </thead>\n",
       "  <tbody>\n",
       "    <tr>\n",
       "      <th>0</th>\n",
       "      <td>80413</td>\n",
       "      <td>80413</td>\n",
       "      <td>No</td>\n",
       "      <td>24</td>\n",
       "    </tr>\n",
       "    <tr>\n",
       "      <th>1</th>\n",
       "      <td>80413</td>\n",
       "      <td>80413</td>\n",
       "      <td>No</td>\n",
       "      <td>60</td>\n",
       "    </tr>\n",
       "    <tr>\n",
       "      <th>2</th>\n",
       "      <td>80413</td>\n",
       "      <td>80413</td>\n",
       "      <td>No</td>\n",
       "      <td>120</td>\n",
       "    </tr>\n",
       "    <tr>\n",
       "      <th>3</th>\n",
       "      <td>81724</td>\n",
       "      <td>81724</td>\n",
       "      <td>No</td>\n",
       "      <td>1</td>\n",
       "    </tr>\n",
       "    <tr>\n",
       "      <th>4</th>\n",
       "      <td>81796</td>\n",
       "      <td>81796</td>\n",
       "      <td>No</td>\n",
       "      <td>4</td>\n",
       "    </tr>\n",
       "    <tr>\n",
       "      <th>5</th>\n",
       "      <td>81681</td>\n",
       "      <td>81681</td>\n",
       "      <td>No</td>\n",
       "      <td>1</td>\n",
       "    </tr>\n",
       "    <tr>\n",
       "      <th>6</th>\n",
       "      <td>81681</td>\n",
       "      <td>81681</td>\n",
       "      <td>No</td>\n",
       "      <td>1</td>\n",
       "    </tr>\n",
       "    <tr>\n",
       "      <th>7</th>\n",
       "      <td>81681</td>\n",
       "      <td>81681</td>\n",
       "      <td>No</td>\n",
       "      <td>1</td>\n",
       "    </tr>\n",
       "    <tr>\n",
       "      <th>8</th>\n",
       "      <td>81681</td>\n",
       "      <td>81681</td>\n",
       "      <td>No</td>\n",
       "      <td>4</td>\n",
       "    </tr>\n",
       "    <tr>\n",
       "      <th>9</th>\n",
       "      <td>81681</td>\n",
       "      <td>81681</td>\n",
       "      <td>No</td>\n",
       "      <td>2</td>\n",
       "    </tr>\n",
       "  </tbody>\n",
       "</table>\n",
       "</div>"
      ],
      "text/plain": [
       "   postcode_delivery  postcode_customer mismatch  volume\n",
       "0              80413              80413       No      24\n",
       "1              80413              80413       No      60\n",
       "2              80413              80413       No     120\n",
       "3              81724              81724       No       1\n",
       "4              81796              81796       No       4\n",
       "5              81681              81681       No       1\n",
       "6              81681              81681       No       1\n",
       "7              81681              81681       No       1\n",
       "8              81681              81681       No       4\n",
       "9              81681              81681       No       2"
      ]
     },
     "execution_count": 28,
     "metadata": {},
     "output_type": "execute_result"
    }
   ],
   "source": [
    "# Create a new column 'mismatch' using a vectorized comparison\n",
    "df_TY_users['mismatch'] = df_TY_users[\"postcode_delivery\"] != df_TY_users[\"postcode_customer\"]\n",
    "df_TY_users['mismatch'] = df_TY_users['mismatch'].replace({True: 'Yes', False: 'No'})\n",
    "\n",
    "# Display a few rows to verify\n",
    "df_TY_users[['postcode_delivery', 'postcode_customer', 'mismatch', 'volume']].head(10)"
   ]
  }
 ],
 "metadata": {
  "kernelspec": {
   "display_name": "base",
   "language": "python",
   "name": "python3"
  },
  "language_info": {
   "codemirror_mode": {
    "name": "ipython",
    "version": 3
   },
   "file_extension": ".py",
   "mimetype": "text/x-python",
   "name": "python",
   "nbconvert_exporter": "python",
   "pygments_lexer": "ipython3",
   "version": "3.12.4"
  }
 },
 "nbformat": 4,
 "nbformat_minor": 2
}
